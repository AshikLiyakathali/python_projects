{
 "cells": [
  {
   "cell_type": "code",
   "execution_count": 1,
   "id": "c0783d76",
   "metadata": {},
   "outputs": [],
   "source": [
    "# project: p3\n",
    "# submitter: ashik\n",
    "# partner: None\n",
    "# hours: 4"
   ]
  },
  {
   "cell_type": "code",
   "execution_count": 1,
   "id": "57efeea1",
   "metadata": {},
   "outputs": [],
   "source": [
    "import project\n",
    "import math"
   ]
  },
  {
   "cell_type": "code",
   "execution_count": 7,
   "id": "d25f4a52",
   "metadata": {
    "scrolled": false
   },
   "outputs": [
    {
     "name": "stdout",
     "output_type": "stream",
     "text": [
      "Help on module project:\n",
      "\n",
      "NAME\n",
      "    project\n",
      "\n",
      "FUNCTIONS\n",
      "    dump()\n",
      "        prints all the data to the screen\n",
      "    \n",
      "    get_consumption(energy_idx, year=2020)\n",
      "        get_consumption(energy_idx, year) returns the Btu consumed (in Trillions) in the specified energy in specified year.\n",
      "    \n",
      "    get_idx(energy)\n",
      "        get_idx(energy) returns the index of the specified energy.\n",
      "    \n",
      "    init(path)\n",
      "        init(path) must be called to load data before other calls will work.  You should call it like this: init(\"energy.csv\")\n",
      "\n",
      "FILE\n",
      "    /Users/axl115/Documents/Digital Builder Program/CS220/Projects/P3/project.py\n",
      "\n",
      "\n"
     ]
    }
   ],
   "source": [
    "help(project)"
   ]
  },
  {
   "cell_type": "code",
   "execution_count": 2,
   "id": "165018b8",
   "metadata": {},
   "outputs": [
    {
     "data": {
      "text/plain": [
       "3"
      ]
     },
     "execution_count": 2,
     "metadata": {},
     "output_type": "execute_result"
    }
   ],
   "source": [
    "#q1: What is the index of Solar Energy?\n",
    "\n",
    "project.init(\"energy.csv\")\n",
    "project.get_idx(\"Solar Energy\")\n"
   ]
  },
  {
   "cell_type": "code",
   "execution_count": 10,
   "id": "212d00c7",
   "metadata": {},
   "outputs": [
    {
     "name": "stdout",
     "output_type": "stream",
     "text": [
      "Biomass Energy [Index 7]\n",
      "  2015: 524.879000 Trillion Btu\n",
      "  2016: 505.069000 Trillion Btu\n",
      "  2017: 509.541000 Trillion Btu\n",
      "  2018: 496.085000 Trillion Btu\n",
      "  2019: 448.137000 Trillion Btu\n",
      "  2020: 423.513000 Trillion Btu\n",
      "\n",
      "Conventional Hydroelectric Power [Index 1]\n",
      "  2015: 2307.717000 Trillion Btu\n",
      "  2016: 2458.721000 Trillion Btu\n",
      "  2017: 2752.024000 Trillion Btu\n",
      "  2018: 2650.608000 Trillion Btu\n",
      "  2019: 2552.636000 Trillion Btu\n",
      "  2020: 2581.291000 Trillion Btu\n",
      "\n",
      "Solar Energy [Index 3]\n",
      "  2015: 227.901000 Trillion Btu\n",
      "  2016: 327.712000 Trillion Btu\n",
      "  2017: 485.742000 Trillion Btu\n",
      "  2018: 575.854000 Trillion Btu\n",
      "  2019: 634.613000 Trillion Btu\n",
      "  2020: 802.317000 Trillion Btu\n",
      "\n",
      "Wind Energy [Index 4]\n",
      "  2015: 1775.705000 Trillion Btu\n",
      "  2016: 2093.728000 Trillion Btu\n",
      "  2017: 2340.784000 Trillion Btu\n",
      "  2018: 2479.897000 Trillion Btu\n",
      "  2019: 2632.354000 Trillion Btu\n",
      "  2020: 2998.142000 Trillion Btu\n",
      "\n",
      "Wood Energy [Index 5]\n",
      "  2015: 243.857000 Trillion Btu\n",
      "  2016: 224.407000 Trillion Btu\n",
      "  2017: 229.324000 Trillion Btu\n",
      "  2018: 221.063000 Trillion Btu\n",
      "  2019: 200.524000 Trillion Btu\n",
      "  2020: 185.145000 Trillion Btu\n",
      "\n"
     ]
    }
   ],
   "source": [
    "project.dump()"
   ]
  },
  {
   "cell_type": "code",
   "execution_count": 11,
   "id": "6a6f68c0",
   "metadata": {},
   "outputs": [
    {
     "data": {
      "text/plain": [
       "185.145"
      ]
     },
     "execution_count": 11,
     "metadata": {},
     "output_type": "execute_result"
    }
   ],
   "source": [
    "#q2: How much of the Wood Energy was consumed by the US electric power sector in 2020?\n",
    "\n",
    "project.get_consumption(project.get_idx(\"Wood Energy\"), 2020)\n"
   ]
  },
  {
   "cell_type": "code",
   "execution_count": 4,
   "id": "e6177b71",
   "metadata": {},
   "outputs": [],
   "source": [
    "# Declaring variables to get the ids of each energy source\n",
    "\n",
    "hydroelectric_idx = project.get_idx(\"Conventional Hydroelectric Power\")\n",
    "solar_idx = project.get_idx(\"Solar Energy\")\n",
    "wind_idx = project.get_idx(\"Wind Energy\")\n",
    "wood_idx = project.get_idx(\"Wood Energy\")\n",
    "biomass_idx = project.get_idx(\"Biomass Energy\")\n"
   ]
  },
  {
   "cell_type": "code",
   "execution_count": 5,
   "id": "bcc1ae3e",
   "metadata": {},
   "outputs": [
    {
     "data": {
      "text/plain": [
       "2307.717"
      ]
     },
     "execution_count": 5,
     "metadata": {},
     "output_type": "execute_result"
    }
   ],
   "source": [
    "#q3: How much Conventional Hydroelectric Power was consumed by the US electric power sector in 2015?\n",
    "\n",
    "project.get_consumption(hydroelectric_idx, 2015)\n"
   ]
  },
  {
   "cell_type": "code",
   "execution_count": 6,
   "id": "8869ad7d",
   "metadata": {},
   "outputs": [],
   "source": [
    "# Function 1: year_max(year)\n",
    "\n",
    "def year_max(year):\n",
    "\n",
    "    hydroelectric_consumption = project.get_consumption(hydroelectric_idx, year)\n",
    "    solar_consumption = project.get_consumption(solar_idx, year)\n",
    "    wind_consumption = project.get_consumption(wind_idx, year)\n",
    "    wood_consumption = project.get_consumption(wood_idx, year)    \n",
    "    biomass_consumption = project.get_consumption(biomass_idx, year)\n",
    "\n",
    "    return max(hydroelectric_consumption, solar_consumption, wind_consumption, wood_consumption, biomass_consumption)\n"
   ]
  },
  {
   "cell_type": "code",
   "execution_count": 7,
   "id": "f3141c3c",
   "metadata": {},
   "outputs": [
    {
     "data": {
      "text/plain": [
       "2752.024"
      ]
     },
     "execution_count": 7,
     "metadata": {},
     "output_type": "execute_result"
    }
   ],
   "source": [
    "#q4: In 2017, what was the largest amount of energy consumed by the US electric power sector from a single renewable energy source?\n",
    "\n",
    "year_max(2017)\n"
   ]
  },
  {
   "cell_type": "code",
   "execution_count": 8,
   "id": "92853155",
   "metadata": {},
   "outputs": [
    {
     "data": {
      "text/plain": [
       "2998.142"
      ]
     },
     "execution_count": 8,
     "metadata": {},
     "output_type": "execute_result"
    }
   ],
   "source": [
    "#q5: What was the the largest amount of energy consumed by the US electric power sector from a single renewable energy source between 2015 and 2020?\n",
    "\n",
    "max(year_max(2015), year_max(2016), year_max(2017), year_max(2018), year_max(2019), year_max(2020))\n"
   ]
  },
  {
   "cell_type": "code",
   "execution_count": 9,
   "id": "b6616b37",
   "metadata": {},
   "outputs": [],
   "source": [
    "# Function 2: energy_min(source)\n",
    "\n",
    "def energy_min(source):\n",
    "    \n",
    "    source_idx = project.get_idx(source)    \n",
    "    \n",
    "    y15 = project.get_consumption(source_idx, 2015)\n",
    "    y16 = project.get_consumption(source_idx, 2016)\n",
    "    y17 = project.get_consumption(source_idx, 2017)\n",
    "    y18 = project.get_consumption(source_idx, 2018)\n",
    "    y19 = project.get_consumption(source_idx, 2019)\n",
    "    y20 = project.get_consumption(source_idx, 2020)\n",
    "    \n",
    "    return min(y15, y16, y17, y18, y19, y20)\n"
   ]
  },
  {
   "cell_type": "code",
   "execution_count": 10,
   "id": "657889de",
   "metadata": {},
   "outputs": [
    {
     "data": {
      "text/plain": [
       "227.901"
      ]
     },
     "execution_count": 10,
     "metadata": {},
     "output_type": "execute_result"
    }
   ],
   "source": [
    "#q6: What was the minimum amount of Solar Energy consumed by the US electric power sector in a single year?\n",
    "\n",
    "energy_min(\"Solar Energy\")\n"
   ]
  },
  {
   "cell_type": "code",
   "execution_count": 11,
   "id": "a31dcc63",
   "metadata": {},
   "outputs": [
    {
     "data": {
      "text/plain": [
       "1775.705"
      ]
     },
     "execution_count": 11,
     "metadata": {},
     "output_type": "execute_result"
    }
   ],
   "source": [
    "#q7: What was the minimum amount of Wind Energy consumed by the US electric power sector in a single year?\n",
    "\n",
    "energy_min(\"Wind Energy\")\n"
   ]
  },
  {
   "cell_type": "code",
   "execution_count": 12,
   "id": "aa996e86",
   "metadata": {},
   "outputs": [],
   "source": [
    "# Function 3: energy_avg(energy_source)\n",
    "\n",
    "def energy_avg(energy_source):\n",
    "    \n",
    "    source_idx = project.get_idx(energy_source)    \n",
    "    \n",
    "    y15 = project.get_consumption(source_idx, 2015)\n",
    "    y16 = project.get_consumption(source_idx, 2016)\n",
    "    y17 = project.get_consumption(source_idx, 2017)\n",
    "    y18 = project.get_consumption(source_idx, 2018)\n",
    "    y19 = project.get_consumption(source_idx, 2019)\n",
    "    y20 = project.get_consumption(source_idx, 2020)\n",
    "    \n",
    "    avg = (y15 + y16 + y17 + y18 + y19 + y20) / 6\n",
    "    \n",
    "    return avg\n"
   ]
  },
  {
   "cell_type": "code",
   "execution_count": 13,
   "id": "0f16d15f",
   "metadata": {},
   "outputs": [
    {
     "data": {
      "text/plain": [
       "484.5373333333334"
      ]
     },
     "execution_count": 13,
     "metadata": {},
     "output_type": "execute_result"
    }
   ],
   "source": [
    "#q8: How much Biomass Energy was consumed by the US electric power sector on average between 2015 and 2020?\n",
    "\n",
    "energy_avg(\"Biomass Energy\")\n"
   ]
  },
  {
   "cell_type": "code",
   "execution_count": 14,
   "id": "405bcc6f",
   "metadata": {},
   "outputs": [
    {
     "data": {
      "text/plain": [
       "2550.4995"
      ]
     },
     "execution_count": 14,
     "metadata": {},
     "output_type": "execute_result"
    }
   ],
   "source": [
    "#q9: How much Conventional Hydroelectric Power was consumed by the US electric power sector on average between 2015 and 2020?\n",
    "\n",
    "energy_avg(\"Conventional Hydroelectric Power\")\n"
   ]
  },
  {
   "cell_type": "code",
   "execution_count": 15,
   "id": "897fd017",
   "metadata": {},
   "outputs": [
    {
     "data": {
      "text/plain": [
       "10.289463926466809"
      ]
     },
     "execution_count": 15,
     "metadata": {},
     "output_type": "execute_result"
    }
   ],
   "source": [
    "#q10: Relative to its 6 year average, how much more Wind Energy was consumed by the US electric power sector in 2019?\n",
    "\n",
    "wind_avg = energy_avg(\"Wind Energy\")\n",
    "wind_19 = project.get_consumption(wind_idx, 2019)\n",
    "\n",
    "((wind_19 / wind_avg) * 100) - 100\n"
   ]
  },
  {
   "cell_type": "code",
   "execution_count": 16,
   "id": "da7ec6b3",
   "metadata": {},
   "outputs": [],
   "source": [
    "# Function 4: year_sum(year)\n",
    "\n",
    "def year_sum(year = 2015):\n",
    "     \n",
    "        hydroelectric = project.get_consumption(hydroelectric_idx, year)\n",
    "        solar = project.get_consumption(solar_idx, year)\n",
    "        wind = project.get_consumption(wind_idx, year)\n",
    "        wood = project.get_consumption(wood_idx, year)\n",
    "        biomass = project.get_consumption(biomass_idx, year)\n",
    "        \n",
    "        return hydroelectric + solar + wind + wood + biomass\n",
    "      "
   ]
  },
  {
   "cell_type": "code",
   "execution_count": 17,
   "id": "2d8e284b",
   "metadata": {},
   "outputs": [
    {
     "data": {
      "text/plain": [
       "5080.059"
      ]
     },
     "execution_count": 17,
     "metadata": {},
     "output_type": "execute_result"
    }
   ],
   "source": [
    "#q11: How much renewable energy was consumed by the US electric power sector in 2015?\n",
    "\n",
    "year_sum()\n"
   ]
  },
  {
   "cell_type": "code",
   "execution_count": 18,
   "id": "86c747a2",
   "metadata": {},
   "outputs": [
    {
     "data": {
      "text/plain": [
       "6468.263999999999"
      ]
     },
     "execution_count": 18,
     "metadata": {},
     "output_type": "execute_result"
    }
   ],
   "source": [
    "#q12: How much renewable energy was consumed by the US electric power sector in 2019?\n",
    "\n",
    "year_sum(2019)\n"
   ]
  },
  {
   "cell_type": "code",
   "execution_count": 19,
   "id": "078ad043",
   "metadata": {},
   "outputs": [],
   "source": [
    "# Function 5: change_per_year(energy, start_year, end_year)\n",
    "\n",
    "def change_per_year(energy, start_year = 2015, end_year = 2020):\n",
    "        \n",
    "        energy_idx = project.get_idx(energy) \n",
    "        \n",
    "        energy_start = project.get_consumption(energy_idx, start_year)\n",
    "        energy_end = project.get_consumption(energy_idx, end_year)\n",
    "        \n",
    "        energy_change = energy_end - energy_start\n",
    "        years_count = end_year - start_year\n",
    "        \n",
    "        avg_rate_of_change = energy_change / years_count\n",
    "        return avg_rate_of_change\n"
   ]
  },
  {
   "cell_type": "code",
   "execution_count": 20,
   "id": "d111fcef",
   "metadata": {},
   "outputs": [
    {
     "data": {
      "text/plain": [
       "-11.742399999999998"
      ]
     },
     "execution_count": 20,
     "metadata": {},
     "output_type": "execute_result"
    }
   ],
   "source": [
    "#q13: How much has the consumption of Wood Energy by the US electric power sector changed per year (on average) from 2015 to 2020?\n",
    "\n",
    "change_per_year(\"Wood Energy\")\n"
   ]
  },
  {
   "cell_type": "code",
   "execution_count": 21,
   "id": "71f483d4",
   "metadata": {},
   "outputs": [
    {
     "data": {
      "text/plain": [
       "219.11933333333323"
      ]
     },
     "execution_count": 21,
     "metadata": {},
     "output_type": "execute_result"
    }
   ],
   "source": [
    "#q14: How much has the consumption of Wind Energy by the US electric power sector changed per year (on average) from 2017 to 2020?\n",
    "\n",
    "change_per_year(\"Wind Energy\", 2017)\n"
   ]
  },
  {
   "cell_type": "code",
   "execution_count": 22,
   "id": "9770c5d3",
   "metadata": {},
   "outputs": [],
   "source": [
    "# Function 6: find_threshold_year(energy, threshold)\n",
    "\n",
    "def find_threshold_year(energy, threshold = 0):\n",
    "        \n",
    "        energy_idx = project.get_idx(energy) \n",
    "        energy_avg = change_per_year(energy)\n",
    "        energy_2020 = project.get_consumption(energy_idx, 2020)\n",
    "        energy_diff = threshold - energy_2020\n",
    "        num_of_years = energy_diff / energy_avg\n",
    "        threshold_year = math.ceil(2020 + num_of_years)\n",
    "        \n",
    "        return threshold_year\n"
   ]
  },
  {
   "cell_type": "code",
   "execution_count": 23,
   "id": "be81d43a",
   "metadata": {},
   "outputs": [
    {
     "data": {
      "text/plain": [
       "2028"
      ]
     },
     "execution_count": 23,
     "metadata": {},
     "output_type": "execute_result"
    }
   ],
   "source": [
    "#q15: In which year is the consumption of Wood Energy by the US electric power sector estimated to reach 100 trillion Btu?\n",
    "\n",
    "find_threshold_year(\"Wood Energy\", 100)\n"
   ]
  },
  {
   "cell_type": "code",
   "execution_count": 24,
   "id": "916315e6",
   "metadata": {},
   "outputs": [
    {
     "data": {
      "text/plain": [
       "2032"
      ]
     },
     "execution_count": 24,
     "metadata": {},
     "output_type": "execute_result"
    }
   ],
   "source": [
    "#q16: In which year is the consumption of Biomass Energy by the US electric power sector estimated to reach 200 trillion Btu?\n",
    "\n",
    "find_threshold_year(\"Biomass Energy\", 200)\n"
   ]
  },
  {
   "cell_type": "code",
   "execution_count": 25,
   "id": "ae123c51",
   "metadata": {},
   "outputs": [
    {
     "data": {
      "text/plain": [
       "2029"
      ]
     },
     "execution_count": 25,
     "metadata": {},
     "output_type": "execute_result"
    }
   ],
   "source": [
    "#q17: In which year is the consumption of Biomass Energy by the US electric power sector estimated to be less than the consumption of Wood Energy in 2015?\n",
    "\n",
    "find_threshold_year(\"Biomass Energy\", project.get_consumption(wood_idx, 2015))\n"
   ]
  },
  {
   "cell_type": "code",
   "execution_count": 26,
   "id": "7e4cb1fe",
   "metadata": {},
   "outputs": [],
   "source": [
    "# Function 7: find_overtake_year(energy1, energy2)\n",
    "\n",
    "def find_overtake_year(energy1, energy2):\n",
    "\n",
    "        energy1_idx = project.get_idx(energy1)\n",
    "        energy2_idx = project.get_idx(energy2)\n",
    "        \n",
    "        energy1_avg = change_per_year(energy1)\n",
    "        energy2_avg = change_per_year(energy2)   \n",
    "        \n",
    "        relative_change_rate = energy2_avg - energy1_avg\n",
    "        \n",
    "        energy1_2020 = project.get_consumption(energy1_idx, 2020)\n",
    "        energy2_2020 = project.get_consumption(energy2_idx, 2020)\n",
    "        \n",
    "        energy_diff_2020 = energy2_2020 - energy1_2020\n",
    "        \n",
    "        num_of_years = energy_diff_2020 / relative_change_rate\n",
    "        \n",
    "        overtake_year = math.ceil(2020 + abs(num_of_years))\n",
    "        \n",
    "        return overtake_year\n",
    "       "
   ]
  },
  {
   "cell_type": "code",
   "execution_count": 27,
   "id": "f43b891f",
   "metadata": {},
   "outputs": [
    {
     "data": {
      "text/plain": [
       "2050"
      ]
     },
     "execution_count": 27,
     "metadata": {},
     "output_type": "execute_result"
    }
   ],
   "source": [
    "#q18: In which year will the consumption of Solar Energy by the US electric power sector overtake Conventional Hydroelectric Power?\n",
    "\n",
    "solar_overtake_year = find_overtake_year(\"Solar Energy\", \"Conventional Hydroelectric Power\")\n",
    "solar_overtake_year\n"
   ]
  },
  {
   "cell_type": "code",
   "execution_count": 28,
   "id": "cb779384",
   "metadata": {},
   "outputs": [
    {
     "data": {
      "text/plain": [
       "4248.813"
      ]
     },
     "execution_count": 28,
     "metadata": {},
     "output_type": "execute_result"
    }
   ],
   "source": [
    "#q19: Estimate how much Solar Energy will be consumed in the year that you found in Q18.\n",
    "\n",
    "solar_energy_2020 = project.get_consumption(solar_idx, 2020)\n",
    "solar_avg_change_rate = change_per_year(\"Solar Energy\")\n",
    "\n",
    "solar_consumed = solar_energy_2020 + (solar_avg_change_rate * (solar_overtake_year - 2020))\n",
    "\n",
    "solar_consumed\n"
   ]
  },
  {
   "cell_type": "code",
   "execution_count": 38,
   "id": "94150883",
   "metadata": {},
   "outputs": [
    {
     "data": {
      "text/plain": [
       "0.8463882787530359"
      ]
     },
     "execution_count": 38,
     "metadata": {},
     "output_type": "execute_result"
    }
   ],
   "source": [
    "#q20: What is the increase in the unit market share for Solar Energy from 2018 to 2019?\n",
    "\n",
    "# Writing a function called unit_share_change to find out the change in unit market share between two years\n",
    "\n",
    "def unit_share_change(energy, year1, year2):\n",
    "    \n",
    "        energy_idx = project.get_idx(energy)\n",
    "        \n",
    "        unit_sales_year1 = project.get_consumption(energy_idx, year1)\n",
    "        unit_sales_year2 = project.get_consumption(energy_idx, year2)\n",
    "\n",
    "        total_sales_year1 = year_sum(year1)\n",
    "        total_sales_year2 = year_sum(year2)\n",
    "\n",
    "        unit_share_year1 = 100 * (unit_sales_year1 / total_sales_year1)\n",
    "        unit_share_year2 = 100 * (unit_sales_year2 / total_sales_year2)\n",
    "\n",
    "        share_change = unit_share_year2 - unit_share_year1\n",
    "\n",
    "        return share_change\n",
    "    \n",
    "unit_share_change(\"Solar Energy\", 2018, 2019)\n"
   ]
  },
  {
   "cell_type": "code",
   "execution_count": null,
   "id": "0c217843",
   "metadata": {},
   "outputs": [],
   "source": []
  }
 ],
 "metadata": {
  "kernelspec": {
   "display_name": "Python 3 (ipykernel)",
   "language": "python",
   "name": "python3"
  },
  "language_info": {
   "codemirror_mode": {
    "name": "ipython",
    "version": 3
   },
   "file_extension": ".py",
   "mimetype": "text/x-python",
   "name": "python",
   "nbconvert_exporter": "python",
   "pygments_lexer": "ipython3",
   "version": "3.9.7"
  }
 },
 "nbformat": 4,
 "nbformat_minor": 5
}
