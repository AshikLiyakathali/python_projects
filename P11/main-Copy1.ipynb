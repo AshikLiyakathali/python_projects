{
 "cells": [
  {
   "cell_type": "code",
   "execution_count": 3,
   "id": "8ee3b243",
   "metadata": {},
   "outputs": [],
   "source": [
    "# project: p11\n",
    "# submitter: ashik\n",
    "# partner: None\n",
    "# hours: 6"
   ]
  },
  {
   "cell_type": "code",
   "execution_count": 37,
   "id": "f37d1b29-2129-4eee-8c6a-7be2c62417bb",
   "metadata": {},
   "outputs": [],
   "source": [
    "# import statements\n",
    "\n",
    "import os\n",
    "import csv\n",
    "import json\n",
    "import copy\n",
    "import pandas\n",
    "import matplotlib\n",
    "\n",
    "from collections import namedtuple\n",
    "from datetime import datetime as dt #this is for a time_delta only\n",
    "from questions import view_plot_data, verify_bar, verify_scatter\n"
   ]
  },
  {
   "cell_type": "code",
   "execution_count": 79,
   "id": "2b3d984a-8ed0-450d-b61e-5faadebbea55",
   "metadata": {},
   "outputs": [],
   "source": [
    "%matplotlib inline"
   ]
  },
  {
   "cell_type": "code",
   "execution_count": 80,
   "id": "191503db-d845-4ed5-b8be-461dbca1e257",
   "metadata": {},
   "outputs": [],
   "source": [
    "## From lab-p9\n",
    "\n",
    "def plot_dict(d, label=\"Please Label Me!!!\"):\n",
    "    ax = pandas.Series(d).sort_index().plot.bar(color=\"black\", fontsize=16)\n",
    "    ax.set_ylabel(label, fontsize=16)\n",
    "\n",
    "    \n",
    "## From lab-p10\n",
    "\n",
    "def process_csv(filename):\n",
    "    exampleFile = open(filename, encoding=\"utf-8\")  \n",
    "    exampleReader = csv.reader(exampleFile) \n",
    "    exampleData = list(exampleReader)        \n",
    "    exampleFile.close()  \n",
    "    return exampleData\n",
    "\n",
    "\n",
    "## From lab-p10\n",
    "\n",
    "def read_json(path):\n",
    "    with open(path, encoding='utf-8') as f:\n",
    "        return json.load(f)\n",
    "    \n",
    "\n",
    "## From lab-p10\n",
    "\n",
    "def list_files_in(pathname):\n",
    "    \"\"\"\n",
    "    Given a (relative) path called pathname, return a list of files at this path. \n",
    "    Make sure to exclude files that start with a \".\" from your list, \n",
    "    and that your list of files is sorted alphabetically before you return it.\n",
    "    \"\"\"\n",
    "    \n",
    "    files_list = os.listdir(\"./\" + pathname)\n",
    "    \n",
    "    files_list.sort()\n",
    "    \n",
    "    files_list = [file for file in files_list if file[0] != \".\"]\n",
    "    \n",
    "    return files_list\n",
    "\n",
    "\n",
    "## From lab-p10\n",
    "\n",
    "def list_paths_in(pathname):\n",
    "    \"\"\"\n",
    "    Gets a list of files in pathname directory and generates relative paths to all the files,\n",
    "    using os.path.join function.\n",
    "    Returns a list of relative paths to each file inside pathname directory.\n",
    "    \"\"\"\n",
    "    files = list_files_in(pathname)\n",
    "    \n",
    "    specific_file_path = [os.path.join(pathname, file) for file in files]\n",
    "\n",
    "    return specific_file_path\n",
    "\n",
    "\n",
    "## From p10 (Q2)\n",
    "## Use `list_paths_in` to list all paths in the data directory\n",
    "## Save this to a variable called all_paths\n",
    "\n",
    "all_paths = list_paths_in(\"data\")\n",
    "\n",
    "\n",
    "## From p10 (Q3)\n",
    "## Code to populate `comment_paths`\n",
    "\n",
    "comment_paths = [path for path in all_paths if \"comment_data\" in path]\n",
    "\n",
    "\n",
    "## From p10 (Q4)\n",
    "## Code to populate `channel_paths` \n",
    "\n",
    "channel_paths = [path for path in all_paths if \"channel_ids\" in path]\n",
    "\n",
    "\n",
    "# Using the get_mapping function from lab10\n",
    "\n",
    "def get_mapping(pathname):\n",
    "    \"\"\"\n",
    "    Given a path called pathname, load the json data at the path and return the loaded json data.\n",
    "    If a json.JSONDecodeError is thrown, an empty dictionary is returned.\n",
    "    \"\"\"\n",
    "    try:\n",
    "        mapped_data = read_json(pathname) \n",
    "        \n",
    "    except json.JSONDecodeError:\n",
    "        mapped_data = {}\n",
    "\n",
    "    return mapped_data\n",
    "\n",
    "\n",
    "## From p10 (Q6)\n",
    "## Code to populate `channel_dict` \n",
    "\n",
    "channel_dict = {}\n",
    "\n",
    "for file in channel_paths:\n",
    "    channel_dict.update(get_mapping(file))\n",
    "\n",
    "    \n",
    "# Creating a namedtuple to represent a Comment that has the following attributes...\n",
    "# video_id, author_id, and published_at are strings and comment_length and likes are ints. \n",
    "\n",
    "Comment = namedtuple(\"Comment\", [\"video_id\", \"comment_length\", \"author_id\", \"likes\", \"published_at\"])\n",
    "\n",
    "\n",
    "## From p10 (Q7)\n",
    "\n",
    "def get_comment_data(comment_file):\n",
    "    csv_data = process_csv(comment_file)\n",
    "    \n",
    "    header = csv_data[0] \n",
    "    comment_rows = csv_data[1:]\n",
    "\n",
    "    comment_id_idx = header.index(\"comment_id\")\n",
    "    video_id_idx = header.index(\"video_id\")\n",
    "    comment_length_idx = header.index(\"comment_length\")\n",
    "    author_id_idx = header.index(\"author_id\")\n",
    "    likes_idx = header.index(\"likes\")\n",
    "    published_at_idx = header.index(\"published_at\")\n",
    "\n",
    "    comment_dict = {}\n",
    "    \n",
    "    for comment in comment_rows:\n",
    "        if \"\" in comment:\n",
    "            continue\n",
    " \n",
    "        try:     \n",
    "            key = comment[comment_id_idx]\n",
    "\n",
    "            value = Comment(comment[video_id_idx], int(comment[comment_length_idx]), \\\n",
    "                            comment[author_id_idx], int(comment[likes_idx]), comment[published_at_idx])\n",
    "\n",
    "            comment_dict[key] = value\n",
    "        \n",
    "        except ValueError:\n",
    "            continue\n",
    "\n",
    "        except IndexError:\n",
    "            continue\n",
    "            \n",
    "    return comment_dict\n",
    "\n",
    "\n",
    "## From p10 (Q8)\n",
    "## Code to populate `comments` \n",
    "\n",
    "comments = {}\n",
    "\n",
    "for file in comment_paths:\n",
    "    comments.update(get_comment_data(file))\n",
    "\n",
    "\n",
    "## From p10 (Q12)\n",
    "## Code to populate `comment_buckets` \n",
    "\n",
    "comment_buckets = {}\n",
    "\n",
    "for comment in comments:\n",
    "    video_id = comments[comment].video_id\n",
    "    \n",
    "    if video_id not in comment_buckets:\n",
    "        comment_buckets[video_id] = []\n",
    "    \n",
    "    if video_id in comment_buckets:\n",
    "        comment_buckets[video_id].append(comment)\n",
    "\n",
    "\n",
    "## From p10\n",
    "\n",
    "def get_videos(data_file, video_mapping_file):\n",
    "    \"\"\"\n",
    "    Given data_file (csv file) and video_mapping_file (json) file, generates a video\n",
    "    dictionary, mapping video ID to a dictionary containing title, and other details of the video.\n",
    "    Handles missing entry in video_ids.json by using try / except blocks to handle KeyError.\n",
    "    \"\"\"\n",
    "    data = process_csv(data_file)\n",
    "    \n",
    "    header = data[0]\n",
    "    all_videos = data[1:]\n",
    "    \n",
    "    video_mapping = get_mapping(video_mapping_file)\n",
    "    videos_dict = dict()\n",
    "    \n",
    "    for video in all_videos:\n",
    "        try:\n",
    "            key = video[header.index('video_id')]\n",
    "            \n",
    "            title = video_mapping[key]\n",
    "            channel_name = channel_dict[video[header.index('channel_id')]]\n",
    "            published_at = video[header.index('published_at')] \n",
    "            duration = video[header.index('duration')] \n",
    "            category = video[header.index('category')] \n",
    "            views = int(video[header.index('views')])\n",
    "            tags = video[header.index('tags')].split(\"|\")\n",
    "            likes = video[header.index('likes')]\n",
    "            dislikes = video[header.index('dislikes')]\n",
    "            comments = comment_buckets[key]\n",
    "            \n",
    "\n",
    "            if likes != \"\" and dislikes != \"\": \n",
    "                ratings_enabled = True\n",
    "                likes = int(likes)\n",
    "                dislikes = int(dislikes)\n",
    "\n",
    "            else:\n",
    "                ratings_enabled = False\n",
    "                likes = None\n",
    "                dislikes = None\n",
    "            \n",
    "            value = {'title': title, \n",
    "                     'channel_name': channel_name,\n",
    "                     'published_at': published_at, \n",
    "                     'duration': duration, \n",
    "                     'category': category, \n",
    "                     'views': views,\n",
    "                     'tags': tags,\n",
    "                     'likes': likes,\n",
    "                     'dislikes': dislikes,\n",
    "                     'ratings_enabled': ratings_enabled,\n",
    "                     'comments': comments\n",
    "                    }\n",
    "            \n",
    "            videos_dict[key] = value\n",
    "        \n",
    "        except KeyError:\n",
    "            continue\n",
    "    \n",
    "    return videos_dict\n",
    "\n",
    "\n",
    "## From p10 (Q13), create a dictionary named `videos` and use `get_videos` to fill the information in the \n",
    "## `videos`.\n",
    "## Populate the variable named `videos` to answer\n",
    "\n",
    "videos = get_videos(os.path.join('data','video_data.csv'), os.path.join('data','video_ids.json'))\n",
    "\n",
    "sample = ['UgzgwN2JXxjTN4mR5954AaABAg.9TPxukUd20g9TQLnJi3RFU', 'UgzvogxMg82Kj0aW84x4AaABAg']\n",
    "for s in sample:\n",
    "    assert s in videos['fkMW60W180E']['comments']\n",
    "    \n",
    "\n",
    "## From p10 (Q17)\n",
    "## Make sure to remove default argument to videos. If you want to retain it,\n",
    "## you will have to define get_videos function before bucketize and make sure\n",
    "## you call get_videos and store the return value into the variable videos\n",
    "\n",
    "# Implementing bucketize function similar to P9\n",
    "\n",
    "def bucketize(attribute, videos = videos):\n",
    "    \"\"\"\n",
    "    Input: A dict of videos and an attribute string.\n",
    "    Return: A dictionary that bucketizes the `video_ids` by `attribute`.\n",
    "    \"\"\"\n",
    "    bucketized_dict = {}\n",
    "\n",
    "    list_atr = [\"tags\", \"comments\"]\n",
    "    \n",
    "    for video in videos:\n",
    "        atr = videos[video][attribute]\n",
    "\n",
    "        if attribute in list_atr:\n",
    "            for item in atr:\n",
    "                if item not in bucketized_dict:\n",
    "                    bucketized_dict[item] = []  \n",
    "                \n",
    "                if item in bucketized_dict:\n",
    "                    bucketized_dict[item].append(video)\n",
    "        \n",
    "        else:\n",
    "            if atr not in bucketized_dict:\n",
    "                bucketized_dict[atr] = []\n",
    "\n",
    "            if atr in bucketized_dict:\n",
    "                bucketized_dict[atr].append(video)\n",
    "\n",
    "    return bucketized_dict\n",
    "\n",
    "category_dict = bucketize('category')\n",
    "assert category_dict['Pets & Animals'] == ['Hz_DslzN2IA', 'AwvyrO_yM4c']\n"
   ]
  },
  {
   "cell_type": "code",
   "execution_count": 1,
   "id": "fa373deb",
   "metadata": {},
   "outputs": [
    {
     "data": {
      "text/plain": [
       "25"
      ]
     },
     "execution_count": 1,
     "metadata": {},
     "output_type": "execute_result"
    }
   ],
   "source": [
    "# Function requirement\n",
    "\n",
    "def process_duration(duration_str):\n",
    "\n",
    "    duration = int(duration_str[0:2]) * 3600 + int(duration_str[3:5]) * 60 + int(duration_str[6:8])\n",
    "    value = (duration // 300) * 5\n",
    "\n",
    "    return value\n",
    "\n",
    "process_duration('00:04:12') #returns 0\n",
    "process_duration('00:28:21') #returns 25"
   ]
  },
  {
   "cell_type": "code",
   "execution_count": 2,
   "id": "e56ae01b",
   "metadata": {},
   "outputs": [],
   "source": [
    "#Q1: Plot the distribution of video durations as a histogram.\n",
    "\n"
   ]
  },
  {
   "cell_type": "code",
   "execution_count": 3,
   "id": "c35b6576",
   "metadata": {},
   "outputs": [],
   "source": [
    "#Q1.1 Verify your plot using verify_bar\n",
    "\n"
   ]
  },
  {
   "cell_type": "code",
   "execution_count": null,
   "id": "65d12367",
   "metadata": {},
   "outputs": [],
   "source": []
  },
  {
   "cell_type": "code",
   "execution_count": null,
   "id": "54cfe620",
   "metadata": {},
   "outputs": [],
   "source": [
    "#Q2: Plot the correlation between duration of video (x-axis) and average views (y-axis) as a histogram.\n"
   ]
  },
  {
   "cell_type": "code",
   "execution_count": null,
   "id": "a7a736c5",
   "metadata": {},
   "outputs": [],
   "source": [
    "#Q2.1 Verify your plot using verify_bar\n",
    "\n"
   ]
  },
  {
   "cell_type": "code",
   "execution_count": null,
   "id": "3c26feb8",
   "metadata": {},
   "outputs": [],
   "source": []
  },
  {
   "cell_type": "code",
   "execution_count": null,
   "id": "95e826e4",
   "metadata": {},
   "outputs": [],
   "source": [
    "#Q3: Plot the correlation between the hour at which the video is published (x-axis) and the average number of views (y-axis) across all videos in that hour as a histogram.\n"
   ]
  },
  {
   "cell_type": "code",
   "execution_count": null,
   "id": "f1652679",
   "metadata": {},
   "outputs": [],
   "source": [
    "#Q3.1 Verify your plot using verify_bar\n",
    "\n"
   ]
  },
  {
   "cell_type": "code",
   "execution_count": null,
   "id": "86a13218",
   "metadata": {},
   "outputs": [],
   "source": []
  },
  {
   "cell_type": "code",
   "execution_count": null,
   "id": "f8d7991a",
   "metadata": {},
   "outputs": [],
   "source": [
    "#Q4: Plot the correlation between the views (x-axis) and likes (y-axis) on a video.\n"
   ]
  },
  {
   "cell_type": "code",
   "execution_count": null,
   "id": "9174145c",
   "metadata": {},
   "outputs": [],
   "source": [
    "#Q4.1 Verify your plot using verify_scatter\n"
   ]
  },
  {
   "cell_type": "code",
   "execution_count": null,
   "id": "9016d456",
   "metadata": {},
   "outputs": [],
   "source": []
  },
  {
   "cell_type": "code",
   "execution_count": null,
   "id": "d352097a",
   "metadata": {},
   "outputs": [],
   "source": [
    "#Q5: Plot the correlation between the views (x-axis) and likes (y-axis) on a video with the outliers removed.\n"
   ]
  },
  {
   "cell_type": "code",
   "execution_count": null,
   "id": "fd61f487",
   "metadata": {},
   "outputs": [],
   "source": [
    "#Q5.1 Verify your plot using verify_scatter\n"
   ]
  },
  {
   "cell_type": "code",
   "execution_count": null,
   "id": "fa8fd0f6",
   "metadata": {},
   "outputs": [],
   "source": []
  },
  {
   "cell_type": "code",
   "execution_count": null,
   "id": "90b384af",
   "metadata": {},
   "outputs": [],
   "source": [
    "#Q6: Plot the correlation between the views (x-axis) and audience engagement (y-axis) on a video.\n"
   ]
  },
  {
   "cell_type": "code",
   "execution_count": null,
   "id": "5b348ecb",
   "metadata": {},
   "outputs": [],
   "source": [
    "#Q6.1 Verify your plot using verify_scatter"
   ]
  },
  {
   "cell_type": "code",
   "execution_count": null,
   "id": "91da847e",
   "metadata": {},
   "outputs": [],
   "source": []
  },
  {
   "cell_type": "code",
   "execution_count": null,
   "id": "4af6bbec",
   "metadata": {},
   "outputs": [],
   "source": [
    "#Q7: Plot the correlation between the views (x-axis) and audience engagement (y-axis) on a video with the outliers removed.\n"
   ]
  },
  {
   "cell_type": "code",
   "execution_count": null,
   "id": "7f5a3f71",
   "metadata": {},
   "outputs": [],
   "source": [
    "#Q7.1 Verify your plot using verify_scatter\n"
   ]
  },
  {
   "cell_type": "code",
   "execution_count": null,
   "id": "17336314",
   "metadata": {},
   "outputs": [],
   "source": []
  },
  {
   "cell_type": "code",
   "execution_count": null,
   "id": "ff9729c0",
   "metadata": {},
   "outputs": [],
   "source": [
    "#Q8: Plot the correlation between the length of a comment text (x-axis) and the number of likes on the comment (y-axis).\n"
   ]
  },
  {
   "cell_type": "code",
   "execution_count": null,
   "id": "29dcc264",
   "metadata": {},
   "outputs": [],
   "source": [
    "#Q8.1 Verify your plot using verify_scatter\n"
   ]
  },
  {
   "cell_type": "code",
   "execution_count": null,
   "id": "76414d36",
   "metadata": {},
   "outputs": [],
   "source": []
  },
  {
   "cell_type": "code",
   "execution_count": null,
   "id": "655be547",
   "metadata": {},
   "outputs": [],
   "source": [
    "#Q9: Plot the correlation between the length of a comment text (x-axis) and the number of likes on the comment (y-axis) with the outliers removed.\n",
    "\n"
   ]
  },
  {
   "cell_type": "code",
   "execution_count": null,
   "id": "4e9d91b7",
   "metadata": {},
   "outputs": [],
   "source": [
    "#Q9.1 Verify your plot using verify_scatter\n"
   ]
  },
  {
   "cell_type": "code",
   "execution_count": null,
   "id": "0b6008d5",
   "metadata": {},
   "outputs": [],
   "source": []
  },
  {
   "cell_type": "code",
   "execution_count": null,
   "id": "d42fbd87",
   "metadata": {},
   "outputs": [],
   "source": []
  },
  {
   "cell_type": "code",
   "execution_count": null,
   "id": "efd67c84",
   "metadata": {},
   "outputs": [],
   "source": [
    "#Q10: What is the length of the first comment under the video \"If I lose a boss fight, the video ends 2 (Genshin Impact)\"?\n",
    "\n"
   ]
  },
  {
   "cell_type": "code",
   "execution_count": null,
   "id": "09d875f7",
   "metadata": {},
   "outputs": [],
   "source": []
  },
  {
   "cell_type": "code",
   "execution_count": null,
   "id": "06dfbe8a",
   "metadata": {},
   "outputs": [],
   "source": []
  },
  {
   "cell_type": "code",
   "execution_count": null,
   "id": "3620cf0f",
   "metadata": {},
   "outputs": [],
   "source": [
    "#Q11: What is the average number of likes for the first 5 comments under the video 'Facebook, Instagram and WhatsApp down in global outage'?\n",
    "\n"
   ]
  },
  {
   "cell_type": "code",
   "execution_count": null,
   "id": "89b6718e",
   "metadata": {},
   "outputs": [],
   "source": []
  },
  {
   "cell_type": "code",
   "execution_count": null,
   "id": "4430c779",
   "metadata": {},
   "outputs": [],
   "source": []
  },
  {
   "cell_type": "code",
   "execution_count": null,
   "id": "7cc9aed9",
   "metadata": {},
   "outputs": [],
   "source": [
    "#Q12: Plot the correlation between when a comment is published relative to video publish time (x-axis) and the number of likes on the comment (y-axis).\n"
   ]
  },
  {
   "cell_type": "code",
   "execution_count": null,
   "id": "399923d3",
   "metadata": {},
   "outputs": [],
   "source": [
    "#Q12.1 Verify your plot using verify_scatter\n"
   ]
  },
  {
   "cell_type": "code",
   "execution_count": null,
   "id": "35179f27",
   "metadata": {},
   "outputs": [],
   "source": []
  },
  {
   "cell_type": "code",
   "execution_count": null,
   "id": "f41f0f4d",
   "metadata": {},
   "outputs": [],
   "source": [
    "#Q13: Plot the correlation between when a comment is published relative to video publish time (x-axis) and the length of the comment (y-axis).\n"
   ]
  },
  {
   "cell_type": "code",
   "execution_count": null,
   "id": "ef81b977",
   "metadata": {},
   "outputs": [],
   "source": [
    "#Q13.1 Verify your plot using verify_scatter\n"
   ]
  },
  {
   "cell_type": "code",
   "execution_count": null,
   "id": "b502354d",
   "metadata": {},
   "outputs": [],
   "source": []
  },
  {
   "cell_type": "code",
   "execution_count": null,
   "id": "d31f74bd",
   "metadata": {},
   "outputs": [],
   "source": []
  },
  {
   "cell_type": "code",
   "execution_count": null,
   "id": "db74ef7a",
   "metadata": {},
   "outputs": [],
   "source": [
    "#Q14: What are the paths of the files in the special directory of the broken_file directory?\n"
   ]
  },
  {
   "cell_type": "code",
   "execution_count": null,
   "id": "60cc20df",
   "metadata": {},
   "outputs": [],
   "source": []
  },
  {
   "cell_type": "code",
   "execution_count": null,
   "id": "d91dd9ec",
   "metadata": {},
   "outputs": [],
   "source": [
    "#Q15: What are the paths of the files in the rest directory of the non_english directory of the broken_file directory?\n",
    "\n"
   ]
  },
  {
   "cell_type": "code",
   "execution_count": null,
   "id": "ec15676d",
   "metadata": {},
   "outputs": [],
   "source": []
  },
  {
   "cell_type": "code",
   "execution_count": null,
   "id": "d2be34c9",
   "metadata": {},
   "outputs": [],
   "source": [
    "#Q16: What are the paths of the files in the L_to_Q directory of the english_uppercase directory of the broken_file directory?\n",
    "\n"
   ]
  },
  {
   "cell_type": "code",
   "execution_count": null,
   "id": "af190343",
   "metadata": {},
   "outputs": [],
   "source": []
  },
  {
   "cell_type": "code",
   "execution_count": null,
   "id": "b575c455",
   "metadata": {},
   "outputs": [],
   "source": []
  },
  {
   "cell_type": "code",
   "execution_count": null,
   "id": "36f52152",
   "metadata": {},
   "outputs": [],
   "source": [
    "#Q17: What are the paths of the files in the broken_file directory?\n"
   ]
  },
  {
   "cell_type": "code",
   "execution_count": null,
   "id": "55f830be",
   "metadata": {},
   "outputs": [],
   "source": []
  },
  {
   "cell_type": "code",
   "execution_count": null,
   "id": "6bec3190",
   "metadata": {},
   "outputs": [],
   "source": [
    "#Q18: How many channel mappings are in the files in the broken_file directory?\n"
   ]
  },
  {
   "cell_type": "code",
   "execution_count": null,
   "id": "18589855",
   "metadata": {},
   "outputs": [],
   "source": []
  },
  {
   "cell_type": "code",
   "execution_count": null,
   "id": "4556b9c7",
   "metadata": {},
   "outputs": [],
   "source": []
  },
  {
   "cell_type": "code",
   "execution_count": null,
   "id": "d86fd218",
   "metadata": {},
   "outputs": [],
   "source": [
    "#Q19: What is the name of the channel with the channel ID UCwtzSiUayocxaOHLnHe90Hw?\n"
   ]
  },
  {
   "cell_type": "code",
   "execution_count": null,
   "id": "d85a5c5f",
   "metadata": {},
   "outputs": [],
   "source": []
  },
  {
   "cell_type": "code",
   "execution_count": null,
   "id": "47e43ce3",
   "metadata": {},
   "outputs": [],
   "source": [
    "#Q20: What are the names of the top 5 channels from the broken_file with the most likes on their comments?\n"
   ]
  },
  {
   "cell_type": "code",
   "execution_count": null,
   "id": "4ba4e330",
   "metadata": {},
   "outputs": [],
   "source": []
  }
 ],
 "metadata": {
  "kernelspec": {
   "display_name": "Python 3 (ipykernel)",
   "language": "python",
   "name": "python3"
  },
  "language_info": {
   "codemirror_mode": {
    "name": "ipython",
    "version": 3
   },
   "file_extension": ".py",
   "mimetype": "text/x-python",
   "name": "python",
   "nbconvert_exporter": "python",
   "pygments_lexer": "ipython3",
   "version": "3.9.7"
  }
 },
 "nbformat": 4,
 "nbformat_minor": 5
}
