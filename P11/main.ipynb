{
 "cells": [
  {
   "cell_type": "code",
   "execution_count": 1,
   "id": "454e98ee",
   "metadata": {},
   "outputs": [],
   "source": [
    "# project: p11\n",
    "# submitter: ashik\n",
    "# partner: None\n",
    "# hours: 10"
   ]
  },
  {
   "cell_type": "code",
   "execution_count": 45,
   "id": "f37d1b29-2129-4eee-8c6a-7be2c62417bb",
   "metadata": {},
   "outputs": [],
   "source": [
    "# import statements\n",
    "\n",
    "import os\n",
    "import csv\n",
    "import json\n",
    "import copy\n",
    "import pandas\n",
    "import matplotlib\n",
    "\n",
    "from collections import namedtuple\n",
    "from datetime import datetime as dt #this is for a time_delta only\n",
    "from questions import view_plot_data, verify_bar, verify_scatter\n"
   ]
  },
  {
   "cell_type": "code",
   "execution_count": 46,
   "id": "2b3d984a-8ed0-450d-b61e-5faadebbea55",
   "metadata": {},
   "outputs": [],
   "source": [
    "%matplotlib inline"
   ]
  },
  {
   "cell_type": "code",
   "execution_count": 47,
   "id": "191503db-d845-4ed5-b8be-461dbca1e257",
   "metadata": {},
   "outputs": [],
   "source": [
    "## From lab-p9\n",
    "\n",
    "def plot_dict(d, label=\"Please Label Me!!!\"):\n",
    "    ax = pandas.Series(d).sort_index().plot.bar(color=\"black\", fontsize=16)\n",
    "    ax.set_ylabel(label, fontsize=16)\n",
    "\n",
    "    \n",
    "## From lab-p11\n",
    "\n",
    "def scatter(x, y, xlabel=\"please label me!\", ylabel=\"please label me!\"):\n",
    "    df = pandas.DataFrame({\"x\":x, \"y\":y})\n",
    "    ax = df.plot.scatter(x=\"x\", y=\"y\", color=\"black\", fontsize=16, ylim=0)\n",
    "    ax.set_ylabel(ylabel, fontsize=16)\n",
    "    ax.set_xlabel(xlabel, fontsize=16)\n",
    "    \n",
    "    \n",
    "## From lab-p10\n",
    "\n",
    "def process_csv(filename):\n",
    "    exampleFile = open(filename, encoding=\"utf-8\")  \n",
    "    exampleReader = csv.reader(exampleFile) \n",
    "    exampleData = list(exampleReader)        \n",
    "    exampleFile.close()  \n",
    "    return exampleData\n",
    "\n",
    "\n",
    "## From lab-p10\n",
    "\n",
    "def read_json(path):\n",
    "    with open(path, encoding='utf-8') as f:\n",
    "        return json.load(f)\n",
    "    \n",
    "\n",
    "## From lab-p10\n",
    "\n",
    "def list_files_in(pathname):\n",
    "    \"\"\"\n",
    "    Given a (relative) path called pathname, return a list of files at this path. \n",
    "    Make sure to exclude files that start with a \".\" from your list, \n",
    "    and that your list of files is sorted alphabetically before you return it.\n",
    "    \"\"\"\n",
    "    \n",
    "    files_list = os.listdir(\"./\" + pathname)\n",
    "    \n",
    "    files_list.sort()\n",
    "    \n",
    "    files_list = [file for file in files_list if file[0] != \".\"]\n",
    "    \n",
    "    return files_list\n",
    "\n",
    "\n",
    "## From lab-p10\n",
    "\n",
    "def list_paths_in(pathname):\n",
    "    \"\"\"\n",
    "    Gets a list of files in pathname directory and generates relative paths to all the files,\n",
    "    using os.path.join function.\n",
    "    Returns a list of relative paths to each file inside pathname directory.\n",
    "    \"\"\"\n",
    "    files = list_files_in(pathname)\n",
    "    \n",
    "    specific_file_path = [os.path.join(pathname, file) for file in files]\n",
    "\n",
    "    return specific_file_path\n",
    "\n",
    "\n",
    "## From p10 (Q2)\n",
    "## Use `list_paths_in` to list all paths in the data directory\n",
    "## Save this to a variable called all_paths\n",
    "\n",
    "all_paths = list_paths_in(\"data\")\n",
    "\n",
    "\n",
    "## From p10 (Q3)\n",
    "## Code to populate `comment_paths`\n",
    "\n",
    "comment_paths = [path for path in all_paths if \"comment_data\" in path]\n",
    "\n",
    "\n",
    "## From p10 (Q4)\n",
    "## Code to populate `channel_paths` \n",
    "\n",
    "channel_paths = [path for path in all_paths if \"channel_ids\" in path]\n",
    "\n",
    "\n",
    "# Using the get_mapping function from lab10\n",
    "\n",
    "def get_mapping(pathname):\n",
    "    \"\"\"\n",
    "    Given a path called pathname, load the json data at the path and return the loaded json data.\n",
    "    If a json.JSONDecodeError is thrown, an empty dictionary is returned.\n",
    "    \"\"\"\n",
    "    try:\n",
    "        mapped_data = read_json(pathname) \n",
    "        \n",
    "    except json.JSONDecodeError:\n",
    "        mapped_data = {}\n",
    "\n",
    "    return mapped_data\n",
    "\n",
    "\n",
    "## From p10 (Q6)\n",
    "## Code to populate `channel_dict` \n",
    "\n",
    "channel_dict = {}\n",
    "\n",
    "for file in channel_paths:\n",
    "    channel_dict.update(get_mapping(file))\n",
    "\n",
    "    \n",
    "# Creating a namedtuple to represent a Comment that has the following attributes...\n",
    "# video_id, author_id, and published_at are strings and comment_length and likes are ints. \n",
    "\n",
    "Comment = namedtuple(\"Comment\", [\"video_id\", \"comment_length\", \"author_id\", \"likes\", \"published_at\"])\n",
    "\n",
    "\n",
    "## From p10 (Q7)\n",
    "\n",
    "def get_comment_data(comment_file):\n",
    "    csv_data = process_csv(comment_file)\n",
    "    \n",
    "    header = csv_data[0] \n",
    "    comment_rows = csv_data[1:]\n",
    "\n",
    "    comment_id_idx = header.index(\"comment_id\")\n",
    "    video_id_idx = header.index(\"video_id\")\n",
    "    comment_length_idx = header.index(\"comment_length\")\n",
    "    author_id_idx = header.index(\"author_id\")\n",
    "    likes_idx = header.index(\"likes\")\n",
    "    published_at_idx = header.index(\"published_at\")\n",
    "\n",
    "    comment_dict = {}\n",
    "    \n",
    "    for comment in comment_rows:\n",
    "        if \"\" in comment:\n",
    "            continue\n",
    " \n",
    "        try:     \n",
    "            key = comment[comment_id_idx]\n",
    "\n",
    "            value = Comment(comment[video_id_idx], int(comment[comment_length_idx]), \\\n",
    "                            comment[author_id_idx], int(comment[likes_idx]), comment[published_at_idx])\n",
    "\n",
    "            comment_dict[key] = value\n",
    "        \n",
    "        except ValueError:\n",
    "            continue\n",
    "\n",
    "        except IndexError:\n",
    "            continue\n",
    "            \n",
    "    return comment_dict\n",
    "\n",
    "\n",
    "## From p10 (Q8)\n",
    "## Code to populate `comments` \n",
    "\n",
    "comments = {}\n",
    "\n",
    "for file in comment_paths:\n",
    "    comments.update(get_comment_data(file))\n",
    "\n",
    "\n",
    "## From p10 (Q12)\n",
    "## Code to populate `comment_buckets` \n",
    "\n",
    "comment_buckets = {}\n",
    "\n",
    "for comment in comments:\n",
    "    video_id = comments[comment].video_id\n",
    "    \n",
    "    if video_id not in comment_buckets:\n",
    "        comment_buckets[video_id] = []\n",
    "    \n",
    "    if video_id in comment_buckets:\n",
    "        comment_buckets[video_id].append(comment)\n",
    "\n",
    "\n",
    "## From p10\n",
    "\n",
    "def get_videos(data_file, video_mapping_file):\n",
    "    \"\"\"\n",
    "    Given data_file (csv file) and video_mapping_file (json) file, generates a video\n",
    "    dictionary, mapping video ID to a dictionary containing title, and other details of the video.\n",
    "    Handles missing entry in video_ids.json by using try / except blocks to handle KeyError.\n",
    "    \"\"\"\n",
    "    data = process_csv(data_file)\n",
    "    \n",
    "    header = data[0]\n",
    "    all_videos = data[1:]\n",
    "    \n",
    "    video_mapping = get_mapping(video_mapping_file)\n",
    "    videos_dict = dict()\n",
    "    \n",
    "    for video in all_videos:\n",
    "        try:\n",
    "            key = video[header.index('video_id')]\n",
    "            \n",
    "            title = video_mapping[key]\n",
    "            channel_name = channel_dict[video[header.index('channel_id')]]\n",
    "            published_at = video[header.index('published_at')] \n",
    "            duration = video[header.index('duration')] \n",
    "            category = video[header.index('category')] \n",
    "            views = int(video[header.index('views')])\n",
    "            tags = video[header.index('tags')].split(\"|\")\n",
    "            likes = video[header.index('likes')]\n",
    "            dislikes = video[header.index('dislikes')]\n",
    "            comments = comment_buckets[key]\n",
    "            \n",
    "\n",
    "            if likes != \"\" and dislikes != \"\": \n",
    "                ratings_enabled = True\n",
    "                likes = int(likes)\n",
    "                dislikes = int(dislikes)\n",
    "\n",
    "            else:\n",
    "                ratings_enabled = False\n",
    "                likes = None\n",
    "                dislikes = None\n",
    "            \n",
    "            value = {'title': title, \n",
    "                     'channel_name': channel_name,\n",
    "                     'published_at': published_at, \n",
    "                     'duration': duration, \n",
    "                     'category': category, \n",
    "                     'views': views,\n",
    "                     'tags': tags,\n",
    "                     'likes': likes,\n",
    "                     'dislikes': dislikes,\n",
    "                     'ratings_enabled': ratings_enabled,\n",
    "                     'comments': comments\n",
    "                    }\n",
    "            \n",
    "            videos_dict[key] = value\n",
    "        \n",
    "        except KeyError:\n",
    "            continue\n",
    "    \n",
    "    return videos_dict\n",
    "\n",
    "\n",
    "## From p10 (Q13), create a dictionary named `videos` and use `get_videos` to fill the information in the \n",
    "## `videos`.\n",
    "## Populate the variable named `videos` to answer\n",
    "\n",
    "videos = get_videos(os.path.join('data','video_data.csv'), os.path.join('data','video_ids.json'))\n",
    "\n",
    "sample = ['UgzgwN2JXxjTN4mR5954AaABAg.9TPxukUd20g9TQLnJi3RFU', 'UgzvogxMg82Kj0aW84x4AaABAg']\n",
    "for s in sample:\n",
    "    assert s in videos['fkMW60W180E']['comments']\n",
    "    \n",
    "\n",
    "## From p10 (Q17)\n",
    "## Make sure to remove default argument to videos. If you want to retain it,\n",
    "## you will have to define get_videos function before bucketize and make sure\n",
    "## you call get_videos and store the return value into the variable videos\n",
    "\n",
    "# Implementing bucketize function similar to P9\n",
    "\n",
    "def bucketize(attribute, videos = videos):\n",
    "    \"\"\"\n",
    "    Input: A dict of videos and an attribute string.\n",
    "    Return: A dictionary that bucketizes the `video_ids` by `attribute`.\n",
    "    \"\"\"\n",
    "    bucketized_dict = {}\n",
    "\n",
    "    list_atr = [\"tags\", \"comments\"]\n",
    "    \n",
    "    for video in videos:\n",
    "        atr = videos[video][attribute]\n",
    "\n",
    "        if attribute in list_atr:\n",
    "            for item in atr:\n",
    "                if item not in bucketized_dict:\n",
    "                    bucketized_dict[item] = []  \n",
    "                \n",
    "                if item in bucketized_dict:\n",
    "                    bucketized_dict[item].append(video)\n",
    "        \n",
    "        else:\n",
    "            if atr not in bucketized_dict:\n",
    "                bucketized_dict[atr] = []\n",
    "\n",
    "            if atr in bucketized_dict:\n",
    "                bucketized_dict[atr].append(video)\n",
    "\n",
    "    return bucketized_dict\n",
    "\n",
    "category_dict = bucketize('category')\n",
    "assert category_dict['Pets & Animals'] == ['Hz_DslzN2IA', 'AwvyrO_yM4c']\n"
   ]
  },
  {
   "cell_type": "code",
   "execution_count": 48,
   "id": "4be3aac9",
   "metadata": {},
   "outputs": [],
   "source": [
    "# Function requirement\n",
    "\n",
    "def process_duration(duration_str):\n",
    "\n",
    "    duration = int(duration_str[0:2]) * 3600 + int(duration_str[3:5]) * 60 + int(duration_str[6:8])\n",
    "    value = (duration // 300) * 5\n",
    "\n",
    "    return value\n",
    "\n",
    "assert process_duration('00:04:12') == 0\n",
    "assert process_duration('00:28:21') == 25"
   ]
  },
  {
   "cell_type": "code",
   "execution_count": 49,
   "id": "d9d3f863",
   "metadata": {},
   "outputs": [
    {
     "data": {
      "image/png": "[encoded data removed]",
      "text/plain": [
       "<Figure size 432x288 with 1 Axes>"
      ]
     },
     "metadata": {
      "needs_background": "light"
     },
     "output_type": "display_data"
    }
   ],
   "source": [
    "#Q1: Plot the distribution of video durations as a histogram.\n",
    "\n",
    "videos2 = copy.deepcopy(videos)\n",
    "\n",
    "for video_id in videos2:\n",
    "    videos2[video_id]['duration'] = process_duration(videos2[video_id]['duration'])\n",
    "    \n",
    "duration_buckets = bucketize(\"duration\", videos2)\n",
    "\n",
    "duration_dict = {k:len(v) for (k,v) in duration_buckets.items()}\n",
    "\n",
    "plot_dict(duration_dict, \"number of videos\")\n"
   ]
  },
  {
   "cell_type": "code",
   "execution_count": 50,
   "id": "2d658b47",
   "metadata": {},
   "outputs": [
    {
     "data": {
      "text/plain": [
       "True"
      ]
     },
     "execution_count": 50,
     "metadata": {},
     "output_type": "execute_result"
    }
   ],
   "source": [
    "#Q1.1 Verify your plot using verify_bar\n",
    "\n",
    "verify_bar(duration_dict, 1)\n"
   ]
  },
  {
   "cell_type": "code",
   "execution_count": 51,
   "id": "923647ba",
   "metadata": {},
   "outputs": [
    {
     "data": {
      "image/png": "[encoded data removed]",
      "text/plain": [
       "<Figure size 432x288 with 1 Axes>"
      ]
     },
     "metadata": {
      "needs_background": "light"
     },
     "output_type": "display_data"
    }
   ],
   "source": [
    "#Q2: Plot the correlation between duration of video (x-axis) and average views (y-axis) as a histogram.\n",
    "\n",
    "average_views = {}\n",
    "\n",
    "for duration in duration_buckets:\n",
    "    video_ids = duration_buckets[duration]\n",
    "    length = len(video_ids)\n",
    "    total_views = 0\n",
    "    \n",
    "    for video_id in video_ids:\n",
    "        views = videos2[video_id]['views']\n",
    "        total_views += views\n",
    "    \n",
    "    avg_views = total_views / length\n",
    "\n",
    "    average_views[duration] = avg_views\n",
    "\n",
    "average_views\n",
    "\n",
    "plot_dict(average_views, \"average_views\")\n"
   ]
  },
  {
   "cell_type": "code",
   "execution_count": 52,
   "id": "c4f3dcce",
   "metadata": {},
   "outputs": [
    {
     "data": {
      "text/plain": [
       "True"
      ]
     },
     "execution_count": 52,
     "metadata": {},
     "output_type": "execute_result"
    }
   ],
   "source": [
    "#Q2.1 Verify your plot using verify_bar\n",
    "\n",
    "verify_bar(average_views, 2)\n"
   ]
  },
  {
   "cell_type": "code",
   "execution_count": 53,
   "id": "2a8b838e",
   "metadata": {},
   "outputs": [
    {
     "data": {
      "image/png": "[encoded data removed]",
      "text/plain": [
       "<Figure size 432x288 with 1 Axes>"
      ]
     },
     "metadata": {
      "needs_background": "light"
     },
     "output_type": "display_data"
    }
   ],
   "source": [
    "#Q3: Plot the correlation between the hour at which the video is published (x-axis) and the average number of views (y-axis) across all videos in that hour as a histogram.\n",
    "\n",
    "hours_list = [i for i in range(24)]\n",
    "views_per_hour = {}\n",
    "\n",
    "for hour in hours_list:\n",
    "    total_views = 0\n",
    "    num_of_videos = 0\n",
    "    \n",
    "    for video_id in videos2:\n",
    "        utc_hour_published = int(videos2[video_id]['published_at'][-8:-6])\n",
    "        cdt_hour_published = (utc_hour_published - 5) % 24\n",
    "        views = videos2[video_id]['views']\n",
    "        \n",
    "        if hour == cdt_hour_published:\n",
    "            total_views += views\n",
    "            num_of_videos += 1\n",
    "    \n",
    "    avg_views = total_views / num_of_videos\n",
    "\n",
    "    views_per_hour[hour] = avg_views\n",
    "        \n",
    "plot_dict(views_per_hour, \"views\")\n"
   ]
  },
  {
   "cell_type": "code",
   "execution_count": 54,
   "id": "cc8a1c62",
   "metadata": {},
   "outputs": [
    {
     "data": {
      "text/plain": [
       "True"
      ]
     },
     "execution_count": 54,
     "metadata": {},
     "output_type": "execute_result"
    }
   ],
   "source": [
    "#Q3.1 Verify your plot using verify_bar\n",
    "\n",
    "verify_bar(views_per_hour, 3)\n"
   ]
  },
  {
   "cell_type": "code",
   "execution_count": 55,
   "id": "267e5e2b",
   "metadata": {},
   "outputs": [
    {
     "data": {
      "image/png": "[encoded data removed]",
      "text/plain": [
       "<Figure size 432x288 with 1 Axes>"
      ]
     },
     "metadata": {
      "needs_background": "light"
     },
     "output_type": "display_data"
    }
   ],
   "source": [
    "#Q4: Plot the correlation between the views (x-axis) and likes (y-axis) on a video.\n",
    "\n",
    "views_q4 = [videos[video_id]['views'] for video_id in videos if videos[video_id]['ratings_enabled'] == True]\n",
    "\n",
    "likes_q4 = [videos[video_id]['likes'] for video_id in videos if videos[video_id]['ratings_enabled'] == True]\n",
    "\n",
    "scatter(views_q4, likes_q4, \"views\", \"likes\")\n"
   ]
  },
  {
   "cell_type": "code",
   "execution_count": 56,
   "id": "9c43cf8a",
   "metadata": {},
   "outputs": [
    {
     "data": {
      "text/plain": [
       "True"
      ]
     },
     "execution_count": 56,
     "metadata": {},
     "output_type": "execute_result"
    }
   ],
   "source": [
    "#Q4.1 Verify your plot using verify_scatter\n",
    "\n",
    "verify_scatter(views_q4, likes_q4, 4)\n"
   ]
  },
  {
   "cell_type": "code",
   "execution_count": 57,
   "id": "6b047490",
   "metadata": {},
   "outputs": [
    {
     "data": {
      "image/png": "[encoded data removed]",
      "text/plain": [
       "<Figure size 432x288 with 1 Axes>"
      ]
     },
     "metadata": {
      "needs_background": "light"
     },
     "output_type": "display_data"
    }
   ],
   "source": [
    "#Q5: Plot the correlation between the views (x-axis) and likes (y-axis) on a video with the outliers removed.\n",
    "\n",
    "views_q5 = [videos[video_id]['views'] for video_id in videos if videos[video_id]['views'] <= 10**7 \\\n",
    "            and videos[video_id]['ratings_enabled'] == True]\n",
    "\n",
    "likes_q5 = [videos[video_id]['likes'] for video_id in videos if videos[video_id]['views'] <= 10**7 \\\n",
    "            and videos[video_id]['ratings_enabled'] == True]\n",
    "\n",
    "scatter(views_q5, likes_q5, \"views\", \"likes\")\n"
   ]
  },
  {
   "cell_type": "code",
   "execution_count": 58,
   "id": "a90b6dd8",
   "metadata": {},
   "outputs": [
    {
     "data": {
      "text/plain": [
       "True"
      ]
     },
     "execution_count": 58,
     "metadata": {},
     "output_type": "execute_result"
    }
   ],
   "source": [
    "#Q5.1 Verify your plot using verify_scatter\n",
    "\n",
    "verify_scatter(views_q5, likes_q5, 5)\n"
   ]
  },
  {
   "cell_type": "code",
   "execution_count": 59,
   "id": "48906788",
   "metadata": {},
   "outputs": [
    {
     "data": {
      "image/png": "[encoded data removed]",
      "text/plain": [
       "<Figure size 432x288 with 1 Axes>"
      ]
     },
     "metadata": {
      "needs_background": "light"
     },
     "output_type": "display_data"
    }
   ],
   "source": [
    "#Q6: Plot the correlation between the views (x-axis) and audience engagement (y-axis) on a video.\n",
    "\n",
    "views_q6 = [videos[video_id]['views'] for video_id in videos]\n",
    "\n",
    "audience_engagement_q6 = [len(videos[video_id]['comments']) / videos[video_id]['views'] for video_id in videos]\n",
    "\n",
    "scatter(views_q6, audience_engagement_q6, \"views\", \"engagement\")\n"
   ]
  },
  {
   "cell_type": "code",
   "execution_count": 60,
   "id": "48597e21",
   "metadata": {},
   "outputs": [
    {
     "data": {
      "text/plain": [
       "True"
      ]
     },
     "execution_count": 60,
     "metadata": {},
     "output_type": "execute_result"
    }
   ],
   "source": [
    "#Q6.1 Verify your plot using verify_scatter\n",
    "\n",
    "verify_scatter(views_q6, audience_engagement_q6, 6)\n"
   ]
  },
  {
   "cell_type": "code",
   "execution_count": 61,
   "id": "3761efc5",
   "metadata": {},
   "outputs": [
    {
     "data": {
      "image/png": "[encoded data removed]",
      "text/plain": [
       "<Figure size 432x288 with 1 Axes>"
      ]
     },
     "metadata": {
      "needs_background": "light"
     },
     "output_type": "display_data"
    }
   ],
   "source": [
    "#Q7: Plot the correlation between the views (x-axis) and audience engagement (y-axis) on a video with the outliers removed.\n",
    "\n",
    "views_q7 = [videos[video_id]['views'] for video_id in videos if videos[video_id]['views'] <= 10**7]\n",
    "\n",
    "audience_engagement_q7 = [len(videos[video_id]['comments']) / videos[video_id]['views'] for video_id in videos \\\n",
    "                          if videos[video_id]['views'] <= 10**7]\n",
    "\n",
    "scatter(views_q7, audience_engagement_q7, \"views\", \"engagement\")\n"
   ]
  },
  {
   "cell_type": "code",
   "execution_count": 62,
   "id": "e2eef02a",
   "metadata": {},
   "outputs": [
    {
     "data": {
      "text/plain": [
       "True"
      ]
     },
     "execution_count": 62,
     "metadata": {},
     "output_type": "execute_result"
    }
   ],
   "source": [
    "#Q7.1 Verify your plot using verify_scatter\n",
    "\n",
    "verify_scatter(views_q7, audience_engagement_q7, 7)\n"
   ]
  },
  {
   "cell_type": "code",
   "execution_count": 63,
   "id": "40501082",
   "metadata": {},
   "outputs": [
    {
     "data": {
      "image/png": "[encoded data removed]",
      "text/plain": [
       "<Figure size 432x288 with 1 Axes>"
      ]
     },
     "metadata": {
      "needs_background": "light"
     },
     "output_type": "display_data"
    }
   ],
   "source": [
    "#Q8: Plot the correlation between the length of a comment text (x-axis) and the number of likes on the comment (y-axis).\n",
    "\n",
    "comment_length_q8 = [comments[comment].comment_length for comment in comments]\n",
    "\n",
    "likes_q8 = [comments[comment].likes for comment in comments]\n",
    "\n",
    "scatter(comment_length_q8, likes_q8, \"comment_length\", \"likes\")\n"
   ]
  },
  {
   "cell_type": "code",
   "execution_count": 64,
   "id": "1e40f77d",
   "metadata": {},
   "outputs": [
    {
     "data": {
      "text/plain": [
       "True"
      ]
     },
     "execution_count": 64,
     "metadata": {},
     "output_type": "execute_result"
    }
   ],
   "source": [
    "#Q8.1 Verify your plot using verify_scatter\n",
    "\n",
    "verify_scatter(comment_length_q8, likes_q8, 8)\n"
   ]
  },
  {
   "cell_type": "code",
   "execution_count": 65,
   "id": "c851a07c",
   "metadata": {},
   "outputs": [
    {
     "data": {
      "image/png": "[encoded data removed]",
      "text/plain": [
       "<Figure size 432x288 with 1 Axes>"
      ]
     },
     "metadata": {
      "needs_background": "light"
     },
     "output_type": "display_data"
    }
   ],
   "source": [
    "#Q9: Plot the correlation between the length of a comment text (x-axis) and the number of likes on the comment (y-axis) with the outliers removed.\n",
    "\n",
    "comment_length_q9 = [comments[comment].comment_length for comment in comments \\\n",
    "                     if comments[comment].comment_length <= 500]\n",
    "\n",
    "likes_q9 = [comments[comment].likes for comment in comments if comments[comment].comment_length <= 500]\n",
    "\n",
    "scatter(comment_length_q9, likes_q9, \"comment_length\", \"likes\")\n"
   ]
  },
  {
   "cell_type": "code",
   "execution_count": 66,
   "id": "19c6784a",
   "metadata": {},
   "outputs": [
    {
     "data": {
      "text/plain": [
       "True"
      ]
     },
     "execution_count": 66,
     "metadata": {},
     "output_type": "execute_result"
    }
   ],
   "source": [
    "#Q9.1 Verify your plot using verify_scatter\n",
    "\n",
    "verify_scatter(comment_length_q9, likes_q9, 9)\n"
   ]
  },
  {
   "cell_type": "code",
   "execution_count": 67,
   "id": "7235babb",
   "metadata": {},
   "outputs": [],
   "source": [
    "# Function requirement\n",
    "\n",
    "def sort_comments_by_published_time(video_title):\n",
    "\n",
    "    for video_id in videos:\n",
    "        title = videos[video_id][\"title\"]\n",
    "        \n",
    "        if title == video_title:\n",
    "            comments_ids = videos[video_id]['comments']\n",
    "            comment_dict = {comment_id : comments[comment_id].published_at for comment_id in comments_ids}\n",
    "            sorted_comment_dict = sorted(comment_dict.items(), key = lambda d:d[-1])\n",
    "            sorted_comment_ids = [k for (k,v) in sorted_comment_dict]\n",
    "        \n",
    "    return sorted_comment_ids\n",
    "    \n",
    "assert sort_comments_by_published_time(\"Out of pocket tik toks 4\")[0] == \"UgxI96cloxd04ldEkv94AaABAg\"\n"
   ]
  },
  {
   "cell_type": "code",
   "execution_count": 68,
   "id": "f77ee702",
   "metadata": {},
   "outputs": [
    {
     "data": {
      "text/plain": [
       "66"
      ]
     },
     "execution_count": 68,
     "metadata": {},
     "output_type": "execute_result"
    }
   ],
   "source": [
    "#Q10: What is the length of the first comment under the video \"If I lose a boss fight, the video ends 2 (Genshin Impact)\"?\n",
    "\n",
    "comment_ids_list = sort_comments_by_published_time(\"If I lose a boss fight, the video ends 2 (Genshin Impact)\")\n",
    "\n",
    "first_comment = comment_ids_list[0]\n",
    "\n",
    "first_comment_length = comments[first_comment].comment_length\n",
    "\n",
    "first_comment_length\n"
   ]
  },
  {
   "cell_type": "code",
   "execution_count": 69,
   "id": "6388337d",
   "metadata": {},
   "outputs": [
    {
     "data": {
      "text/plain": [
       "478.6"
      ]
     },
     "execution_count": 69,
     "metadata": {},
     "output_type": "execute_result"
    }
   ],
   "source": [
    "#Q11: What is the average number of likes for the first 5 comments under the video 'Facebook, Instagram and WhatsApp down in global outage'?\n",
    "\n",
    "comment_ids_list = sort_comments_by_published_time('Facebook, Instagram and WhatsApp down in global outage')\n",
    "\n",
    "first_5_comments = comment_ids_list[:5]\n",
    "\n",
    "total_likes = 0\n",
    "num_of_comments = len(first_5_comments)\n",
    "\n",
    "for comment in first_5_comments:\n",
    "    likes = comments[comment].likes\n",
    "    total_likes += likes\n",
    "\n",
    "avg_likes = total_likes / num_of_comments\n",
    "\n",
    "avg_likes\n"
   ]
  },
  {
   "cell_type": "code",
   "execution_count": 70,
   "id": "2b4e6ed8",
   "metadata": {},
   "outputs": [],
   "source": [
    "# Helper function\n",
    "\n",
    "def time_delta(start, end):\n",
    "    ''' Takes in start and end times in \"yyyy-mm-dd hh:mm:ss\" format and \n",
    "    returns the number of days (as a float) between the two times '''\n",
    "    \n",
    "    start_dt = dt.strptime(start,'%Y-%m-%d %H:%M:%S')\n",
    "    end_dt = dt.strptime(end, '%Y-%m-%d %H:%M:%S')\n",
    "    \n",
    "    return (end_dt-start_dt).total_seconds()/86400\n",
    "\n",
    "assert time_delta('2021-11-16 10:00:15', '2021-11-18 08:30:00') == 1.937326388888889\n"
   ]
  },
  {
   "cell_type": "code",
   "execution_count": 71,
   "id": "8a9d4b4b",
   "metadata": {},
   "outputs": [
    {
     "data": {
      "image/png": "[encoded data removed]",
      "text/plain": [
       "<Figure size 432x288 with 1 Axes>"
      ]
     },
     "metadata": {
      "needs_background": "light"
     },
     "output_type": "display_data"
    }
   ],
   "source": [
    "#Q12: Plot the correlation between when a comment is published relative to video publish time (x-axis) and the number of likes on the comment (y-axis).\n",
    "\n",
    "deltas_q12 = []\n",
    "likes_q12 = []\n",
    "\n",
    "for video_id in videos:\n",
    "    video_publish_time = videos[video_id][\"published_at\"]\n",
    "    comment_ids = videos[video_id][\"comments\"]\n",
    "    \n",
    "    for comment_id in comment_ids:\n",
    "\n",
    "        comment_publish_time = comments[comment_id].published_at\n",
    "        likes = comments[comment_id].likes\n",
    "        likes_q12.append(likes)\n",
    "        \n",
    "        deltas = time_delta(video_publish_time, comment_publish_time)\n",
    "        deltas_q12.append(deltas)\n",
    "\n",
    "scatter(deltas_q12, likes_q12, \"days after the video was published\", \"likes\")\n"
   ]
  },
  {
   "cell_type": "code",
   "execution_count": 72,
   "id": "604dfb45",
   "metadata": {},
   "outputs": [
    {
     "data": {
      "text/plain": [
       "True"
      ]
     },
     "execution_count": 72,
     "metadata": {},
     "output_type": "execute_result"
    }
   ],
   "source": [
    "#Q12.1 Verify your plot using verify_scatter\n",
    "\n",
    "verify_scatter(deltas_q12, likes_q12, 12)\n"
   ]
  },
  {
   "cell_type": "code",
   "execution_count": 73,
   "id": "3d1b8f16",
   "metadata": {},
   "outputs": [
    {
     "data": {
      "image/png": "[encoded data removed]",
      "text/plain": [
       "<Figure size 432x288 with 1 Axes>"
      ]
     },
     "metadata": {
      "needs_background": "light"
     },
     "output_type": "display_data"
    }
   ],
   "source": [
    "#Q13: Plot the correlation between when a comment is published relative to video publish time (x-axis) and the length of the comment (y-axis).\n",
    "\n",
    "deltas_q13 = []\n",
    "length_q13 = []\n",
    "\n",
    "for video_id in videos:\n",
    "    video_publish_time = videos[video_id][\"published_at\"]\n",
    "    comment_ids = videos[video_id][\"comments\"]\n",
    "    \n",
    "    for comment_id in comment_ids:\n",
    "\n",
    "        comment_publish_time = comments[comment_id].published_at\n",
    "        length = comments[comment_id].comment_length\n",
    "        length_q13.append(length)\n",
    "        \n",
    "        deltas = time_delta(video_publish_time, comment_publish_time)\n",
    "        deltas_q13.append(deltas)\n",
    "\n",
    "scatter(deltas_q13, length_q13, \"days after the video was published\", \"length of comments\")\n"
   ]
  },
  {
   "cell_type": "code",
   "execution_count": 74,
   "id": "bf747bcb",
   "metadata": {},
   "outputs": [
    {
     "data": {
      "text/plain": [
       "True"
      ]
     },
     "execution_count": 74,
     "metadata": {},
     "output_type": "execute_result"
    }
   ],
   "source": [
    "#Q13.1 Verify your plot using verify_scatter\n",
    "\n",
    "verify_scatter(deltas_q13, length_q13, 13)\n"
   ]
  },
  {
   "cell_type": "code",
   "execution_count": 75,
   "id": "115d1cbd",
   "metadata": {},
   "outputs": [],
   "source": [
    "# From lab11\n",
    "\n",
    "def get_all_paths_in(directory):\n",
    "    '''Given a directory path, recursively explore that directory for any files,\n",
    "    and returns a list of paths to files inside that directory'''\n",
    "    \n",
    "    all_paths_in_dir = []\n",
    "    \n",
    "    dir_contents = sorted(os.listdir(directory))\n",
    "\n",
    "    for item in dir_contents:\n",
    "        path_to_item = os.path.join(directory, item)\n",
    "        \n",
    "        if os.path.isfile(path_to_item):\n",
    "            all_paths_in_dir.append(path_to_item)        \n",
    "        \n",
    "        else:\n",
    "            all_paths_in_dir.extend(get_all_paths_in(path_to_item))\n",
    "\n",
    "    return all_paths_in_dir\n"
   ]
  },
  {
   "cell_type": "code",
   "execution_count": 76,
   "id": "d5824543",
   "metadata": {},
   "outputs": [
    {
     "data": {
      "text/plain": [
       "['broken_file/special/special.json']"
      ]
     },
     "execution_count": 76,
     "metadata": {},
     "output_type": "execute_result"
    }
   ],
   "source": [
    "#Q14: What are the paths of the files in the special directory of the broken_file directory?\n",
    "\n",
    "get_all_paths_in(os.path.join(\"broken_file\", \"special\"))\n"
   ]
  },
  {
   "cell_type": "code",
   "execution_count": 77,
   "id": "4bedb4af",
   "metadata": {},
   "outputs": [
    {
     "data": {
      "text/plain": [
       "['broken_file/non_english/rest/japanese/japanese.json',\n",
       " 'broken_file/non_english/rest/rest.json']"
      ]
     },
     "execution_count": 77,
     "metadata": {},
     "output_type": "execute_result"
    }
   ],
   "source": [
    "#Q15: What are the paths of the files in the rest directory of the non_english directory of the broken_file directory?\n",
    "\n",
    "get_all_paths_in(os.path.join(\"broken_file\", \"non_english\", \"rest\"))\n"
   ]
  },
  {
   "cell_type": "code",
   "execution_count": 78,
   "id": "e6d88b9f",
   "metadata": {},
   "outputs": [
    {
     "data": {
      "text/plain": [
       "['broken_file/english_uppercase/L_to_Q/O.json',\n",
       " 'broken_file/english_uppercase/L_to_Q/rest/L_to_N/M.json',\n",
       " 'broken_file/english_uppercase/L_to_Q/rest/L_to_N/rest/rest.json',\n",
       " 'broken_file/english_uppercase/L_to_Q/rest/P_to_Q.json']"
      ]
     },
     "execution_count": 78,
     "metadata": {},
     "output_type": "execute_result"
    }
   ],
   "source": [
    "#Q16: What are the paths of the files in the L_to_Q directory of the english_uppercase directory of the broken_file directory?\n",
    "\n",
    "get_all_paths_in(os.path.join(\"broken_file\", \"english_uppercase\", \"L_to_Q\"))\n"
   ]
  },
  {
   "cell_type": "code",
   "execution_count": 79,
   "id": "83987317",
   "metadata": {},
   "outputs": [
    {
     "data": {
      "text/plain": [
       "['broken_file/english_lowercase/a_to_m/a_to_m.json',\n",
       " 'broken_file/english_lowercase/rest.json',\n",
       " 'broken_file/english_uppercase/A_to_E/A/A.json',\n",
       " 'broken_file/english_uppercase/A_to_E/E.json',\n",
       " 'broken_file/english_uppercase/A_to_E/rest/rest.json',\n",
       " 'broken_file/english_uppercase/F_to_K/F_to_H.json',\n",
       " 'broken_file/english_uppercase/F_to_K/I_to_K/I/I.json',\n",
       " 'broken_file/english_uppercase/F_to_K/I_to_K/rest.json',\n",
       " 'broken_file/english_uppercase/L_to_Q/O.json',\n",
       " 'broken_file/english_uppercase/L_to_Q/rest/L_to_N/M.json',\n",
       " 'broken_file/english_uppercase/L_to_Q/rest/L_to_N/rest/rest.json',\n",
       " 'broken_file/english_uppercase/L_to_Q/rest/P_to_Q.json',\n",
       " 'broken_file/english_uppercase/R_to_W.json',\n",
       " 'broken_file/english_uppercase/rest.json',\n",
       " 'broken_file/non_english/korean.json',\n",
       " 'broken_file/non_english/rest/japanese/japanese.json',\n",
       " 'broken_file/non_english/rest/rest.json',\n",
       " 'broken_file/non_english/russian/russian.json',\n",
       " 'broken_file/number.json',\n",
       " 'broken_file/special/special.json']"
      ]
     },
     "execution_count": 79,
     "metadata": {},
     "output_type": "execute_result"
    }
   ],
   "source": [
    "#Q17: What are the paths of the files in the broken_file directory?\n",
    "\n",
    "all_broken_paths = get_all_paths_in(\"broken_file\")\n",
    "\n",
    "all_broken_paths\n"
   ]
  },
  {
   "cell_type": "code",
   "execution_count": 80,
   "id": "67d4792f",
   "metadata": {},
   "outputs": [
    {
     "data": {
      "text/plain": [
       "18519"
      ]
     },
     "execution_count": 80,
     "metadata": {},
     "output_type": "execute_result"
    }
   ],
   "source": [
    "#Q18: How many channel mappings are in the files in the broken_file directory?\n",
    "\n",
    "broken_mapping = {}\n",
    "\n",
    "for file in all_broken_paths:\n",
    "    broken_mapping.update(get_mapping(file))\n",
    "\n",
    "channel_mappings = len(broken_mapping)\n",
    "\n",
    "channel_mappings\n"
   ]
  },
  {
   "cell_type": "code",
   "execution_count": 81,
   "id": "f5a4e415",
   "metadata": {},
   "outputs": [
    {
     "data": {
      "text/plain": [
       "'Like it Matters'"
      ]
     },
     "execution_count": 81,
     "metadata": {},
     "output_type": "execute_result"
    }
   ],
   "source": [
    "#Q19: What is the name of the channel with the channel ID UCwtzSiUayocxaOHLnHe90Hw?\n",
    "\n",
    "broken_mapping[\"UCwtzSiUayocxaOHLnHe90Hw\"]\n"
   ]
  },
  {
   "cell_type": "code",
   "execution_count": 82,
   "id": "76562571",
   "metadata": {},
   "outputs": [
    {
     "data": {
      "text/plain": [
       "['ChippyGaming',\n",
       " 'Odin J',\n",
       " 'A comely black woman',\n",
       " 'BadBoyHalo',\n",
       " 'Nakatomino Calamari ']"
      ]
     },
     "execution_count": 82,
     "metadata": {},
     "output_type": "execute_result"
    }
   ],
   "source": [
    "#Q20: What are the names of the top 5 channels from the broken_file with the most likes on their comments?\n",
    "        \n",
    "likes_dict = {comments[comment_id].author_id : comments[comment_id].likes for comment_id in comments \\\n",
    "              if comments[comment_id].author_id in broken_mapping}\n",
    "\n",
    "sorted_likes_dict = sorted(likes_dict.items(), key = lambda s:s[-1], reverse = True)\n",
    "\n",
    "top_5_channels = [broken_mapping[k] for (k,v) in sorted_likes_dict[:5]]\n",
    "\n",
    "top_5_channels\n"
   ]
  }
 ],
 "metadata": {
  "kernelspec": {
   "display_name": "Python 3 (ipykernel)",
   "language": "python",
   "name": "python3"
  },
  "language_info": {
   "codemirror_mode": {
    "name": "ipython",
    "version": 3
   },
   "file_extension": ".py",
   "mimetype": "text/x-python",
   "name": "python",
   "nbconvert_exporter": "python",
   "pygments_lexer": "ipython3",
   "version": "3.9.7"
  }
 },
 "nbformat": 4,
 "nbformat_minor": 5
}
