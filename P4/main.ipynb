{
 "cells": [
  {
   "cell_type": "code",
   "execution_count": 1,
   "id": "94dc94f8",
   "metadata": {},
   "outputs": [],
   "source": [
    "# project: p4\n",
    "# submitter: ashik\n",
    "# partner: None\n",
    "# hours: 6"
   ]
  },
  {
   "cell_type": "code",
   "execution_count": 2,
   "id": "77bdab44",
   "metadata": {},
   "outputs": [],
   "source": [
    "import project\n",
    "import math"
   ]
  },
  {
   "cell_type": "code",
   "execution_count": 3,
   "id": "34136f53",
   "metadata": {},
   "outputs": [
    {
     "name": "stdout",
     "output_type": "stream",
     "text": [
      "Help on module project:\n",
      "\n",
      "NAME\n",
      "    project\n",
      "\n",
      "FUNCTIONS\n",
      "    __init__()\n",
      "        This function loads the data from 'pokemon_stats.csv' and 'type_effectiveness_stats.csv'. This function runs automatically, when the module is imported\n",
      "    \n",
      "    get_attack(pkmn)\n",
      "        get_attack(pkmn) returns the Attack of the Pokémon with the name 'pkmn'\n",
      "    \n",
      "    get_defense(pkmn)\n",
      "        get_defense(pkmn) returns the Defense of the Pokémon with the name 'pkmn'\n",
      "    \n",
      "    get_hp(pkmn)\n",
      "        get_hp(pkmn) returns the HP of the Pokémon with the name 'pkmn'\n",
      "    \n",
      "    get_region(pkmn)\n",
      "        get_region(pkmn) returns the region of the Pokémon with the name 'pkmn'\n",
      "    \n",
      "    get_sp_atk(pkmn)\n",
      "        get_sp_atk(pkmn) returns the Special Attack of the Pokémon with the name 'pkmn'\n",
      "    \n",
      "    get_sp_def(pkmn)\n",
      "        get_sp_def(pkmn) returns the Special Defense of the Pokémon with the name 'pkmn'\n",
      "    \n",
      "    get_speed(pkmn)\n",
      "        get_speed(pkmn) returns the Speed of the Pokémon with the name 'pkmn'\n",
      "    \n",
      "    get_type1(pkmn)\n",
      "        get_type1(pkmn) returns Type 1 of the Pokémon with the name 'pkmn'\n",
      "    \n",
      "    get_type2(pkmn)\n",
      "        get_type2(pkmn) returns Type 2 of the Pokémon with the name 'pkmn'\n",
      "    \n",
      "    get_type_effectiveness(attacker_type, defender_type)\n",
      "        get_type_effectiveness(attacker_type, defender_type) returns the effectiveness of attacker's type against defender's type\n",
      "    \n",
      "    print_stats(pkmn)\n",
      "        print_stats(pkmn) prints all the statistics of the Pokémon with the name 'pkmn'\n",
      "\n",
      "DATA\n",
      "    __effectiveness__ = {'Bug': {'Bug': 1.0, 'Dark': 2.0, 'Dragon': 1.0, '...\n",
      "    __pokemon__ = {'Abomasnow': {'Attack': 92, 'Defense': 75, 'HP': 90, 'N...\n",
      "\n",
      "FILE\n",
      "    /Users/axl115/Documents/Digital Builder Program/CS220/Projects/P4/project.py\n",
      "\n",
      "\n"
     ]
    }
   ],
   "source": [
    "help(project)"
   ]
  },
  {
   "cell_type": "code",
   "execution_count": 4,
   "id": "7606bc5a",
   "metadata": {},
   "outputs": [
    {
     "name": "stdout",
     "output_type": "stream",
     "text": [
      "Help on built-in function ceil in module math:\n",
      "\n",
      "ceil(x, /)\n",
      "    Return the ceiling of x as an Integral.\n",
      "    \n",
      "    This is the smallest integer >= x.\n",
      "\n"
     ]
    }
   ],
   "source": [
    "help(math.ceil)"
   ]
  },
  {
   "cell_type": "code",
   "execution_count": 5,
   "id": "d707e123",
   "metadata": {},
   "outputs": [],
   "source": [
    "# Function 1: damage(attacker, defender) \n",
    "\n",
    "def damage(attacker, defender):\n",
    "    \n",
    "    physical_damage = 10 * project.get_attack(attacker) / project.get_defense(defender)\n",
    "    special_damage = 10 * project.get_sp_atk(attacker) / project.get_sp_def(defender)\n",
    "\n",
    "    if physical_damage >= special_damage:\n",
    "        return physical_damage\n",
    "    else:\n",
    "        return special_damage\n",
    "    "
   ]
  },
  {
   "cell_type": "code",
   "execution_count": 6,
   "id": "4413b89f",
   "metadata": {},
   "outputs": [
    {
     "data": {
      "text/plain": [
       "4.545454545454546"
      ]
     },
     "execution_count": 6,
     "metadata": {},
     "output_type": "execute_result"
    }
   ],
   "source": [
    "# Q1: How much damage does Kakuna do to Paras?\n",
    "\n",
    "damage('Kakuna', 'Paras')\n"
   ]
  },
  {
   "cell_type": "code",
   "execution_count": 7,
   "id": "4faf0a4f",
   "metadata": {},
   "outputs": [
    {
     "data": {
      "text/plain": [
       "16.25"
      ]
     },
     "execution_count": 7,
     "metadata": {},
     "output_type": "execute_result"
    }
   ],
   "source": [
    "# Q2: How much damage does Delcatty do to Fennekin?\n",
    "\n",
    "damage('Delcatty', 'Fennekin')\n"
   ]
  },
  {
   "cell_type": "code",
   "execution_count": 8,
   "id": "8cb8adc7",
   "metadata": {},
   "outputs": [],
   "source": [
    "# Function 2: type_bonus(attack_type, defender)\n",
    "\n",
    "def type_bonus(attack_type, defender):\n",
    "    \n",
    "    defender_type1 = project.get_type1(defender)\n",
    "    defender_type2 = project.get_type2(defender)\n",
    "    \n",
    "    bonus = project.get_type_effectiveness(attack_type, defender_type1)\n",
    "    \n",
    "    if defender_type2 != 'None':\n",
    "        bonus = project.get_type_effectiveness(attack_type, defender_type1) * project.get_type_effectiveness(attack_type, defender_type2)\n",
    "    return bonus\n"
   ]
  },
  {
   "cell_type": "code",
   "execution_count": 9,
   "id": "d3aa22fb",
   "metadata": {},
   "outputs": [
    {
     "data": {
      "text/plain": [
       "1.0"
      ]
     },
     "execution_count": 9,
     "metadata": {},
     "output_type": "execute_result"
    }
   ],
   "source": [
    "# Q3: How effective is Poison-type against Pikachu?\n",
    "\n",
    "type_bonus('Poison', 'Pikachu')\n"
   ]
  },
  {
   "cell_type": "code",
   "execution_count": 10,
   "id": "c57b8ef6",
   "metadata": {},
   "outputs": [
    {
     "data": {
      "text/plain": [
       "0.5"
      ]
     },
     "execution_count": 10,
     "metadata": {},
     "output_type": "execute_result"
    }
   ],
   "source": [
    "# Q4: How effective is Water-type against Slowbro?\n",
    "\n",
    "type_bonus('Water', 'Slowbro')\n"
   ]
  },
  {
   "cell_type": "code",
   "execution_count": 11,
   "id": "8a762ca2",
   "metadata": {},
   "outputs": [],
   "source": [
    "# Defining the get_num_types function used in Lab 4 to find the number of types available for a given pokemon\n",
    "\n",
    "def get_num_types(pkmn):\n",
    "    \n",
    "    if project.get_type1(pkmn) == 'None':\n",
    "        return 0\n",
    "    elif project.get_type2(pkmn) == 'None':\n",
    "        return 1\n",
    "    else:\n",
    "        return 2\n"
   ]
  },
  {
   "cell_type": "code",
   "execution_count": 12,
   "id": "98cc984c",
   "metadata": {},
   "outputs": [],
   "source": [
    "# Function 3: effective_damage(attacker, defender)\n",
    "\n",
    "def effective_damage(attacker, defender):\n",
    "    \n",
    "    attacker_type1 = project.get_type1(attacker)\n",
    "    attacker_type2 = project.get_type2(attacker)\n",
    "    \n",
    "    damage_caused = damage(attacker, defender)\n",
    "    \n",
    "    if get_num_types(attacker) == 2:\n",
    "        attacker_bonus1 = type_bonus(attacker_type1, defender)\n",
    "        attacker_bonus2 = type_bonus(attacker_type2, defender)\n",
    "        eff_bonus = max(attacker_bonus1, attacker_bonus2)\n",
    "        eff_damage = damage_caused * eff_bonus\n",
    "        return eff_damage\n",
    "    \n",
    "    elif get_num_types(attacker) == 1:\n",
    "        attacker_bonus = type_bonus(attacker_type1, defender)\n",
    "        eff_damage = damage_caused * attacker_bonus\n",
    "        return eff_damage\n",
    "        \n",
    "    else:\n",
    "        return damage_caused\n",
    "        "
   ]
  },
  {
   "cell_type": "code",
   "execution_count": 13,
   "id": "58413fd8",
   "metadata": {},
   "outputs": [
    {
     "data": {
      "text/plain": [
       "12.222222222222221"
      ]
     },
     "execution_count": 13,
     "metadata": {},
     "output_type": "execute_result"
    }
   ],
   "source": [
    "# Q5: How much damage does Pikachu do to Haunter?\n",
    "\n",
    "effective_damage('Pikachu', 'Haunter')\n"
   ]
  },
  {
   "cell_type": "code",
   "execution_count": 14,
   "id": "011e2f4e",
   "metadata": {},
   "outputs": [
    {
     "data": {
      "text/plain": [
       "30.90909090909091"
      ]
     },
     "execution_count": 14,
     "metadata": {},
     "output_type": "execute_result"
    }
   ],
   "source": [
    "# Q6: How much damage does Quagsire do to Raichu?\n",
    "\n",
    "effective_damage('Quagsire', 'Raichu')\n"
   ]
  },
  {
   "cell_type": "code",
   "execution_count": 15,
   "id": "203aaa8b",
   "metadata": {},
   "outputs": [
    {
     "data": {
      "text/plain": [
       "12.380952380952381"
      ]
     },
     "execution_count": 15,
     "metadata": {},
     "output_type": "execute_result"
    }
   ],
   "source": [
    "# Q7: How much damage does Slowpoke do to Gligar?\n",
    "\n",
    "effective_damage('Slowpoke', 'Gligar')\n"
   ]
  },
  {
   "cell_type": "code",
   "execution_count": 16,
   "id": "4ff3a203",
   "metadata": {},
   "outputs": [],
   "source": [
    "# Function 4: num_hits(attacker, defender)\n",
    "\n",
    "def num_hits(attacker, defender):\n",
    "    return math.ceil(project.get_hp(defender) / effective_damage(attacker, defender))\n"
   ]
  },
  {
   "cell_type": "code",
   "execution_count": 17,
   "id": "2fb06b3e",
   "metadata": {},
   "outputs": [
    {
     "data": {
      "text/plain": [
       "1"
      ]
     },
     "execution_count": 17,
     "metadata": {},
     "output_type": "execute_result"
    }
   ],
   "source": [
    "# Q8: How many hits can the defending pokemon Bulbasaur take from Flareon (attacker)?\n",
    "\n",
    "num_hits('Flareon', 'Bulbasaur')\n"
   ]
  },
  {
   "cell_type": "code",
   "execution_count": 18,
   "id": "943f10f6",
   "metadata": {},
   "outputs": [
    {
     "data": {
      "text/plain": [
       "8"
      ]
     },
     "execution_count": 18,
     "metadata": {},
     "output_type": "execute_result"
    }
   ],
   "source": [
    "# Q9: How many hits can the defending pokemon Blastoise take from Charizard (attacker)?\n",
    "\n",
    "num_hits('Charizard', 'Blastoise')\n"
   ]
  },
  {
   "cell_type": "code",
   "execution_count": 19,
   "id": "095b5373",
   "metadata": {},
   "outputs": [],
   "source": [
    "# Function 5: battle(pkmn1, pkmn2)\n",
    "\n",
    "def battle(pkmn1, pkmn2):\n",
    "    \n",
    "    pkmn1_hits = num_hits(pkmn2, pkmn1)\n",
    "    pkmn2_hits = num_hits(pkmn1, pkmn2)\n",
    "    \n",
    "    pkmn1_speed = project.get_speed(pkmn1)\n",
    "    pkmn2_speed = project.get_speed(pkmn2)\n",
    "    \n",
    "    hits_diff = abs(pkmn1_hits - pkmn2_hits)\n",
    "    \n",
    "    if hits_diff < 10:\n",
    "        if pkmn1_hits > pkmn2_hits:\n",
    "            return pkmn1\n",
    "        elif pkmn2_hits > pkmn1_hits:\n",
    "            return pkmn2\n",
    "        elif pkmn1_hits == pkmn2_hits:\n",
    "            if pkmn1_speed > pkmn2_speed:\n",
    "                return pkmn1\n",
    "            elif pkmn2_speed > pkmn1_speed:\n",
    "                return pkmn2\n",
    "            else:\n",
    "                return 'Draw'\n",
    "    else:\n",
    "        if pkmn1_hits < pkmn2_hits:\n",
    "            return pkmn1 + ' ran away'\n",
    "        else:\n",
    "            return pkmn2 + ' ran away'\n"
   ]
  },
  {
   "cell_type": "code",
   "execution_count": 20,
   "id": "de74f124",
   "metadata": {},
   "outputs": [
    {
     "data": {
      "text/plain": [
       "'Flareon'"
      ]
     },
     "execution_count": 20,
     "metadata": {},
     "output_type": "execute_result"
    }
   ],
   "source": [
    "# Q10: What is the output of battle('Bulbasaur', 'Flareon')?\n",
    "\n",
    "battle('Bulbasaur', 'Flareon')\n"
   ]
  },
  {
   "cell_type": "code",
   "execution_count": 21,
   "id": "032c73a5",
   "metadata": {},
   "outputs": [
    {
     "data": {
      "text/plain": [
       "'Blastoise'"
      ]
     },
     "execution_count": 21,
     "metadata": {},
     "output_type": "execute_result"
    }
   ],
   "source": [
    "# Q11: What is the output of battle('Charizard', 'Blastoise')?\n",
    "\n",
    "battle('Charizard', 'Blastoise')\n"
   ]
  },
  {
   "cell_type": "code",
   "execution_count": 22,
   "id": "1a4458ef",
   "metadata": {},
   "outputs": [
    {
     "data": {
      "text/plain": [
       "'Starly'"
      ]
     },
     "execution_count": 22,
     "metadata": {},
     "output_type": "execute_result"
    }
   ],
   "source": [
    "# Q12: What is the output of battle('Pidgey', 'Starly')?\n",
    "\n",
    "battle('Pidgey', 'Starly')\n"
   ]
  },
  {
   "cell_type": "code",
   "execution_count": 23,
   "id": "5c835ea0",
   "metadata": {},
   "outputs": [
    {
     "data": {
      "text/plain": [
       "'Draw'"
      ]
     },
     "execution_count": 23,
     "metadata": {},
     "output_type": "execute_result"
    }
   ],
   "source": [
    "# Q13: What is the output of battle('Mudkip', 'Gulpin')?\n",
    "\n",
    "battle('Mudkip', 'Gulpin')\n"
   ]
  },
  {
   "cell_type": "code",
   "execution_count": 24,
   "id": "94b678f3",
   "metadata": {},
   "outputs": [
    {
     "data": {
      "text/plain": [
       "'Charizard'"
      ]
     },
     "execution_count": 24,
     "metadata": {},
     "output_type": "execute_result"
    }
   ],
   "source": [
    "# Q14: What is the output of battle('Charizard', 'Bellsprout')?\n",
    "\n",
    "battle('Charizard', 'Bellsprout')\n"
   ]
  },
  {
   "cell_type": "code",
   "execution_count": 25,
   "id": "bf4c0572",
   "metadata": {},
   "outputs": [
    {
     "data": {
      "text/plain": [
       "'Pikachu ran away'"
      ]
     },
     "execution_count": 25,
     "metadata": {},
     "output_type": "execute_result"
    }
   ],
   "source": [
    "# Q15: What is the output of battle('Mewtwo', 'Pikachu')?\n",
    "\n",
    "battle('Mewtwo', 'Pikachu')\n"
   ]
  },
  {
   "cell_type": "code",
   "execution_count": 26,
   "id": "34dcb636",
   "metadata": {},
   "outputs": [
    {
     "data": {
      "text/plain": [
       "'Magikarp ran away'"
      ]
     },
     "execution_count": 26,
     "metadata": {},
     "output_type": "execute_result"
    }
   ],
   "source": [
    "# Q16: What is the output of battle('Slowpoke', 'Magikarp')?\n",
    "\n",
    "battle('Slowpoke', 'Magikarp')\n"
   ]
  },
  {
   "cell_type": "code",
   "execution_count": 27,
   "id": "28aa74ba",
   "metadata": {},
   "outputs": [],
   "source": [
    "# Defining the same_region function used in Lab 4 to find if the two pokemons are from the same region \n",
    "\n",
    "def same_region(pkmn1, pkmn2):\n",
    "\n",
    "    pkmn1_region = project.get_region(pkmn1)\n",
    "    pkmn2_region = project.get_region(pkmn2)\n",
    "\n",
    "    if pkmn1_region == pkmn2_region:\n",
    "        return True\n",
    "    else:\n",
    "        return False\n",
    "    "
   ]
  },
  {
   "cell_type": "code",
   "execution_count": 28,
   "id": "c7bc4deb",
   "metadata": {},
   "outputs": [],
   "source": [
    "# Function 6: luap_battle(pkmn1, pkmn2)\n",
    "\n",
    "def luap_battle(pkmn1, pkmn2):\n",
    "    \n",
    "    pkmn1_type = project.get_type1(pkmn1)\n",
    "    pkmn2_type = project.get_type1(pkmn2)\n",
    "    \n",
    "    is_region_same = same_region(pkmn1, pkmn2)\n",
    "         \n",
    "    if (pkmn1_type == 'Fire' and pkmn2_type == 'Bug') or (pkmn2_type == 'Fire' and pkmn1_type == 'Bug'):\n",
    "        return \"Forbidden\"\n",
    "    else:\n",
    "        if is_region_same:\n",
    "            return \"Forbidden\"\n",
    "        else:\n",
    "            return battle(pkmn1, pkmn2) \n",
    "        "
   ]
  },
  {
   "cell_type": "code",
   "execution_count": 29,
   "id": "49a6d563",
   "metadata": {},
   "outputs": [
    {
     "data": {
      "text/plain": [
       "'Forbidden'"
      ]
     },
     "execution_count": 29,
     "metadata": {},
     "output_type": "execute_result"
    }
   ],
   "source": [
    "# Q17: What is the output of luap_battle('Paras', 'Arcanine')?\n",
    "\n",
    "luap_battle('Paras', 'Arcanine')\n"
   ]
  },
  {
   "cell_type": "code",
   "execution_count": 30,
   "id": "143fc315",
   "metadata": {},
   "outputs": [
    {
     "data": {
      "text/plain": [
       "'Forbidden'"
      ]
     },
     "execution_count": 30,
     "metadata": {},
     "output_type": "execute_result"
    }
   ],
   "source": [
    "# Q18: What is the output of luap_battle('Magby', 'Venomoth')?\n",
    "\n",
    "luap_battle('Magby', 'Venomoth')\n"
   ]
  },
  {
   "cell_type": "code",
   "execution_count": 31,
   "id": "f53957db",
   "metadata": {},
   "outputs": [
    {
     "data": {
      "text/plain": [
       "'Arcanine'"
      ]
     },
     "execution_count": 31,
     "metadata": {},
     "output_type": "execute_result"
    }
   ],
   "source": [
    "# Q19: What is the output of luap_battle('Electivire', 'Arcanine')?\n",
    "\n",
    "luap_battle('Electivire', 'Arcanine')\n"
   ]
  },
  {
   "cell_type": "code",
   "execution_count": 32,
   "id": "18334d52",
   "metadata": {},
   "outputs": [
    {
     "data": {
      "text/plain": [
       "'Forbidden'"
      ]
     },
     "execution_count": 32,
     "metadata": {},
     "output_type": "execute_result"
    }
   ],
   "source": [
    "# Q20: What is the output of luap_battle('Flygon', 'Sceptile')?\n",
    "\n",
    "luap_battle('Flygon', 'Sceptile')\n"
   ]
  },
  {
   "cell_type": "code",
   "execution_count": null,
   "id": "0781516f",
   "metadata": {},
   "outputs": [],
   "source": []
  }
 ],
 "metadata": {
  "kernelspec": {
   "display_name": "Python 3 (ipykernel)",
   "language": "python",
   "name": "python3"
  },
  "language_info": {
   "codemirror_mode": {
    "name": "ipython",
    "version": 3
   },
   "file_extension": ".py",
   "mimetype": "text/x-python",
   "name": "python",
   "nbconvert_exporter": "python",
   "pygments_lexer": "ipython3",
   "version": "3.9.7"
  }
 },
 "nbformat": 4,
 "nbformat_minor": 5
}
