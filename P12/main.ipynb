{
 "cells": [
  {
   "cell_type": "code",
   "execution_count": 1,
   "id": "6c277e06",
   "metadata": {},
   "outputs": [],
   "source": [
    "# project: p12\n",
    "# submitter: ashik\n",
    "# partner: None\n",
    "# hours: 8"
   ]
  },
  {
   "cell_type": "code",
   "execution_count": 2,
   "id": "fd3ced12",
   "metadata": {},
   "outputs": [],
   "source": [
    "import os\n",
    "import json\n",
    "import requests\n",
    "import pandas as pd\n",
    "\n",
    "from bs4 import BeautifulSoup"
   ]
  },
  {
   "cell_type": "code",
   "execution_count": 3,
   "id": "2689f788",
   "metadata": {},
   "outputs": [],
   "source": [
    "# Functions to write a file and to read a file\n",
    "\n",
    "def write_file(path, data):\n",
    "    '''This function writes the data into a file at given path'''\n",
    "    with open(path, 'w', encoding=\"utf-8\") as f:\n",
    "        f.write(data)\n",
    "        \n",
    "def read_file(path):\n",
    "    '''This function reads data from the file at the given path'''\n",
    "    with open(path, 'r', encoding=\"utf-8\") as f:\n",
    "        content = f.read()\n",
    "        return content \n",
    "    \n",
    "# Functions to write a json file and to read a json file\n",
    "\n",
    "def write_json(path, data):\n",
    "    '''This function writes the json data into a json file at given path'''\n",
    "    with open(path, 'w', encoding=\"utf-8\") as f:\n",
    "        json.dump(data, f, indent=2)\n",
    "        \n",
    "def read_json(path):\n",
    "    '''This function reads the json data from the json file at given path'''\n",
    "    with open(path, encoding=\"utf-8\") as f:\n",
    "        return json.load(f) "
   ]
  },
  {
   "cell_type": "code",
   "execution_count": 4,
   "id": "dd3e38ca",
   "metadata": {},
   "outputs": [],
   "source": [
    "# Using Download function from lab12\n",
    "\n",
    "def download(filename, url):\n",
    "    '''This function downloads the data from the given url\n",
    "       into a file with the filename provided'''\n",
    "    if os.path.exists(str(filename)):\n",
    "        return str(filename) + \" already exists!\"\n",
    "\n",
    "    try:\n",
    "        r = requests.get(url)\n",
    "        r.raise_for_status()\n",
    "        data_text = r.text\n",
    "        \n",
    "        write_file(str(filename), data_text)\n",
    "        \n",
    "    except requests.HTTPError as e:\n",
    "        print(\"oops!!\", e)\n",
    "               \n",
    "    return str(filename) + \" created!\"\n"
   ]
  },
  {
   "cell_type": "code",
   "execution_count": 5,
   "id": "ac796df5",
   "metadata": {},
   "outputs": [
    {
     "data": {
      "text/html": [
       "<div>\n",
       "<style scoped>\n",
       "    .dataframe tbody tr th:only-of-type {\n",
       "        vertical-align: middle;\n",
       "    }\n",
       "\n",
       "    .dataframe tbody tr th {\n",
       "        vertical-align: top;\n",
       "    }\n",
       "\n",
       "    .dataframe thead th {\n",
       "        text-align: right;\n",
       "    }\n",
       "</style>\n",
       "<table border=\"1\" class=\"dataframe\">\n",
       "  <thead>\n",
       "    <tr style=\"text-align: right;\">\n",
       "      <th></th>\n",
       "      <th>World Rank</th>\n",
       "      <th>Year</th>\n",
       "      <th>Institution</th>\n",
       "      <th>Country</th>\n",
       "      <th>National Rank</th>\n",
       "      <th>Quality of Education Rank</th>\n",
       "      <th>Alumni Employment Rank</th>\n",
       "      <th>Quality of Faculty Rank</th>\n",
       "      <th>Research Performance Rank</th>\n",
       "      <th>Score</th>\n",
       "    </tr>\n",
       "  </thead>\n",
       "  <tbody>\n",
       "    <tr>\n",
       "      <th>0</th>\n",
       "      <td>1</td>\n",
       "      <td>2019-2020</td>\n",
       "      <td>Harvard University</td>\n",
       "      <td>USA</td>\n",
       "      <td>1</td>\n",
       "      <td>2.0</td>\n",
       "      <td>1.0</td>\n",
       "      <td>1.0</td>\n",
       "      <td>1.0</td>\n",
       "      <td>100.0</td>\n",
       "    </tr>\n",
       "    <tr>\n",
       "      <th>1</th>\n",
       "      <td>2</td>\n",
       "      <td>2019-2020</td>\n",
       "      <td>Massachusetts Institute of Technology</td>\n",
       "      <td>USA</td>\n",
       "      <td>2</td>\n",
       "      <td>1.0</td>\n",
       "      <td>10.0</td>\n",
       "      <td>2.0</td>\n",
       "      <td>5.0</td>\n",
       "      <td>96.7</td>\n",
       "    </tr>\n",
       "    <tr>\n",
       "      <th>2</th>\n",
       "      <td>3</td>\n",
       "      <td>2019-2020</td>\n",
       "      <td>Stanford University</td>\n",
       "      <td>USA</td>\n",
       "      <td>3</td>\n",
       "      <td>9.0</td>\n",
       "      <td>3.0</td>\n",
       "      <td>3.0</td>\n",
       "      <td>2.0</td>\n",
       "      <td>95.2</td>\n",
       "    </tr>\n",
       "    <tr>\n",
       "      <th>3</th>\n",
       "      <td>4</td>\n",
       "      <td>2019-2020</td>\n",
       "      <td>University of Cambridge</td>\n",
       "      <td>United Kingdom</td>\n",
       "      <td>1</td>\n",
       "      <td>4.0</td>\n",
       "      <td>19.0</td>\n",
       "      <td>5.0</td>\n",
       "      <td>11.0</td>\n",
       "      <td>94.1</td>\n",
       "    </tr>\n",
       "    <tr>\n",
       "      <th>4</th>\n",
       "      <td>5</td>\n",
       "      <td>2019-2020</td>\n",
       "      <td>University of Oxford</td>\n",
       "      <td>United Kingdom</td>\n",
       "      <td>2</td>\n",
       "      <td>10.0</td>\n",
       "      <td>24.0</td>\n",
       "      <td>10.0</td>\n",
       "      <td>4.0</td>\n",
       "      <td>93.3</td>\n",
       "    </tr>\n",
       "    <tr>\n",
       "      <th>...</th>\n",
       "      <td>...</td>\n",
       "      <td>...</td>\n",
       "      <td>...</td>\n",
       "      <td>...</td>\n",
       "      <td>...</td>\n",
       "      <td>...</td>\n",
       "      <td>...</td>\n",
       "      <td>...</td>\n",
       "      <td>...</td>\n",
       "      <td>...</td>\n",
       "    </tr>\n",
       "    <tr>\n",
       "      <th>5995</th>\n",
       "      <td>1996</td>\n",
       "      <td>2021-2022</td>\n",
       "      <td>Santa Catarina State University</td>\n",
       "      <td>Brazil</td>\n",
       "      <td>56</td>\n",
       "      <td>NaN</td>\n",
       "      <td>936.0</td>\n",
       "      <td>NaN</td>\n",
       "      <td>1938.0</td>\n",
       "      <td>65.8</td>\n",
       "    </tr>\n",
       "    <tr>\n",
       "      <th>5996</th>\n",
       "      <td>1997</td>\n",
       "      <td>2021-2022</td>\n",
       "      <td>Yancheng Institute of Technology</td>\n",
       "      <td>China</td>\n",
       "      <td>275</td>\n",
       "      <td>NaN</td>\n",
       "      <td>NaN</td>\n",
       "      <td>NaN</td>\n",
       "      <td>1920.0</td>\n",
       "      <td>65.7</td>\n",
       "    </tr>\n",
       "    <tr>\n",
       "      <th>5997</th>\n",
       "      <td>1998</td>\n",
       "      <td>2021-2022</td>\n",
       "      <td>Xi'an University of Science and Technology</td>\n",
       "      <td>China</td>\n",
       "      <td>276</td>\n",
       "      <td>NaN</td>\n",
       "      <td>994.0</td>\n",
       "      <td>NaN</td>\n",
       "      <td>1937.0</td>\n",
       "      <td>65.7</td>\n",
       "    </tr>\n",
       "    <tr>\n",
       "      <th>5998</th>\n",
       "      <td>1999</td>\n",
       "      <td>2021-2022</td>\n",
       "      <td>CEU San Pablo University</td>\n",
       "      <td>Spain</td>\n",
       "      <td>53</td>\n",
       "      <td>NaN</td>\n",
       "      <td>568.0</td>\n",
       "      <td>NaN</td>\n",
       "      <td>1992.0</td>\n",
       "      <td>65.7</td>\n",
       "    </tr>\n",
       "    <tr>\n",
       "      <th>5999</th>\n",
       "      <td>2000</td>\n",
       "      <td>2021-2022</td>\n",
       "      <td>Huzhou University</td>\n",
       "      <td>China</td>\n",
       "      <td>277</td>\n",
       "      <td>NaN</td>\n",
       "      <td>NaN</td>\n",
       "      <td>NaN</td>\n",
       "      <td>1922.0</td>\n",
       "      <td>65.7</td>\n",
       "    </tr>\n",
       "  </tbody>\n",
       "</table>\n",
       "<p>6000 rows × 10 columns</p>\n",
       "</div>"
      ],
      "text/plain": [
       "      World Rank       Year                                 Institution  \\\n",
       "0              1  2019-2020                          Harvard University   \n",
       "1              2  2019-2020       Massachusetts Institute of Technology   \n",
       "2              3  2019-2020                         Stanford University   \n",
       "3              4  2019-2020                     University of Cambridge   \n",
       "4              5  2019-2020                        University of Oxford   \n",
       "...          ...        ...                                         ...   \n",
       "5995        1996  2021-2022             Santa Catarina State University   \n",
       "5996        1997  2021-2022            Yancheng Institute of Technology   \n",
       "5997        1998  2021-2022  Xi'an University of Science and Technology   \n",
       "5998        1999  2021-2022                    CEU San Pablo University   \n",
       "5999        2000  2021-2022                           Huzhou University   \n",
       "\n",
       "             Country  National Rank  Quality of Education Rank  \\\n",
       "0                USA              1                        2.0   \n",
       "1                USA              2                        1.0   \n",
       "2                USA              3                        9.0   \n",
       "3     United Kingdom              1                        4.0   \n",
       "4     United Kingdom              2                       10.0   \n",
       "...              ...            ...                        ...   \n",
       "5995          Brazil             56                        NaN   \n",
       "5996           China            275                        NaN   \n",
       "5997           China            276                        NaN   \n",
       "5998           Spain             53                        NaN   \n",
       "5999           China            277                        NaN   \n",
       "\n",
       "      Alumni Employment Rank  Quality of Faculty Rank  \\\n",
       "0                        1.0                      1.0   \n",
       "1                       10.0                      2.0   \n",
       "2                        3.0                      3.0   \n",
       "3                       19.0                      5.0   \n",
       "4                       24.0                     10.0   \n",
       "...                      ...                      ...   \n",
       "5995                   936.0                      NaN   \n",
       "5996                     NaN                      NaN   \n",
       "5997                   994.0                      NaN   \n",
       "5998                   568.0                      NaN   \n",
       "5999                     NaN                      NaN   \n",
       "\n",
       "      Research Performance Rank  Score  \n",
       "0                           1.0  100.0  \n",
       "1                           5.0   96.7  \n",
       "2                           2.0   95.2  \n",
       "3                          11.0   94.1  \n",
       "4                           4.0   93.3  \n",
       "...                         ...    ...  \n",
       "5995                     1938.0   65.8  \n",
       "5996                     1920.0   65.7  \n",
       "5997                     1937.0   65.7  \n",
       "5998                     1992.0   65.7  \n",
       "5999                     1922.0   65.7  \n",
       "\n",
       "[6000 rows x 10 columns]"
      ]
     },
     "execution_count": 5,
     "metadata": {},
     "output_type": "execute_result"
    }
   ],
   "source": [
    "# Downloading rankings.json from the given url\n",
    "\n",
    "rank_url = \"https://raw.githubusercontent.com/msyamkumar/cs220-s22-projects/main/p12/rankings.json\"\n",
    "\n",
    "download(\"rankings.json\", rank_url)\n",
    "\n",
    "# Converting data from the downloaded file into a DataFrame called rankings\n",
    "\n",
    "rankings = pd.read_json(\"rankings.json\")\n",
    "\n",
    "rankings\n"
   ]
  },
  {
   "cell_type": "code",
   "execution_count": 6,
   "id": "5d9883cd",
   "metadata": {},
   "outputs": [
    {
     "data": {
      "text/plain": [
       "103"
      ]
     },
     "execution_count": 6,
     "metadata": {},
     "output_type": "execute_result"
    }
   ],
   "source": [
    "#Q1: How many countries do we have in our dataset?\n",
    "\n",
    "unique_countries = pd.Series(rankings['Country'].unique())\n",
    "\n",
    "num_of_unique_countries = len(unique_countries)\n",
    "\n",
    "num_of_unique_countries\n"
   ]
  },
  {
   "cell_type": "code",
   "execution_count": 7,
   "id": "c8a1893f",
   "metadata": {},
   "outputs": [
    {
     "data": {
      "text/html": [
       "<div>\n",
       "<style scoped>\n",
       "    .dataframe tbody tr th:only-of-type {\n",
       "        vertical-align: middle;\n",
       "    }\n",
       "\n",
       "    .dataframe tbody tr th {\n",
       "        vertical-align: top;\n",
       "    }\n",
       "\n",
       "    .dataframe thead th {\n",
       "        text-align: right;\n",
       "    }\n",
       "</style>\n",
       "<table border=\"1\" class=\"dataframe\">\n",
       "  <thead>\n",
       "    <tr style=\"text-align: right;\">\n",
       "      <th></th>\n",
       "      <th>World Rank</th>\n",
       "      <th>Year</th>\n",
       "      <th>Institution</th>\n",
       "      <th>Country</th>\n",
       "      <th>National Rank</th>\n",
       "      <th>Quality of Education Rank</th>\n",
       "      <th>Alumni Employment Rank</th>\n",
       "      <th>Quality of Faculty Rank</th>\n",
       "      <th>Research Performance Rank</th>\n",
       "      <th>Score</th>\n",
       "    </tr>\n",
       "  </thead>\n",
       "  <tbody>\n",
       "    <tr>\n",
       "      <th>0</th>\n",
       "      <td>1</td>\n",
       "      <td>2019-2020</td>\n",
       "      <td>Harvard University</td>\n",
       "      <td>USA</td>\n",
       "      <td>1</td>\n",
       "      <td>2.0</td>\n",
       "      <td>1.0</td>\n",
       "      <td>1.0</td>\n",
       "      <td>1.0</td>\n",
       "      <td>100.0</td>\n",
       "    </tr>\n",
       "    <tr>\n",
       "      <th>2000</th>\n",
       "      <td>1</td>\n",
       "      <td>2020-2021</td>\n",
       "      <td>Harvard University</td>\n",
       "      <td>USA</td>\n",
       "      <td>1</td>\n",
       "      <td>3.0</td>\n",
       "      <td>1.0</td>\n",
       "      <td>1.0</td>\n",
       "      <td>1.0</td>\n",
       "      <td>100.0</td>\n",
       "    </tr>\n",
       "    <tr>\n",
       "      <th>4000</th>\n",
       "      <td>1</td>\n",
       "      <td>2021-2022</td>\n",
       "      <td>Harvard University</td>\n",
       "      <td>USA</td>\n",
       "      <td>1</td>\n",
       "      <td>1.0</td>\n",
       "      <td>1.0</td>\n",
       "      <td>1.0</td>\n",
       "      <td>1.0</td>\n",
       "      <td>100.0</td>\n",
       "    </tr>\n",
       "  </tbody>\n",
       "</table>\n",
       "</div>"
      ],
      "text/plain": [
       "      World Rank       Year         Institution Country  National Rank  \\\n",
       "0              1  2019-2020  Harvard University     USA              1   \n",
       "2000           1  2020-2021  Harvard University     USA              1   \n",
       "4000           1  2021-2022  Harvard University     USA              1   \n",
       "\n",
       "      Quality of Education Rank  Alumni Employment Rank  \\\n",
       "0                           2.0                     1.0   \n",
       "2000                        3.0                     1.0   \n",
       "4000                        1.0                     1.0   \n",
       "\n",
       "      Quality of Faculty Rank  Research Performance Rank  Score  \n",
       "0                         1.0                        1.0  100.0  \n",
       "2000                      1.0                        1.0  100.0  \n",
       "4000                      1.0                        1.0  100.0  "
      ]
     },
     "execution_count": 7,
     "metadata": {},
     "output_type": "execute_result"
    }
   ],
   "source": [
    "#Q2: Generate a pandas DataFrame containing all the statistics of the highest-ranked institution \n",
    "#based on \"World Rank\" (Note: highest rank is 1).\n",
    "\n",
    "rank_1 = rankings[rankings['World Rank'] == 1]\n",
    "\n",
    "rank_1\n"
   ]
  },
  {
   "cell_type": "code",
   "execution_count": 8,
   "id": "9b57543b",
   "metadata": {},
   "outputs": [
    {
     "data": {
      "text/html": [
       "<div>\n",
       "<style scoped>\n",
       "    .dataframe tbody tr th:only-of-type {\n",
       "        vertical-align: middle;\n",
       "    }\n",
       "\n",
       "    .dataframe tbody tr th {\n",
       "        vertical-align: top;\n",
       "    }\n",
       "\n",
       "    .dataframe thead th {\n",
       "        text-align: right;\n",
       "    }\n",
       "</style>\n",
       "<table border=\"1\" class=\"dataframe\">\n",
       "  <thead>\n",
       "    <tr style=\"text-align: right;\">\n",
       "      <th></th>\n",
       "      <th>World Rank</th>\n",
       "      <th>Year</th>\n",
       "      <th>Institution</th>\n",
       "      <th>Country</th>\n",
       "      <th>National Rank</th>\n",
       "      <th>Quality of Education Rank</th>\n",
       "      <th>Alumni Employment Rank</th>\n",
       "      <th>Quality of Faculty Rank</th>\n",
       "      <th>Research Performance Rank</th>\n",
       "      <th>Score</th>\n",
       "    </tr>\n",
       "  </thead>\n",
       "  <tbody>\n",
       "    <tr>\n",
       "      <th>24</th>\n",
       "      <td>25</td>\n",
       "      <td>2019-2020</td>\n",
       "      <td>University of Wisconsin–Madison</td>\n",
       "      <td>USA</td>\n",
       "      <td>19</td>\n",
       "      <td>28.0</td>\n",
       "      <td>80.0</td>\n",
       "      <td>35.0</td>\n",
       "      <td>27.0</td>\n",
       "      <td>87.3</td>\n",
       "    </tr>\n",
       "    <tr>\n",
       "      <th>2025</th>\n",
       "      <td>26</td>\n",
       "      <td>2020-2021</td>\n",
       "      <td>University of Wisconsin–Madison</td>\n",
       "      <td>USA</td>\n",
       "      <td>20</td>\n",
       "      <td>34.0</td>\n",
       "      <td>93.0</td>\n",
       "      <td>34.0</td>\n",
       "      <td>31.0</td>\n",
       "      <td>87.2</td>\n",
       "    </tr>\n",
       "    <tr>\n",
       "      <th>4024</th>\n",
       "      <td>25</td>\n",
       "      <td>2021-2022</td>\n",
       "      <td>University of Wisconsin–Madison</td>\n",
       "      <td>USA</td>\n",
       "      <td>19</td>\n",
       "      <td>33.0</td>\n",
       "      <td>97.0</td>\n",
       "      <td>29.0</td>\n",
       "      <td>32.0</td>\n",
       "      <td>87.3</td>\n",
       "    </tr>\n",
       "  </tbody>\n",
       "</table>\n",
       "</div>"
      ],
      "text/plain": [
       "      World Rank       Year                      Institution Country  \\\n",
       "24            25  2019-2020  University of Wisconsin–Madison     USA   \n",
       "2025          26  2020-2021  University of Wisconsin–Madison     USA   \n",
       "4024          25  2021-2022  University of Wisconsin–Madison     USA   \n",
       "\n",
       "      National Rank  Quality of Education Rank  Alumni Employment Rank  \\\n",
       "24               19                       28.0                    80.0   \n",
       "2025             20                       34.0                    93.0   \n",
       "4024             19                       33.0                    97.0   \n",
       "\n",
       "      Quality of Faculty Rank  Research Performance Rank  Score  \n",
       "24                       35.0                       27.0   87.3  \n",
       "2025                     34.0                       31.0   87.2  \n",
       "4024                     29.0                       32.0   87.3  "
      ]
     },
     "execution_count": 8,
     "metadata": {},
     "output_type": "execute_result"
    }
   ],
   "source": [
    "#Q3: Generate a pandas DataFrame containing all the statistics of \"University of Wisconsin–Madison\".\n",
    "\n",
    "uw_madison = rankings[rankings['Institution'] == 'University of Wisconsin–Madison']\n",
    "\n",
    "uw_madison\n"
   ]
  },
  {
   "cell_type": "code",
   "execution_count": 9,
   "id": "d35467af",
   "metadata": {},
   "outputs": [
    {
     "data": {
      "text/plain": [
       "19"
      ]
     },
     "execution_count": 9,
     "metadata": {},
     "output_type": "execute_result"
    }
   ],
   "source": [
    "#Q4: What is the \"National Rank\" of the \"University of Wisconsin–Madison\" in the year 2021-2022?\n",
    "\n",
    "rank_in_21_22 = uw_madison[uw_madison['Year'] == '2021-2022'].iloc[0]['National Rank']\n",
    "\n",
    "rank_in_21_22\n"
   ]
  },
  {
   "cell_type": "code",
   "execution_count": 10,
   "id": "eac968a0",
   "metadata": {},
   "outputs": [
    {
     "data": {
      "text/plain": [
       "87.26666666666667"
      ]
     },
     "execution_count": 10,
     "metadata": {},
     "output_type": "execute_result"
    }
   ],
   "source": [
    "#Q5: What is the average score of the \"University of Wisconsin–Madison\"?\n",
    "\n",
    "uw_score = uw_madison['Score']\n",
    "\n",
    "avg_score = uw_score.mean()\n",
    "\n",
    "avg_score\n"
   ]
  },
  {
   "cell_type": "code",
   "execution_count": 11,
   "id": "95bf3e35",
   "metadata": {},
   "outputs": [
    {
     "data": {
      "text/html": [
       "<div>\n",
       "<style scoped>\n",
       "    .dataframe tbody tr th:only-of-type {\n",
       "        vertical-align: middle;\n",
       "    }\n",
       "\n",
       "    .dataframe tbody tr th {\n",
       "        vertical-align: top;\n",
       "    }\n",
       "\n",
       "    .dataframe thead th {\n",
       "        text-align: right;\n",
       "    }\n",
       "</style>\n",
       "<table border=\"1\" class=\"dataframe\">\n",
       "  <thead>\n",
       "    <tr style=\"text-align: right;\">\n",
       "      <th></th>\n",
       "      <th>World Rank</th>\n",
       "      <th>Year</th>\n",
       "      <th>Institution</th>\n",
       "      <th>Country</th>\n",
       "      <th>National Rank</th>\n",
       "      <th>Quality of Education Rank</th>\n",
       "      <th>Alumni Employment Rank</th>\n",
       "      <th>Quality of Faculty Rank</th>\n",
       "      <th>Research Performance Rank</th>\n",
       "      <th>Score</th>\n",
       "    </tr>\n",
       "  </thead>\n",
       "  <tbody>\n",
       "    <tr>\n",
       "      <th>2094</th>\n",
       "      <td>95</td>\n",
       "      <td>2020-2021</td>\n",
       "      <td>National University of Singapore</td>\n",
       "      <td>Singapore</td>\n",
       "      <td>1</td>\n",
       "      <td>330.0</td>\n",
       "      <td>165.0</td>\n",
       "      <td>NaN</td>\n",
       "      <td>41.0</td>\n",
       "      <td>82.0</td>\n",
       "    </tr>\n",
       "    <tr>\n",
       "      <th>2139</th>\n",
       "      <td>140</td>\n",
       "      <td>2020-2021</td>\n",
       "      <td>Nanyang Technological University</td>\n",
       "      <td>Singapore</td>\n",
       "      <td>2</td>\n",
       "      <td>NaN</td>\n",
       "      <td>996.0</td>\n",
       "      <td>NaN</td>\n",
       "      <td>75.0</td>\n",
       "      <td>80.3</td>\n",
       "    </tr>\n",
       "    <tr>\n",
       "      <th>3150</th>\n",
       "      <td>1151</td>\n",
       "      <td>2020-2021</td>\n",
       "      <td>Singapore University of Technology and Design</td>\n",
       "      <td>Singapore</td>\n",
       "      <td>3</td>\n",
       "      <td>NaN</td>\n",
       "      <td>NaN</td>\n",
       "      <td>NaN</td>\n",
       "      <td>1092.0</td>\n",
       "      <td>69.4</td>\n",
       "    </tr>\n",
       "    <tr>\n",
       "      <th>3286</th>\n",
       "      <td>1287</td>\n",
       "      <td>2020-2021</td>\n",
       "      <td>Singapore Management University</td>\n",
       "      <td>Singapore</td>\n",
       "      <td>4</td>\n",
       "      <td>NaN</td>\n",
       "      <td>NaN</td>\n",
       "      <td>NaN</td>\n",
       "      <td>1225.0</td>\n",
       "      <td>68.7</td>\n",
       "    </tr>\n",
       "  </tbody>\n",
       "</table>\n",
       "</div>"
      ],
      "text/plain": [
       "      World Rank       Year                                    Institution  \\\n",
       "2094          95  2020-2021               National University of Singapore   \n",
       "2139         140  2020-2021               Nanyang Technological University   \n",
       "3150        1151  2020-2021  Singapore University of Technology and Design   \n",
       "3286        1287  2020-2021                Singapore Management University   \n",
       "\n",
       "        Country  National Rank  Quality of Education Rank  \\\n",
       "2094  Singapore              1                      330.0   \n",
       "2139  Singapore              2                        NaN   \n",
       "3150  Singapore              3                        NaN   \n",
       "3286  Singapore              4                        NaN   \n",
       "\n",
       "      Alumni Employment Rank  Quality of Faculty Rank  \\\n",
       "2094                   165.0                      NaN   \n",
       "2139                   996.0                      NaN   \n",
       "3150                     NaN                      NaN   \n",
       "3286                     NaN                      NaN   \n",
       "\n",
       "      Research Performance Rank  Score  \n",
       "2094                       41.0   82.0  \n",
       "2139                       75.0   80.3  \n",
       "3150                     1092.0   69.4  \n",
       "3286                     1225.0   68.7  "
      ]
     },
     "execution_count": 11,
     "metadata": {},
     "output_type": "execute_result"
    }
   ],
   "source": [
    "#Q6: Generate a pandas dataframe containing all the statistics of universities \n",
    "#from Singapore in the year 2020-2021.\n",
    "\n",
    "singapore_univs_in_20_21 = rankings[(rankings['Country'] == 'Singapore') \\\n",
    "                                    & (rankings['Year'] == '2020-2021')]\n",
    "\n",
    "singapore_univs_in_20_21\n"
   ]
  },
  {
   "cell_type": "code",
   "execution_count": 12,
   "id": "3dc31ded",
   "metadata": {},
   "outputs": [
    {
     "data": {
      "text/plain": [
       "'Ludwig Maximilian University of Munich'"
      ]
     },
     "execution_count": 12,
     "metadata": {},
     "output_type": "execute_result"
    }
   ],
   "source": [
    "#Q7: In the year 2019-2020, what was the highest-ranked institution in Germany?\n",
    "\n",
    "german_best = rankings[(rankings['Country'] == 'Germany') & (rankings['Year'] == '2019-2020') & \\\n",
    "                       (rankings['National Rank'] == 1)]\n",
    "\n",
    "german_best.iloc[0]['Institution']\n"
   ]
  },
  {
   "cell_type": "code",
   "execution_count": 13,
   "id": "b2a7cd0a",
   "metadata": {},
   "outputs": [
    {
     "data": {
      "text/plain": [
       "['Harvard University',\n",
       " 'Massachusetts Institute of Technology',\n",
       " 'Stanford University',\n",
       " 'Columbia University',\n",
       " 'Princeton University',\n",
       " 'University of California, Berkeley',\n",
       " 'University of Pennsylvania',\n",
       " 'University of Chicago',\n",
       " 'California Institute of Technology',\n",
       " 'Yale University',\n",
       " 'Cornell University',\n",
       " 'Northwestern University',\n",
       " 'University of California, Los Angeles',\n",
       " 'University of Michigan, Ann Arbor',\n",
       " 'Johns Hopkins University',\n",
       " 'University of Washington - Seattle',\n",
       " 'University of Illinois at Urbana–Champaign',\n",
       " 'Duke University',\n",
       " 'University of Wisconsin–Madison',\n",
       " 'New York University',\n",
       " 'University of California San Diego',\n",
       " 'University of Texas at Austin',\n",
       " 'University of California, San Francisco',\n",
       " 'University of North Carolina at Chapel Hill',\n",
       " 'University of Minnesota - Twin Cities',\n",
       " 'University of Texas Southwestern Medical Center',\n",
       " 'Washington University in St. Louis',\n",
       " 'University of Southern California',\n",
       " 'Brown University',\n",
       " 'Vanderbilt University',\n",
       " 'Pennsylvania State University',\n",
       " 'Rutgers University–New Brunswick',\n",
       " 'Dartmouth College',\n",
       " 'University of California, Davis']"
      ]
     },
     "execution_count": 13,
     "metadata": {},
     "output_type": "execute_result"
    }
   ],
   "source": [
    "#Q8: In the year 2019-2020, list all the institutions in the USA \n",
    "#ranked better than the highest-ranked institution in Germany.\n",
    "\n",
    "german_best_rank = int(german_best.iloc[0]['World Rank'])\n",
    "\n",
    "top_usa_univs = rankings[(rankings['Country'] == 'USA') & (rankings['Year'] == '2019-2020') & \\\n",
    "                     (rankings['World Rank'] < german_best_rank)]\n",
    " \n",
    "top_usa_univs.Institution.tolist()\n"
   ]
  },
  {
   "cell_type": "code",
   "execution_count": 14,
   "id": "b323637e",
   "metadata": {},
   "outputs": [
    {
     "data": {
      "text/plain": [
       "'Fudan University'"
      ]
     },
     "execution_count": 14,
     "metadata": {},
     "output_type": "execute_result"
    }
   ],
   "source": [
    "#Q9: What is the highest-ranked institution based on “Quality of Education Rank” \n",
    "#in China for the year 2021-2022?\n",
    "\n",
    "china_univs = rankings[(rankings['Country'] == 'China') \\\n",
    "                       & (rankings['Year'] == '2021-2022')]\n",
    "\n",
    "sorted_china_univs = china_univs.sort_values(by = 'Quality of Education Rank')\n",
    "\n",
    "highest_quality_rank = sorted_china_univs.iloc[0]['Institution']\n",
    "\n",
    "highest_quality_rank\n"
   ]
  },
  {
   "cell_type": "code",
   "execution_count": 15,
   "id": "0eced5d5",
   "metadata": {},
   "outputs": [
    {
     "data": {
      "text/plain": [
       "['Indian Institute of Science',\n",
       " 'Tata Institute of Fundamental Research',\n",
       " 'Indian Institute of Technology Bombay',\n",
       " 'University of Delhi',\n",
       " 'Indian Institute of Technology Madras']"
      ]
     },
     "execution_count": 15,
     "metadata": {},
     "output_type": "execute_result"
    }
   ],
   "source": [
    "#Q10: What are the top five highest-ranked institutions based on \n",
    "#\"Research Performance Rank\" in India for the year 2020-2021?\n",
    "\n",
    "india_univs = rankings[(rankings['Country'] == 'India') \\\n",
    "                       & (rankings['Year'] == '2020-2021')]\n",
    "\n",
    "sorted_india_univs = india_univs.sort_values(by = 'Research Performance Rank')\n",
    "\n",
    "highest_research_rank = sorted_india_univs.Institution.tolist()[:5]\n",
    "\n",
    "highest_research_rank\n"
   ]
  },
  {
   "cell_type": "code",
   "execution_count": 29,
   "id": "6574cd18",
   "metadata": {},
   "outputs": [
    {
     "data": {
      "text/plain": [
       "1856"
      ]
     },
     "execution_count": 29,
     "metadata": {},
     "output_type": "execute_result"
    }
   ],
   "source": [
    "#Q11: How many institutions have rankings for all three years?\n",
    "\n",
    "year_2019_ranking_df = rankings[rankings[\"Year\"] == \"2019-2020\"]\n",
    "year_2020_ranking_df = rankings[rankings[\"Year\"] == \"2020-2021\"]\n",
    "year_2021_ranking_df = rankings[rankings[\"Year\"] == \"2021-2022\"]\n",
    "\n",
    "set_2019_ranking = set(year_2019_ranking_df.Institution)\n",
    "set_2020_ranking = set(year_2020_ranking_df.Institution)\n",
    "set_2021_ranking = set(year_2021_ranking_df.Institution)\n",
    " \n",
    "institution_2019_2020_2021 = set_2019_ranking.intersection(set_2020_ranking, set_2021_ranking)\n",
    "\n",
    "len(institution_2019_2020_2021)\n"
   ]
  },
  {
   "cell_type": "code",
   "execution_count": 17,
   "id": "e4b3a906",
   "metadata": {},
   "outputs": [],
   "source": [
    "# Data Structure Requirement\n",
    "\n",
    "institutions = []\n",
    "\n",
    "for institution in institution_2019_2020_2021:\n",
    "    \n",
    "    year_2019_ranking = rankings[(rankings['Institution'] == institution) \\\n",
    "                                 & (rankings['Year'] == '2019-2020')].iloc[0]['World Rank']\n",
    "    year_2020_ranking = rankings[(rankings['Institution'] == institution) \\\n",
    "                                 & (rankings['Year'] == '2020-2021')].iloc[0]['World Rank']\n",
    "    year_2021_ranking = rankings[(rankings['Institution'] == institution) \\\n",
    "                                 & (rankings['Year'] == '2021-2022')].iloc[0]['World Rank']\n",
    "\n",
    "    institution_info = {}\n",
    "    \n",
    "    institution_info['Institution'] = institution\n",
    "    institution_info['2019_ranking'] = year_2019_ranking\n",
    "    institution_info['2020_ranking'] = year_2020_ranking\n",
    "    institution_info['2021_ranking'] = year_2021_ranking\n",
    "\n",
    "    institutions.append(institution_info)\n",
    "\n",
    "institutions_df = pd.DataFrame(institutions)\n"
   ]
  },
  {
   "cell_type": "code",
   "execution_count": 18,
   "id": "bb71558b",
   "metadata": {},
   "outputs": [
    {
     "data": {
      "text/plain": [
       "['USI - University of Italian Speaking Switzerland',\n",
       " 'Academy of Scientific & Innovative Research',\n",
       " 'Tôn Đức Thắng University',\n",
       " 'Haverford College',\n",
       " 'Federal University of Mato Grosso do Sul',\n",
       " 'SOAS University of London',\n",
       " 'École nationale supérieure de chimie de Montpellier',\n",
       " 'International Institute for Management Development',\n",
       " 'Antioch College']"
      ]
     },
     "execution_count": 18,
     "metadata": {},
     "output_type": "execute_result"
    }
   ],
   "source": [
    "#Q12: Between the years 2019-2020 and 2021-2022, list the institutions which have seen an \n",
    "#improvement in their \"World Rank\" by more than 500 ranks.\n",
    "\n",
    "institutions_df['rank_diff'] = institutions_df['2019_ranking'] - institutions_df['2021_ranking']\n",
    "\n",
    "improved_institutions_df = institutions_df[institutions_df['rank_diff'] > 500]\n",
    "\n",
    "improved_institutions = improved_institutions_df.Institution.tolist()\n",
    "\n",
    "improved_institutions\n"
   ]
  },
  {
   "cell_type": "code",
   "execution_count": 19,
   "id": "fbe2cdcb",
   "metadata": {},
   "outputs": [
    {
     "data": {
      "text/plain": [
       "'USI - University of Italian Speaking Switzerland'"
      ]
     },
     "execution_count": 19,
     "metadata": {},
     "output_type": "execute_result"
    }
   ],
   "source": [
    "#Q13: Between the years 2019-2020 and 2021-2022, which institution had \n",
    "#the largest change in its \"World Rank\"?\n",
    "\n",
    "institutions_df['absolute_diff'] = abs(institutions_df['2019_ranking'] \\\n",
    "                                       - institutions_df['2021_ranking'])\n",
    "\n",
    "max_abs_diff = institutions_df['absolute_diff'].max()\n",
    "\n",
    "institutions_df[institutions_df['absolute_diff'] == max_abs_diff].iloc[0]['Institution']\n"
   ]
  },
  {
   "cell_type": "code",
   "execution_count": 20,
   "id": "2844f4d1",
   "metadata": {},
   "outputs": [
    {
     "data": {
      "text/plain": [
       "451"
      ]
     },
     "execution_count": 20,
     "metadata": {},
     "output_type": "execute_result"
    }
   ],
   "source": [
    "#Q14: For all the three years, find the number of institutions \n",
    "#that improved their World Rank each year.\n",
    " \n",
    "institutions_df['rank_diff_19_20'] = institutions_df['2019_ranking'] \\\n",
    "                                        - institutions_df['2020_ranking']\n",
    "\n",
    "institutions_df['rank_diff_20_21'] = institutions_df['2020_ranking'] \\\n",
    "                                        - institutions_df['2021_ranking']\n",
    "\n",
    "gradual_improved_institutions = institutions_df[(institutions_df['rank_diff_19_20'] > 0) \\\n",
    "                                                & (institutions_df['rank_diff_20_21'] > 0)]\n",
    "\n",
    "len(gradual_improved_institutions)\n"
   ]
  },
  {
   "cell_type": "code",
   "execution_count": 21,
   "id": "28450582",
   "metadata": {},
   "outputs": [
    {
     "data": {
      "text/plain": [
       "['University of Tokyo',\n",
       " 'HEC Paris',\n",
       " 'Institut Polytechnique de Paris',\n",
       " 'INSEAD',\n",
       " 'China Europe International Business School',\n",
       " \"École nationale d'administration\",\n",
       " 'International Institute for Management Development']"
      ]
     },
     "execution_count": 21,
     "metadata": {},
     "output_type": "execute_result"
    }
   ],
   "source": [
    "#Q15: In the year 2020-2021, list the institutions which are within the top 10 in the world\n",
    "#based on \"Alumni Employment Rank\" but do not feature in the top 10 of the world ranking.\n",
    "\n",
    "top_10_alumni_rank_df = year_2020_ranking_df.sort_values('Alumni Employment Rank').head(10)\n",
    "\n",
    "top_10_world_rank_df = year_2020_ranking_df.sort_values('World Rank').head(10)\n",
    "\n",
    "set_alumni_rank = set(top_10_alumni_rank_df.Institution)\n",
    "\n",
    "set_world_rank = set(top_10_world_rank_df.Institution)\n",
    "\n",
    "set_both_ranks = list(set_alumni_rank - set_world_rank)\n",
    "\n",
    "set_both_ranks\n"
   ]
  },
  {
   "cell_type": "code",
   "execution_count": 22,
   "id": "61653465",
   "metadata": {},
   "outputs": [
    {
     "data": {
      "text/plain": [
       "['Paris-Sud University',\n",
       " 'Tufts University',\n",
       " 'University of Utah',\n",
       " 'Emory University',\n",
       " 'University of Groningen',\n",
       " 'Aarhus University',\n",
       " 'University of Texas MD Anderson Cancer Center',\n",
       " 'University of California San Diego',\n",
       " 'École Polytechnique',\n",
       " 'Paris Diderot University',\n",
       " 'École normale supérieure',\n",
       " 'École Polytechnique Fédérale de Lausanne']"
      ]
     },
     "execution_count": 22,
     "metadata": {},
     "output_type": "execute_result"
    }
   ],
   "source": [
    "#Q16: List the universities which ranked in the top 100 of world rankings in the year 2019-2020\n",
    "#but failed to do so in the rankings of year 2021-2022.\n",
    "\n",
    "top_100_2019 = []\n",
    "top_100_2021 = []\n",
    "\n",
    "for i in range(100):\n",
    "    institution_2019 = year_2019_ranking_df.iloc[i]['Institution']\n",
    "    institution_2021 = year_2021_ranking_df.iloc[i]['Institution']\n",
    "    \n",
    "    top_100_2019.append(institution_2019)\n",
    "    top_100_2021.append(institution_2021)\n",
    "\n",
    "set_top_100_2019 = set(top_100_2019)\n",
    "set_top_100_2021 = set(top_100_2021)\n",
    "\n",
    "top_100_both_years = list(set_top_100_2019 - set_top_100_2021)\n",
    "\n",
    "top_100_both_years\n"
   ]
  },
  {
   "cell_type": "code",
   "execution_count": 23,
   "id": "ea6181a6",
   "metadata": {},
   "outputs": [
    {
     "data": {
      "text/plain": [
       "['USA', 'United Kingdom']"
      ]
     },
     "execution_count": 23,
     "metadata": {},
     "output_type": "execute_result"
    }
   ],
   "source": [
    "#Q17: List the countries which have at least 10 institutions featuring in the \n",
    "#top 100 of world rankings in the year 2020-2021.\n",
    "\n",
    "top_100_in_20_21_df = rankings[(rankings['World Rank'] <= 100) & (rankings['Year'] == \"2020-2021\")]\n",
    "\n",
    "countries_count = top_100_in_20_21_df[\"Country\"].value_counts()\n",
    "\n",
    "countries_over_10_institutions = countries_count[countries_count >= 10].index.tolist()\n",
    "\n",
    "countries_over_10_institutions \n"
   ]
  },
  {
   "cell_type": "code",
   "execution_count": 24,
   "id": "864639bc",
   "metadata": {},
   "outputs": [
    {
     "data": {
      "text/plain": [
       "'2021-2022.html already exists!'"
      ]
     },
     "execution_count": 24,
     "metadata": {},
     "output_type": "execute_result"
    }
   ],
   "source": [
    "url_1 = \"https://raw.githubusercontent.com/msyamkumar/cs220-s22-projects/main/p12/2019-2020.html\"\n",
    "url_2 = \"https://raw.githubusercontent.com/msyamkumar/cs220-s22-projects/main/p12/2020-2021.html\"\n",
    "url_3 = \"https://raw.githubusercontent.com/msyamkumar/cs220-s22-projects/main/p12/2021-2022.html\"\n",
    "\n",
    "download('2019-2020.html', url_1)\n",
    "download('2020-2021.html', url_2)\n",
    "download('2021-2022.html', url_3)"
   ]
  },
  {
   "cell_type": "code",
   "execution_count": 25,
   "id": "ed24ac9e",
   "metadata": {},
   "outputs": [
    {
     "data": {
      "text/plain": [
       "['World Rank',\n",
       " 'Institution',\n",
       " 'Country',\n",
       " 'National Rank',\n",
       " 'Quality of Education Rank',\n",
       " 'Alumni Employment Rank',\n",
       " 'Quality of Faculty Rank',\n",
       " 'Research Performance Rank',\n",
       " 'Score']"
      ]
     },
     "execution_count": 25,
     "metadata": {},
     "output_type": "execute_result"
    }
   ],
   "source": [
    "#Q18: Use BeautifulSoup to parse 2019-2020.html, and find the table containing the ranking data. \n",
    "#What are the column names of this table?\n",
    "\n",
    "content_2019_2020 = read_file(\"2019-2020.html\")\n",
    "\n",
    "bs_obj = BeautifulSoup(content_2019_2020, \"html.parser\")\n",
    "\n",
    "table = bs_obj.find('table')\n",
    "\n",
    "column_names = [th.get_text() for th in table.find_all(\"th\")]\n",
    "\n",
    "column_names\n"
   ]
  },
  {
   "cell_type": "code",
   "execution_count": 26,
   "id": "c7513471",
   "metadata": {},
   "outputs": [
    {
     "data": {
      "text/plain": [
       "[{'Year': '2019-2020',\n",
       "  'World Rank': 1,\n",
       "  'Institution': 'Harvard University',\n",
       "  'Country': 'USA',\n",
       "  'National Rank': 1,\n",
       "  'Quality of Education Rank': 2,\n",
       "  'Alumni Employment Rank': 1,\n",
       "  'Quality of Faculty Rank': 1,\n",
       "  'Research Performance Rank': 1,\n",
       "  'Score': 100.0},\n",
       " {'Year': '2019-2020',\n",
       "  'World Rank': 2,\n",
       "  'Institution': 'Massachusetts Institute of Technology',\n",
       "  'Country': 'USA',\n",
       "  'National Rank': 2,\n",
       "  'Quality of Education Rank': 1,\n",
       "  'Alumni Employment Rank': 10,\n",
       "  'Quality of Faculty Rank': 2,\n",
       "  'Research Performance Rank': 5,\n",
       "  'Score': 96.7},\n",
       " {'Year': '2019-2020',\n",
       "  'World Rank': 3,\n",
       "  'Institution': 'Stanford University',\n",
       "  'Country': 'USA',\n",
       "  'National Rank': 3,\n",
       "  'Quality of Education Rank': 9,\n",
       "  'Alumni Employment Rank': 3,\n",
       "  'Quality of Faculty Rank': 3,\n",
       "  'Research Performance Rank': 2,\n",
       "  'Score': 95.2},\n",
       " {'Year': '2019-2020',\n",
       "  'World Rank': 4,\n",
       "  'Institution': 'University of Cambridge',\n",
       "  'Country': 'United Kingdom',\n",
       "  'National Rank': 1,\n",
       "  'Quality of Education Rank': 4,\n",
       "  'Alumni Employment Rank': 19,\n",
       "  'Quality of Faculty Rank': 5,\n",
       "  'Research Performance Rank': 11,\n",
       "  'Score': 94.1},\n",
       " {'Year': '2019-2020',\n",
       "  'World Rank': 5,\n",
       "  'Institution': 'University of Oxford',\n",
       "  'Country': 'United Kingdom',\n",
       "  'National Rank': 2,\n",
       "  'Quality of Education Rank': 10,\n",
       "  'Alumni Employment Rank': 24,\n",
       "  'Quality of Faculty Rank': 10,\n",
       "  'Research Performance Rank': 4,\n",
       "  'Score': 93.3}]"
      ]
     },
     "execution_count": 26,
     "metadata": {},
     "output_type": "execute_result"
    }
   ],
   "source": [
    "#Q19: Parse the contents of the table you found in 2019-2020.html \n",
    "#and represent it as a list of dicts. What are the first 5 dictionaries in the list?\n",
    "\n",
    "def parse_html(filename):\n",
    "    '''This function parses an HTML file and returns \n",
    "    a list of dictionaries containing the tabular data'''\n",
    "    \n",
    "    file_content = read_file(filename)\n",
    "    \n",
    "    bs_object = BeautifulSoup(file_content, \"html.parser\")\n",
    "    \n",
    "    table_tag = bs_object.find('table')\n",
    "    \n",
    "    header = [th.get_text() for th in table_tag.find_all(\"th\")]\n",
    "\n",
    "    table_rows = table_tag.find_all(\"tr\")\n",
    "\n",
    "    rankings_list = []\n",
    "\n",
    "    for table_row in table_rows[1:]:\n",
    "        rankings_dict = {}\n",
    "\n",
    "        row_data = table_row.find_all('td')\n",
    "\n",
    "        year = \"\".join([v[:5] + str(int(v[:4]) + 1) for (k,v) in table_row.find('a').attrs.items()])\n",
    "\n",
    "        for idx in range(len(row_data)):\n",
    "            data = row_data[idx]\n",
    "            val = data.get_text()\n",
    "\n",
    "            rankings_dict[\"Year\"] = year\n",
    "\n",
    "            if header[idx] in ['Institution', 'Country']:\n",
    "                rankings_dict[header[idx]] = val\n",
    "\n",
    "\n",
    "            elif header[idx] == 'Score':\n",
    "                rankings_dict[header[idx]] = float(val)\n",
    "\n",
    "            else:\n",
    "                if val != '-':\n",
    "                    rankings_dict[header[idx]] = int(val)\n",
    "                else:\n",
    "                    rankings_dict[header[idx]] = None\n",
    "\n",
    "        rankings_list.append(rankings_dict)\n",
    "    \n",
    "    return rankings_list\n",
    "\n",
    "rankings_2019_2020 = parse_html(\"2019-2020.html\")\n",
    "\n",
    "rankings_2019_2020[:5]\n"
   ]
  },
  {
   "cell_type": "code",
   "execution_count": 27,
   "id": "6b30b178",
   "metadata": {},
   "outputs": [],
   "source": [
    "#Q20: Parse the contents of 2019-2020.html, 2020-2021.html, and 2021-2022.html \n",
    "#and combine them to create a file titled my_rankings.json.\n",
    "\n",
    "rankings_2019_2020 = parse_html(\"2019-2020.html\")\n",
    "\n",
    "rankings_2020_2021 = parse_html(\"2020-2021.html\")\n",
    "\n",
    "rankings_2021_2022 = parse_html(\"2021-2022.html\")\n",
    "\n",
    "my_rankings = rankings_2019_2020 + rankings_2020_2021 + rankings_2021_2022\n",
    "\n",
    "write_json(\"my_rankings.json\", my_rankings)\n"
   ]
  }
 ],
 "metadata": {
  "kernelspec": {
   "display_name": "Python 3 (ipykernel)",
   "language": "python",
   "name": "python3"
  },
  "language_info": {
   "codemirror_mode": {
    "name": "ipython",
    "version": 3
   },
   "file_extension": ".py",
   "mimetype": "text/x-python",
   "name": "python",
   "nbconvert_exporter": "python",
   "pygments_lexer": "ipython3",
   "version": "3.9.7"
  }
 },
 "nbformat": 4,
 "nbformat_minor": 5
}
