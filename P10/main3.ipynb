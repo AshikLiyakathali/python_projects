{
 "cells": [
  {
   "cell_type": "code",
   "execution_count": 1,
   "id": "17173be3",
   "metadata": {},
   "outputs": [],
   "source": [
    "# project: p10\n",
    "# submitter: ashik\n",
    "# partner: mkash\n",
    "# hours: 6"
   ]
  },
  {
   "cell_type": "code",
   "execution_count": 1,
   "id": "0528ab7d",
   "metadata": {},
   "outputs": [],
   "source": [
    "import os\n",
    "import csv\n",
    "import json\n",
    "\n",
    "from collections import namedtuple\n",
    "from json import JSONDecodeError\n"
   ]
  },
  {
   "cell_type": "code",
   "execution_count": 13,
   "id": "80265116",
   "metadata": {},
   "outputs": [],
   "source": [
    "# Q1: What are the names of the files present in the data directory?\n",
    "\n",
    "\n"
   ]
  },
  {
   "cell_type": "code",
   "execution_count": 14,
   "id": "4ddff21e",
   "metadata": {},
   "outputs": [],
   "source": [
    "# Q2: What are the paths of all the files in the data directory?\n",
    "\n",
    "\n"
   ]
  },
  {
   "cell_type": "code",
   "execution_count": 2,
   "id": "cff70a4f",
   "metadata": {},
   "outputs": [],
   "source": [
    "# Q3: What are the paths of all the files whose name contains comment_data in our data directory?\n",
    "\n",
    "\n"
   ]
  },
  {
   "cell_type": "code",
   "execution_count": 3,
   "id": "554dfbe2",
   "metadata": {},
   "outputs": [],
   "source": [
    "# Q4: What are the paths of all the files whose name contains channel_ids in our data directory?\n",
    "\n",
    "\n"
   ]
  },
  {
   "cell_type": "code",
   "execution_count": 4,
   "id": "1a58e26b",
   "metadata": {},
   "outputs": [],
   "source": [
    "# Q5: What is the name of the channel with the ID UCNye-wNBqNL5ZzHSJj3l8Bg?\n",
    "\n",
    "\n"
   ]
  },
  {
   "cell_type": "code",
   "execution_count": 23,
   "id": "5c76ca0b",
   "metadata": {},
   "outputs": [],
   "source": [
    "# Q6: How many channels do we have in the entire dataset?\n",
    "\n"
   ]
  },
  {
   "cell_type": "code",
   "execution_count": 15,
   "id": "f99ef766",
   "metadata": {},
   "outputs": [],
   "source": [
    "# Q7: What is the Comment object with comment ID UgygOezB4Mvd5o6FgAt4AaABAg?\n",
    "\n",
    "\n"
   ]
  },
  {
   "cell_type": "code",
   "execution_count": 16,
   "id": "1189835a",
   "metadata": {},
   "outputs": [],
   "source": [
    "# Q8: What is the length of the comment with ID UgztIaGfqFoiGvbOdfp4AaABAg?\n",
    "\n",
    "\n"
   ]
  },
  {
   "cell_type": "code",
   "execution_count": 17,
   "id": "133ea02b",
   "metadata": {},
   "outputs": [],
   "source": [
    "# Q9: What percentage of comments are at most 140 characters long?\n",
    "\n",
    "\n"
   ]
  },
  {
   "cell_type": "code",
   "execution_count": 18,
   "id": "7acacfad",
   "metadata": {},
   "outputs": [],
   "source": [
    "# Q10: What is the author ID of the comment that has the highest number of likes?\n",
    "\n",
    "\n"
   ]
  },
  {
   "cell_type": "code",
   "execution_count": 20,
   "id": "115be2d1",
   "metadata": {},
   "outputs": [],
   "source": [
    "# Q11: What is the most popular hour for publishing comments?\n",
    "\n",
    "\n"
   ]
  },
  {
   "cell_type": "code",
   "execution_count": 21,
   "id": "cbb2589d",
   "metadata": {},
   "outputs": [],
   "source": [
    "# Q12: How many comments does the video with ID A8rrr_w8rfk have?\n",
    "\n",
    "\n"
   ]
  },
  {
   "cell_type": "code",
   "execution_count": 22,
   "id": "319070cb",
   "metadata": {},
   "outputs": [],
   "source": [
    "# Q13: What is the video with ID fkMW60W180E?\n",
    "\n",
    "\n"
   ]
  },
  {
   "cell_type": "code",
   "execution_count": 10,
   "id": "8262e105",
   "metadata": {},
   "outputs": [],
   "source": [
    "# Q14: What is the title of the video with ID gF69voHU_ys?\n",
    "\n",
    "\n"
   ]
  },
  {
   "cell_type": "code",
   "execution_count": 11,
   "id": "fe28616c",
   "metadata": {},
   "outputs": [],
   "source": [
    "# Q15: Among the videos with more than 1 million views, what is the title of the video with the highest likes to views ratio?\n",
    "\n",
    "\n"
   ]
  },
  {
   "cell_type": "code",
   "execution_count": 9,
   "id": "abe8f6e9",
   "metadata": {},
   "outputs": [],
   "source": [
    "# Q16: What is the author ID of the most liked comment under the video titled 'Giving Away My Beard For Charity!'?\n",
    "\n",
    "\n"
   ]
  },
  {
   "cell_type": "code",
   "execution_count": 5,
   "id": "7aa7ce9a",
   "metadata": {},
   "outputs": [],
   "source": [
    "# Q17: Which video titles were produced by the \"Corridor Crew\" channel?\n",
    "\n",
    "\n"
   ]
  },
  {
   "cell_type": "code",
   "execution_count": 6,
   "id": "f0829b50",
   "metadata": {},
   "outputs": [],
   "source": [
    "# Q18: What are the top 5 channels that have the most total comments on their videos?\n",
    "\n",
    "\n"
   ]
  },
  {
   "cell_type": "code",
   "execution_count": 7,
   "id": "2b9462e9",
   "metadata": {},
   "outputs": [],
   "source": [
    "# Q19: List all the unique video titles which have Minecraft tags.\n",
    "\n",
    "\n"
   ]
  },
  {
   "cell_type": "code",
   "execution_count": 8,
   "id": "c9f6f485",
   "metadata": {},
   "outputs": [],
   "source": [
    "# Q20: List the titles of the 5 shortest videos.\n",
    "\n",
    "\n"
   ]
  },
  {
   "cell_type": "code",
   "execution_count": null,
   "id": "343cd919",
   "metadata": {},
   "outputs": [],
   "source": []
  },
  {
   "cell_type": "code",
   "execution_count": null,
   "id": "5e4a145f",
   "metadata": {},
   "outputs": [],
   "source": []
  }
 ],
 "metadata": {
  "kernelspec": {
   "display_name": "Python 3 (ipykernel)",
   "language": "python",
   "name": "python3"
  },
  "language_info": {
   "codemirror_mode": {
    "name": "ipython",
    "version": 3
   },
   "file_extension": ".py",
   "mimetype": "text/x-python",
   "name": "python",
   "nbconvert_exporter": "python",
   "pygments_lexer": "ipython3",
   "version": "3.9.7"
  }
 },
 "nbformat": 4,
 "nbformat_minor": 5
}
