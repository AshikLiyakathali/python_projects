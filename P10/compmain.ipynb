{
 "cells": [
  {
   "cell_type": "code",
   "execution_count": 1,
   "id": "17173be3",
   "metadata": {},
   "outputs": [],
   "source": [
    "# project: p10\n",
    "# submitter: ashik\n",
    "# partner: None\n",
    "# hours: 6"
   ]
  },
  {
   "cell_type": "code",
   "execution_count": 2,
   "id": "0528ab7d",
   "metadata": {},
   "outputs": [],
   "source": [
    "import os\n",
    "import csv\n",
    "import json\n",
    "\n",
    "from collections import namedtuple\n",
    "from json import JSONDecodeError\n"
   ]
  },
  {
   "cell_type": "code",
   "execution_count": 3,
   "id": "80265116",
   "metadata": {},
   "outputs": [
    {
     "data": {
      "text/plain": [
       "['channel_ids1.json',\n",
       " 'channel_ids2.json',\n",
       " 'channel_ids3.json',\n",
       " 'channel_ids4.json',\n",
       " 'channel_ids5.json',\n",
       " 'comment_data1.csv',\n",
       " 'comment_data2.csv',\n",
       " 'comment_data3.csv',\n",
       " 'comment_data4.csv',\n",
       " 'comment_data5.csv',\n",
       " 'video_data.csv',\n",
       " 'video_ids.json']"
      ]
     },
     "execution_count": 3,
     "metadata": {},
     "output_type": "execute_result"
    }
   ],
   "source": [
    "# Q1: What are the names of the files present in the data directory?\n",
    "\n",
    "def list_files_in(pathname):\n",
    "    \"\"\"\n",
    "    Given a (relative) path called pathname, return a list of files at this path. \n",
    "    Make sure to exclude files that start with a \".\" from your list, \n",
    "    and that your list of files is sorted alphabetically before you return it.\n",
    "    \"\"\"\n",
    "    \n",
    "    files_list = os.listdir(\"./\" + pathname)\n",
    "    \n",
    "    files_list.sort()\n",
    "    \n",
    "    files_list = [file for file in files_list if file[0] != \".\"]\n",
    "    \n",
    "    return files_list\n",
    "\n",
    "list_files_in(\"data\")\n"
   ]
  },
  {
   "cell_type": "code",
   "execution_count": 4,
   "id": "4ddff21e",
   "metadata": {},
   "outputs": [
    {
     "data": {
      "text/plain": [
       "['data/channel_ids1.json',\n",
       " 'data/channel_ids2.json',\n",
       " 'data/channel_ids3.json',\n",
       " 'data/channel_ids4.json',\n",
       " 'data/channel_ids5.json',\n",
       " 'data/comment_data1.csv',\n",
       " 'data/comment_data2.csv',\n",
       " 'data/comment_data3.csv',\n",
       " 'data/comment_data4.csv',\n",
       " 'data/comment_data5.csv',\n",
       " 'data/video_data.csv',\n",
       " 'data/video_ids.json']"
      ]
     },
     "execution_count": 4,
     "metadata": {},
     "output_type": "execute_result"
    }
   ],
   "source": [
    "# Q2: What are the paths of all the files in the data directory?\n",
    "\n",
    "def list_paths_in(pathname):\n",
    "    \"\"\"\n",
    "    Gets a list of files in pathname directory and generates relative paths to all the files,\n",
    "    using os.path.join function.\n",
    "    Returns a list of relative paths to each file inside pathname directory.\n",
    "    \"\"\"\n",
    "    files = list_files_in(pathname)\n",
    "    \n",
    "    specific_file_path = [os.path.join(pathname, file) for file in files]\n",
    "\n",
    "    return specific_file_path\n",
    "\n",
    "data_paths_list = list_paths_in(\"data\")\n",
    "\n",
    "data_paths_list\n"
   ]
  },
  {
   "cell_type": "code",
   "execution_count": 5,
   "id": "cff70a4f",
   "metadata": {},
   "outputs": [
    {
     "data": {
      "text/plain": [
       "['data/comment_data1.csv',\n",
       " 'data/comment_data2.csv',\n",
       " 'data/comment_data3.csv',\n",
       " 'data/comment_data4.csv',\n",
       " 'data/comment_data5.csv']"
      ]
     },
     "execution_count": 5,
     "metadata": {},
     "output_type": "execute_result"
    }
   ],
   "source": [
    "# Q3: What are the paths of all the files whose name contains comment_data in our data directory?\n",
    "\n",
    "comment_paths = [path for path in data_paths_list if \"comment_data\" in path]\n",
    "\n",
    "comment_paths\n"
   ]
  },
  {
   "cell_type": "code",
   "execution_count": 6,
   "id": "554dfbe2",
   "metadata": {},
   "outputs": [
    {
     "data": {
      "text/plain": [
       "['data/channel_ids1.json',\n",
       " 'data/channel_ids2.json',\n",
       " 'data/channel_ids3.json',\n",
       " 'data/channel_ids4.json',\n",
       " 'data/channel_ids5.json']"
      ]
     },
     "execution_count": 6,
     "metadata": {},
     "output_type": "execute_result"
    }
   ],
   "source": [
    "# Q4: What are the paths of all the files whose name contains channel_ids in our data directory?\n",
    "\n",
    "channel_paths = [path for path in data_paths_list if \"channel_ids\" in path]\n",
    "\n",
    "channel_paths\n"
   ]
  },
  {
   "cell_type": "code",
   "execution_count": 7,
   "id": "e4c154f2",
   "metadata": {},
   "outputs": [],
   "source": [
    "# Using the read_json function from lab10\n",
    "\n",
    "def read_json(path):\n",
    "    with open(path, encoding=\"utf-8\") as f:\n",
    "        return json.load(f)\n"
   ]
  },
  {
   "cell_type": "code",
   "execution_count": 8,
   "id": "1beb9a5f",
   "metadata": {},
   "outputs": [],
   "source": [
    "# Using the get_mapping function from lab10\n",
    "\n",
    "def get_mapping(pathname):\n",
    "    \"\"\"\n",
    "    Given a path called pathname, load the json data at the path and return the loaded json data.\n",
    "    If a json.JSONDecodeError is thrown, an empty dictionary is returned.\n",
    "    \"\"\"\n",
    "    try:\n",
    "        mapped_data = read_json(pathname) \n",
    "        \n",
    "    except JSONDecodeError:\n",
    "        mapped_data = {}\n",
    "\n",
    "    return mapped_data\n"
   ]
  },
  {
   "cell_type": "code",
   "execution_count": 9,
   "id": "1a58e26b",
   "metadata": {},
   "outputs": [
    {
     "data": {
      "text/plain": [
       "'Al Jazeera English'"
      ]
     },
     "execution_count": 9,
     "metadata": {},
     "output_type": "execute_result"
    }
   ],
   "source": [
    "# Q5: What is the name of the channel with the ID UCNye-wNBqNL5ZzHSJj3l8Bg?\n",
    "\n",
    "mapping = get_mapping(os.path.join(\"data\", \"channel_ids1.json\"))\n",
    "\n",
    "mapping['UCNye-wNBqNL5ZzHSJj3l8Bg']\n"
   ]
  },
  {
   "cell_type": "code",
   "execution_count": 10,
   "id": "5c76ca0b",
   "metadata": {},
   "outputs": [
    {
     "data": {
      "text/plain": [
       "372"
      ]
     },
     "execution_count": 10,
     "metadata": {},
     "output_type": "execute_result"
    }
   ],
   "source": [
    "# Q6: How many channels do we have in the entire dataset?\n",
    "\n",
    "channel_dict = {}\n",
    "\n",
    "for file in channel_paths:\n",
    "    mapping = get_mapping(file)\n",
    "\n",
    "    for key,value in mapping.items():\n",
    "        channel_dict[key] = value\n",
    "\n",
    "num_of_channels = len(channel_dict)\n",
    "\n",
    "num_of_channels\n"
   ]
  },
  {
   "cell_type": "code",
   "execution_count": 11,
   "id": "58a45a15",
   "metadata": {},
   "outputs": [],
   "source": [
    "# Creating a namedtuple to represent a Comment that has the following attributes...\n",
    "# video_id, author_id, and published_at are strings and comment_length and likes are ints. \n",
    "\n",
    "Comment = namedtuple(\"Comment\", [\"video_id\", \"comment_length\", \"author_id\", \"likes\", \"published_at\"])\n"
   ]
  },
  {
   "cell_type": "code",
   "execution_count": 12,
   "id": "84a195d8",
   "metadata": {},
   "outputs": [],
   "source": [
    "# Using process_csv function for accessing data\n",
    "\n",
    "def process_csv(filename):\n",
    "    exampleFile = open(filename, encoding=\"utf-8\")  \n",
    "    exampleReader = csv.reader(exampleFile) \n",
    "    exampleData = list(exampleReader)        \n",
    "    exampleFile.close()  \n",
    "    return exampleData \n",
    "\n",
    "def get_comment_data(comment_file):\n",
    "    csv_data = process_csv(comment_file)\n",
    "    \n",
    "    header = csv_data[0] \n",
    "    comment_rows = csv_data[1:]\n",
    "\n",
    "    comment_id_idx = header.index(\"comment_id\")\n",
    "    video_id_idx = header.index(\"video_id\")\n",
    "    comment_length_idx = header.index(\"comment_length\")\n",
    "    author_id_idx = header.index(\"author_id\")\n",
    "    likes_idx = header.index(\"likes\")\n",
    "    published_at_idx = header.index(\"published_at\")\n",
    "\n",
    "    comment_dict = {}\n",
    "    \n",
    "    for comment in comment_rows:\n",
    "        if \"\" in comment:\n",
    "            continue\n",
    " \n",
    "        try:     \n",
    "            key = comment[comment_id_idx]\n",
    "\n",
    "            value = Comment(comment[video_id_idx], int(comment[comment_length_idx]), \\\n",
    "                            comment[author_id_idx], int(comment[likes_idx]), comment[published_at_idx])\n",
    "\n",
    "            comment_dict[key] = value\n",
    "        \n",
    "        except ValueError:\n",
    "            continue\n",
    "\n",
    "        except IndexError:\n",
    "            continue\n",
    "            \n",
    "    return comment_dict\n"
   ]
  },
  {
   "cell_type": "code",
   "execution_count": 13,
   "id": "d1f7bd20",
   "metadata": {},
   "outputs": [
    {
     "data": {
      "text/plain": [
       "Comment(video_id='udNXMAflbU8', comment_length=175, author_id='UCHkk7x38KWgqjQOHqsQwf0Q', likes=47, published_at='2021-10-10 17:48:38')"
      ]
     },
     "execution_count": 13,
     "metadata": {},
     "output_type": "execute_result"
    }
   ],
   "source": [
    "# Q7: What is the Comment object with comment ID UgygOezB4Mvd5o6FgAt4AaABAg?\n",
    "\n",
    "comment1 = get_comment_data(\"data/comment_data1.csv\")\n",
    "\n",
    "comment1['UgygOezB4Mvd5o6FgAt4AaABAg']\n"
   ]
  },
  {
   "cell_type": "code",
   "execution_count": 14,
   "id": "1189835a",
   "metadata": {},
   "outputs": [
    {
     "data": {
      "text/plain": [
       "67"
      ]
     },
     "execution_count": 14,
     "metadata": {},
     "output_type": "execute_result"
    }
   ],
   "source": [
    "# Q8: What is the length of the comment with ID UgztIaGfqFoiGvbOdfp4AaABAg?\n",
    "\n",
    "comments = {}\n",
    "\n",
    "for file in comment_paths:\n",
    "    comments.update(get_comment_data(file))\n",
    "    \n",
    "comments['UgztIaGfqFoiGvbOdfp4AaABAg'].comment_length\n"
   ]
  },
  {
   "cell_type": "code",
   "execution_count": 15,
   "id": "133ea02b",
   "metadata": {},
   "outputs": [
    {
     "data": {
      "text/plain": [
       "86.86953042956443"
      ]
     },
     "execution_count": 15,
     "metadata": {},
     "output_type": "execute_result"
    }
   ],
   "source": [
    "# Q9: What percentage of comments are at most 140 characters long?\n",
    "\n",
    "total_comments = len(comments)\n",
    "comments_atmost_140 = 0\n",
    "\n",
    "for comment in comments:\n",
    "    length = comments[comment].comment_length\n",
    "\n",
    "    if length <= 140:\n",
    "        comments_atmost_140 += 1\n",
    "        \n",
    "percent = (comments_atmost_140 / total_comments) * 100\n",
    "\n",
    "percent\n"
   ]
  },
  {
   "cell_type": "code",
   "execution_count": 16,
   "id": "7acacfad",
   "metadata": {},
   "outputs": [
    {
     "data": {
      "text/plain": [
       "'UCIPPMRA040LQr5QPyJEbmXA'"
      ]
     },
     "execution_count": 16,
     "metadata": {},
     "output_type": "execute_result"
    }
   ],
   "source": [
    "# Q10: What is the author ID of the comment that has the highest number of likes?\n",
    "\n",
    "highest_likes = None\n",
    "most_liked_author_id = None\n",
    "\n",
    "for comment in comments:\n",
    "    likes = comments[comment].likes\n",
    "\n",
    "    if highest_likes == None or likes > highest_likes:\n",
    "        highest_likes = likes\n",
    "        most_liked_author_id = comments[comment].author_id\n",
    "\n",
    "most_liked_author_id\n"
   ]
  },
  {
   "cell_type": "code",
   "execution_count": 17,
   "id": "115be2d1",
   "metadata": {},
   "outputs": [
    {
     "data": {
      "text/plain": [
       "19"
      ]
     },
     "execution_count": 17,
     "metadata": {},
     "output_type": "execute_result"
    }
   ],
   "source": [
    "# Q11: What is the most popular hour for publishing comments?\n",
    "\n",
    "hours_list = [int(comments[comment].published_at[-8:-6]) for comment in comments]\n",
    "unique_hours = set(hours_list)\n",
    "\n",
    "most_comments_per_hour = None\n",
    "most_popular_hour = None\n",
    "\n",
    "for hour in unique_hours:\n",
    "    num_of_comments = hours_list.count(hour)\n",
    "\n",
    "    if most_comments_per_hour == None or num_of_comments > most_comments_per_hour:\n",
    "        most_comments_per_hour = num_of_comments\n",
    "        most_popular_hour = hour\n",
    "    \n",
    "most_popular_hour\n"
   ]
  },
  {
   "cell_type": "code",
   "execution_count": 18,
   "id": "e02d74e1",
   "metadata": {},
   "outputs": [],
   "source": [
    "# Bucketizing the comments data by creating a dict mapping video IDs to \n",
    "# a list of comment IDs corresponding to that video ID\n",
    "\n",
    "comment_buckets = {}\n",
    "\n",
    "for comment in comments:\n",
    "    video_id = comments[comment].video_id\n",
    "    \n",
    "    if video_id not in comment_buckets:\n",
    "        comment_buckets[video_id] = []\n",
    "    \n",
    "    if video_id in comment_buckets:\n",
    "        comment_buckets[video_id].append(comment)\n"
   ]
  },
  {
   "cell_type": "code",
   "execution_count": 19,
   "id": "cbb2589d",
   "metadata": {},
   "outputs": [
    {
     "data": {
      "text/plain": [
       "606"
      ]
     },
     "execution_count": 19,
     "metadata": {},
     "output_type": "execute_result"
    }
   ],
   "source": [
    "# Q12: How many comments does the video with ID A8rrr_w8rfk have?\n",
    "\n",
    "len(comment_buckets['A8rrr_w8rfk'])\n"
   ]
  },
  {
   "cell_type": "code",
   "execution_count": 20,
   "id": "40f606e7",
   "metadata": {},
   "outputs": [],
   "source": [
    "# Using the get_videos function from lab10\n",
    "\n",
    "def get_videos(data_file, video_mapping_file):\n",
    "    \"\"\"\n",
    "    Given data_file (csv file) and video_mapping_file (json) file, generates a video\n",
    "    dictionary, mapping video ID to a dictionary containing title, and other details of the video.\n",
    "    Handles missing entry in video_ids.json by using try / except blocks to handle KeyError.\n",
    "    \"\"\"\n",
    "    data = process_csv(data_file)\n",
    "    \n",
    "    header = data[0]\n",
    "    all_videos = data[1:]\n",
    "    \n",
    "    video_mapping = get_mapping(video_mapping_file)\n",
    "    videos_dict = dict()\n",
    "    \n",
    "    for video in all_videos:\n",
    "        try:\n",
    "            key = video[header.index('video_id')]\n",
    "            \n",
    "            title = video_mapping[key]\n",
    "            channel_name = channel_dict[video[header.index('channel_id')]]\n",
    "            published_at = video[header.index('published_at')] \n",
    "            duration = video[header.index('duration')] \n",
    "            category = video[header.index('category')] \n",
    "            views = int(video[header.index('views')])\n",
    "            tags = video[header.index('tags')].split(\"|\")\n",
    "            likes = video[header.index('likes')]\n",
    "            dislikes = video[header.index('dislikes')]\n",
    "            comments = comment_buckets[key]\n",
    "            \n",
    "\n",
    "            if likes != \"\" and dislikes != \"\": \n",
    "                ratings_enabled = True\n",
    "                likes = int(likes)\n",
    "                dislikes = int(dislikes)\n",
    "\n",
    "            else:\n",
    "                ratings_enabled = False\n",
    "                likes = None\n",
    "                dislikes = None\n",
    "            \n",
    "            value = {'title': title, \n",
    "                     'channel_name': channel_name,\n",
    "                     'published_at': published_at, \n",
    "                     'duration': duration, \n",
    "                     'category': category, \n",
    "                     'views': views,\n",
    "                     'tags': tags,\n",
    "                     'likes': likes,\n",
    "                     'dislikes': dislikes,\n",
    "                     'ratings_enabled': ratings_enabled,\n",
    "                     'comments': comments\n",
    "                    }\n",
    "            \n",
    "            videos_dict[key] = value\n",
    "        \n",
    "        except KeyError:\n",
    "            continue\n",
    "    \n",
    "    return videos_dict\n",
    "\n",
    "videos = get_videos(os.path.join('data','video_data.csv'), os.path.join('data','video_ids.json'))\n",
    "\n",
    "sample = ['UgzgwN2JXxjTN4mR5954AaABAg.9TPxukUd20g9TQLnJi3RFU', 'UgzvogxMg82Kj0aW84x4AaABAg']\n",
    "for s in sample:\n",
    "    assert s in videos['fkMW60W180E']['comments']\n"
   ]
  },
  {
   "cell_type": "code",
   "execution_count": 21,
   "id": "319070cb",
   "metadata": {},
   "outputs": [
    {
     "data": {
      "text/plain": [
       "{'title': 'SWAWS | Totally Accurate Battlegrounds',\n",
       " 'channel_name': 'TheRussianBadger',\n",
       " 'published_at': '2021-10-12 19:01:41',\n",
       " 'duration': '00:18:46',\n",
       " 'category': 'Gaming',\n",
       " 'views': 3172185,\n",
       " 'tags': ['tot',\n",
       "  'totally accurate battlegrounds',\n",
       "  'tabg',\n",
       "  'totally accurate battle simulator',\n",
       "  'totally accurate battlegrounds gameplay',\n",
       "  'totally accurate battle grounds',\n",
       "  'tabg gameplay',\n",
       "  'tabg game',\n",
       "  'tabs',\n",
       "  'totally accurate',\n",
       "  'totally accurate battle royale',\n",
       "  'battle royale',\n",
       "  'tabg funny',\n",
       "  'fortnite',\n",
       "  'battlegrounds',\n",
       "  'tabs battle royale',\n",
       "  'new battle royale',\n",
       "  'pubg',\n",
       "  'totally accurate battlegrounds funny',\n",
       "  'swaws',\n",
       "  'swaws meme',\n",
       "  'swaws russian badger',\n",
       "  'tabg update',\n",
       "  'tabg win',\n",
       "  'tabg br',\n",
       "  'free to play pc games',\n",
       "  'free to play'],\n",
       " 'likes': 210951,\n",
       " 'dislikes': 1824,\n",
       " 'ratings_enabled': True,\n",
       " 'comments': ['UgzgwN2JXxjTN4mR5954AaABAg.9TPxukUd20g9TQLnJi3RFU',\n",
       "  'Ugw8z3sbkSQQpgINHdl4AaABAg',\n",
       "  'UgyjZAl0XlNg-gOZ0jR4AaABAg.9TPyCmI6pbl9TQAXc7oVx_',\n",
       "  'Ugy1W1ldfeXB5VavpEB4AaABAg',\n",
       "  'Ugz-5ND1_48bvR--K-h4AaABAg.9TcESnaSWQO9TwybqLquLh',\n",
       "  'Ugw8yRjg6yeaJ-KJmvN4AaABAg',\n",
       "  'Ugxvp2D5qsf_Kz3qLfJ4AaABAg',\n",
       "  'UgyjZAl0XlNg-gOZ0jR4AaABAg.9TPyCmI6pbl9TS3pUjvdvY',\n",
       "  'Ugx7Z_ZM2zeYpgTo2V54AaABAg.9TPtkn_qSTN9TQ53TeDjlr',\n",
       "  'UgyJSgJPxm3-cOi3bSh4AaABAg',\n",
       "  'UgxpmEEjcu4ATnKp_dt4AaABAg.9TPdawdmb1E9TS4AKca9bH',\n",
       "  'Ugwq8srR6ykQ2_6mgRB4AaABAg',\n",
       "  'UgyjZAl0XlNg-gOZ0jR4AaABAg',\n",
       "  'Ugyvf9XkcWXRZx7icN14AaABAg',\n",
       "  'UgyjZAl0XlNg-gOZ0jR4AaABAg.9TPyCmI6pbl9TQFiNbKjs4',\n",
       "  'UgxHObmG9Ifype4Dtjh4AaABAg',\n",
       "  'Ugy2t0J2rMrLqVCcAxV4AaABAg',\n",
       "  'UgzZWUkzBIwfWd81Azd4AaABAg.9TSUVio8FDs9TX0cFy0cPn',\n",
       "  'Ugxp63hxPOpvnQXfmfN4AaABAg',\n",
       "  'Ugywck2nfxGf1P-jGrV4AaABAg.9TTUaC5BZm99TUWmUYdTW3',\n",
       "  'UgyF54uSxOw317OaxW94AaABAg',\n",
       "  'Ugz-hiG5y5Ifo2hXQRd4AaABAg.9TPd_-XUJf_9TS3y-fezid',\n",
       "  'UgwQZBclHDt-blfzYwh4AaABAg',\n",
       "  'UgzZWUkzBIwfWd81Azd4AaABAg.9TSUVio8FDs9TUQsdd2w1L',\n",
       "  'Ugz-hiG5y5Ifo2hXQRd4AaABAg.9TPd_-XUJf_9TQEttSsTwV',\n",
       "  'Ugz-hiG5y5Ifo2hXQRd4AaABAg.9TPd_-XUJf_9TabMdgwb7s',\n",
       "  'Ugz5310iuzanBWihavR4AaABAg',\n",
       "  'UgzvogxMg82Kj0aW84x4AaABAg',\n",
       "  'UgzZWUkzBIwfWd81Azd4AaABAg.9TSUVio8FDs9TUyS8-BWoG',\n",
       "  'UgwDeZIB2YoH3gT3LNt4AaABAg',\n",
       "  'UgzakPEp05WspBho1RJ4AaABAg.9TlhjvACtRu9TyzsrPsOxh',\n",
       "  'UgyZtlx_fwNidAjBVdR4AaABAg',\n",
       "  'UgwNv3MdCPrD0arufSZ4AaABAg',\n",
       "  'UgyXBz5CH6Q9rmwcRhp4AaABAg.9TQ2wkUS5H99TxG3z1lyQL',\n",
       "  'UgxUGNNhbZQnp9D_Yep4AaABAg',\n",
       "  'Ugxw406F2KiRt6h0Eg54AaABAg.9TQRqjzQH199TQiRp2YQOJ',\n",
       "  'Ugyi22jKbQYthMkJnaN4AaABAg',\n",
       "  'Ugz-5ND1_48bvR--K-h4AaABAg',\n",
       "  'Ugz5jelTNmzEROhDeUB4AaABAg',\n",
       "  'UgyIBw19on3SuDypRTx4AaABAg',\n",
       "  'UgxvNfLi21bGDhlsuGN4AaABAg.9TQRqu-Qzx79TWgpd0gXUF',\n",
       "  'UgzaSBdz7kdutGQnJJJ4AaABAg',\n",
       "  'UgyF54uSxOw317OaxW94AaABAg.9TQ42Lqa9o09Tc8fhL52xl']}"
      ]
     },
     "execution_count": 21,
     "metadata": {},
     "output_type": "execute_result"
    }
   ],
   "source": [
    "# Q13: What is the video with ID fkMW60W180E?\n",
    "\n",
    "videos['fkMW60W180E']\n"
   ]
  },
  {
   "cell_type": "code",
   "execution_count": 22,
   "id": "8262e105",
   "metadata": {},
   "outputs": [
    {
     "data": {
      "text/plain": [
       "'A Mukbanger Ate 1 Gallon Pickles. This Is What Happened To Her Brain.'"
      ]
     },
     "execution_count": 22,
     "metadata": {},
     "output_type": "execute_result"
    }
   ],
   "source": [
    "# Q14: What is the title of the video with ID gF69voHU_ys?\n",
    "\n",
    "videos['gF69voHU_ys']['title']\n"
   ]
  },
  {
   "cell_type": "code",
   "execution_count": 23,
   "id": "fe28616c",
   "metadata": {},
   "outputs": [
    {
     "data": {
      "text/plain": [
       "'[In the SOOP BTS ver. Season 2] Official Teaser 2'"
      ]
     },
     "execution_count": 23,
     "metadata": {},
     "output_type": "execute_result"
    }
   ],
   "source": [
    "# Q15: Among the videos with more than 1 million views, what is the title of the video with the highest likes to views ratio?\n",
    "\n",
    "highest_likes_to_views_ratio = None\n",
    "highest_likes_to_views_title = None\n",
    "\n",
    "for video in videos:\n",
    "    ratings = videos[video]['ratings_enabled']\n",
    "    \n",
    "    if ratings != True:\n",
    "        continue\n",
    "     \n",
    "    views = videos[video]['views']\n",
    "    likes = videos[video]['likes']\n",
    "    title = videos[video]['title']\n",
    "        \n",
    "    if views > 1000000:\n",
    "        likes_to_views_ratio = likes / views\n",
    "        \n",
    "        if highest_likes_to_views_ratio == None or likes_to_views_ratio > highest_likes_to_views_ratio:\n",
    "            highest_likes_to_views_ratio = likes_to_views_ratio\n",
    "            highest_likes_to_views_title = title\n",
    "            \n",
    "highest_likes_to_views_title\n"
   ]
  },
  {
   "cell_type": "code",
   "execution_count": 24,
   "id": "abe8f6e9",
   "metadata": {},
   "outputs": [
    {
     "data": {
      "text/plain": [
       "'UCRvcDpyxCVmlLI8Q2TjRpmg'"
      ]
     },
     "execution_count": 24,
     "metadata": {},
     "output_type": "execute_result"
    }
   ],
   "source": [
    "# Q16: What is the author ID of the most liked comment under the video titled 'Giving Away My Beard For Charity!'?\n",
    "\n",
    "given_title = 'Giving Away My Beard For Charity!'\n",
    "\n",
    "most_likes_for_comment = None\n",
    "author_id_of_most_liked_comment = None\n",
    "\n",
    "for video in videos:\n",
    "    title = videos[video]['title']\n",
    "    \n",
    "    if title == given_title:\n",
    "        given_video_comments = videos[video]['comments']\n",
    "        \n",
    "        for comment in given_video_comments:\n",
    "            likes = comments[comment].likes\n",
    "            author_id = comments[comment].author_id\n",
    "\n",
    "            if most_likes_for_comment  == None or likes > most_likes_for_comment:\n",
    "                most_likes_for_comment  = likes \n",
    "                author_id_of_most_liked_comment = author_id\n",
    "    \n",
    "author_id_of_most_liked_comment\n"
   ]
  },
  {
   "cell_type": "code",
   "execution_count": 25,
   "id": "b75e7a41",
   "metadata": {},
   "outputs": [],
   "source": [
    "# Implementing bucketize function similar to P9\n",
    "\n",
    "def bucketize(attribute, videos=videos):\n",
    "    \"\"\"\n",
    "    Input: A dict of videos and an attribute string.\n",
    "    Return: A dictionary that bucketizes the `video_ids` by `attribute`.\n",
    "    \"\"\"\n",
    "    bucketized_dict = {}\n",
    "\n",
    "    list_atr = [\"tags\", \"comments\"]\n",
    "    \n",
    "    for video in videos:\n",
    "        atr = videos[video][attribute]\n",
    "\n",
    "        if attribute in list_atr:\n",
    "            for item in atr:\n",
    "                if item not in bucketized_dict:\n",
    "                    bucketized_dict[item] = []  \n",
    "                \n",
    "                if item in bucketized_dict:\n",
    "                    bucketized_dict[item].append(video)\n",
    "        \n",
    "        else:\n",
    "            if atr not in bucketized_dict:\n",
    "                bucketized_dict[atr] = []\n",
    "\n",
    "            if atr in bucketized_dict:\n",
    "                bucketized_dict[atr].append(video)\n",
    "\n",
    "    return bucketized_dict\n",
    "\n",
    "category_dict = bucketize('category')\n",
    "assert category_dict['Pets & Animals'] == ['Hz_DslzN2IA', 'AwvyrO_yM4c']\n"
   ]
  },
  {
   "cell_type": "code",
   "execution_count": 26,
   "id": "7aa7ce9a",
   "metadata": {},
   "outputs": [
    {
     "data": {
      "text/plain": [
       "['VFX Artists React to SHANG-CHi Bad & Great CGi',\n",
       " 'VFX Artists React to Bad & Great CGi 54 (ft. SETH ROGEN)']"
      ]
     },
     "execution_count": 26,
     "metadata": {},
     "output_type": "execute_result"
    }
   ],
   "source": [
    "# Q17: Which video titles were produced by the \"Corridor Crew\" channel?\n",
    "\n",
    "given_channel = 'Corridor Crew'\n",
    "\n",
    "channel_buckets = bucketize('channel_name')\n",
    "\n",
    "given_channel_video_ids = channel_buckets[given_channel]\n",
    "\n",
    "given_channel_video_titles = [videos[video]['title'] for video in given_channel_video_ids]\n",
    "\n",
    "given_channel_video_titles\n"
   ]
  },
  {
   "cell_type": "code",
   "execution_count": 27,
   "id": "f0829b50",
   "metadata": {},
   "outputs": [
    {
     "data": {
      "text/plain": [
       "['NFL', 'Minecraft', 'Saturday Night Live', 'SSSniperWolf', 'PBC ON FOX']"
      ]
     },
     "execution_count": 27,
     "metadata": {},
     "output_type": "execute_result"
    }
   ],
   "source": [
    "# Q18: What are the top 5 channels that have the most total comments on their videos?\n",
    "\n",
    "channel_total_comments = {}\n",
    "\n",
    "for channel in channel_buckets:\n",
    "    video_ids = channel_buckets[channel]\n",
    "    total_comments = 0\n",
    "    \n",
    "    for video in video_ids:\n",
    "        num_of_comments = len(videos[video]['comments'])\n",
    "        total_comments += num_of_comments\n",
    "        \n",
    "    channel_total_comments[channel] = total_comments\n",
    "\n",
    "sorted_total_comments = sorted(channel_total_comments.items(), key = lambda s:s[-1], reverse = True)\n",
    "top_5_channel_names = [k for (k,v) in sorted_total_comments[:5]]\n",
    "\n",
    "top_5_channel_names\n"
   ]
  },
  {
   "cell_type": "code",
   "execution_count": 30,
   "id": "2b9462e9",
   "metadata": {},
   "outputs": [
    {
     "data": {
      "text/plain": [
       "['Minecraft but all Mobs are Dragons',\n",
       " 'Minecraft Mobs if they were Parents',\n",
       " 'Hermitcraft 8 Episode 14:  BETRAYING BOATEM',\n",
       " 'I Survived 69 Hours Using Only Minecraft Tools',\n",
       " 'I Built an AUTOMATIC Mob Loot Farm in Minecraft Hardcore! (#22)',\n",
       " '\"Eternal\" - A Minecraft Music Video ♪',\n",
       " 'Jumping SQUID GAME CARS Across ENTIRE MAP In GTA 5! (Mods)',\n",
       " 'Realistic Water in Minecraft...',\n",
       " 'Minecraft Mobs if they were Superheroes',\n",
       " 'Realistic Golem Transforming',\n",
       " 'Playing SQUID GAME in Minecraft!',\n",
       " 'Minecraft Manhunt but I have CUSTOM COMMANDS',\n",
       " 'What Mob Should Be Added To Minecraft?',\n",
       " 'She Wants Us DEAD! 💀 Dark Deception Chapter 4 (FGTeeV Telekinesis Gameplay)',\n",
       " 'I Won SQUID GAME In GTA 5! (Mods)',\n",
       " 'I Survived 1,900 Days in HARDCORE Minecraft...',\n",
       " 'I made a custom mod in minecraft with your ideas',\n",
       " 'Minecraft Mobs when you log off...',\n",
       " 'I Survived 100 Days as a FOX in HARDCORE Minecraft!',\n",
       " \"2b2t's Obsidian War is Getting Ridiculous\",\n",
       " \"Minecraft, But There's Custom End City Items...\",\n",
       " \"Minecraft, But You Can't Leave The End...\",\n",
       " 'Building AUTOMATIC FARMS in Minecraft Hardcore (#52)',\n",
       " 'Playing SQUID GAME In Minecraft!',\n",
       " 'Minecraft - Last Life #3: Frightening Exploit Tactics',\n",
       " 'I Survived 100 Days as an ENDER DRAGON in Minecraft',\n",
       " '46 Minecraft Blocks Mojang Had To Remove',\n",
       " 'Becoming SQUID GAME Host in GTA 5! (GTA 5 Mods)',\n",
       " 'LAST TO LEAVE THE MYSTERY MACHINE WINS $10,000',\n",
       " 'So I made Dance Moves control Minecraft...',\n",
       " 'SURVIVING SQUID GAME in GTA 5',\n",
       " 'I tested them in Minecraft early and so should you...',\n",
       " 'I Cheated with a \"FAKE\" Professional Builder in a Building Competition...',\n",
       " 'I Survived 100 Days as a PANDA in HARDCORE Minecraft!',\n",
       " 'I Found the RICHEST Server in Minecraft! *millionaire*',\n",
       " 'Minecraft, But I Add A Marshmallow Every Minute...',\n",
       " '100 Days, But There Are Custom Dimensions...',\n",
       " 'I Was In The Funniest Minecraft Competition With Dream',\n",
       " 'You Laugh You Lose Is Even Funnier In Real Life...',\n",
       " 'I Trapped 10 YouTubers on One Block',\n",
       " 'can 1 pixel of water save you?',\n",
       " 'MURDER DRONES [OFFICIAL TRAILER]',\n",
       " 'Minecraft but you can Eat Mobs',\n",
       " 'Minecraft Death Shuffle...',\n",
       " 'We Fought a Viking Horde...',\n",
       " 'Philza And Wilbur TEACH Tommy To FLY And Its SCUFFED LORE! ORIGINS SMP',\n",
       " 'Minecraft, But I Add A Marshmallow Every Minute... - Extra Scenes',\n",
       " \"Minecraft, But We're All Mutant Superhumans...\",\n",
       " 'What is the Safest Base Possible in Minecraft?',\n",
       " 'Which Mob Am I Voting For in Minecraft Live 2021?!',\n",
       " 'Minecraft But I Upgrade EVERYTHING - The ULTIMATE Survival World! | Part 4',\n",
       " 'Last Life: Episode 4 - UH OH!',\n",
       " 'I Designed Custom Minecraft Bosses...',\n",
       " 'Minecraft, But You Can Upgrade TNT...']"
      ]
     },
     "execution_count": 30,
     "metadata": {},
     "output_type": "execute_result"
    }
   ],
   "source": [
    "# Q19: List all the unique video titles which have Minecraft tags.\n",
    "\n",
    "given_tag = 'minecraft'\n",
    "\n",
    "tag_buckets = bucketize('tags')\n",
    "\n",
    "minecraft_tags = [tag for tag in tag_buckets if given_tag in tag.lower()]\n",
    "\n",
    "minecraft_videos_list = []\n",
    "\n",
    "for tag in minecraft_tags:\n",
    "    video_ids = tag_buckets[tag]\n",
    "    \n",
    "    for video in video_ids:\n",
    "        title = videos[video]['title']\n",
    "        minecraft_videos_list.append(title)\n",
    "\n",
    "minecraft_videos_list = list(set(minecraft_videos_list))\n",
    "\n",
    "minecraft_videos_list\n"
   ]
  },
  {
   "cell_type": "code",
   "execution_count": 29,
   "id": "c9f6f485",
   "metadata": {},
   "outputs": [
    {
     "data": {
      "text/plain": [
       "['When someone walks in while you using the bathroom😭',\n",
       " 'Smart Appliances, Gadgets For Every Home 🤩 Versatile Utensils, Kitchen, Makeup, Beauty #Shorts',\n",
       " 'Italians reacting to ketchup on pasta 😱🇮🇹 #shorts',\n",
       " 'My hidden talent #shorts',\n",
       " 'Knot']"
      ]
     },
     "execution_count": 29,
     "metadata": {},
     "output_type": "execute_result"
    }
   ],
   "source": [
    "# Q20: List the titles of the 5 shortest videos.\n",
    "\n",
    "title_duration = {videos[video]['title']:videos[video]['duration'] for video in videos}\n",
    "    \n",
    "sorted_title_duration = sorted(title_duration.items(), key = lambda s:s[-1])\n",
    "\n",
    "shortest_5_video_titles = [k for (k,v) in sorted_title_duration[:5]]\n",
    "    \n",
    "shortest_5_video_titles\n"
   ]
  }
 ],
 "metadata": {
  "kernelspec": {
   "display_name": "Python 3 (ipykernel)",
   "language": "python",
   "name": "python3"
  },
  "language_info": {
   "codemirror_mode": {
    "name": "ipython",
    "version": 3
   },
   "file_extension": ".py",
   "mimetype": "text/x-python",
   "name": "python",
   "nbconvert_exporter": "python",
   "pygments_lexer": "ipython3",
   "version": "3.9.7"
  }
 },
 "nbformat": 4,
 "nbformat_minor": 5
}
