{
 "cells": [
  {
   "cell_type": "code",
   "execution_count": 1,
   "id": "884a3ec3",
   "metadata": {},
   "outputs": [],
   "source": [
    "# project: p8\n",
    "# submitter: ashik\n",
    "# partner: mkash\n",
    "# hours: 10"
   ]
  },
  {
   "cell_type": "code",
   "execution_count": 2,
   "id": "1acd2383",
   "metadata": {},
   "outputs": [],
   "source": [
    "import csv\n",
    "import copy"
   ]
  },
  {
   "cell_type": "code",
   "execution_count": 3,
   "id": "63bdca1d",
   "metadata": {},
   "outputs": [],
   "source": [
    "def process_csv(filename):\n",
    "    example_file = open(filename, encoding=\"utf-8\")\n",
    "    example_reader = csv.reader(example_file)\n",
    "    example_data = list(example_reader)\n",
    "    example_file.close()\n",
    "    return example_data"
   ]
  },
  {
   "cell_type": "code",
   "execution_count": 4,
   "id": "956f444c",
   "metadata": {},
   "outputs": [],
   "source": [
    "# Function 1: get_mapping(path)\n",
    "\n",
    "def get_mapping(path):\n",
    "    \"\"\"\n",
    "    Converts mapping csv list of lists data into a dict with keys as IDs and values as names.\n",
    "    \"\"\"\n",
    "    # Task 2.2 of Lab-P8 has all the necessary steps to complete this function.\n",
    "    # You just need to copy/paste the relevant code, identify the input and output of the function.\n",
    "    \n",
    "    mapping_rows = process_csv(path)\n",
    "\n",
    "    mapping_dict = {}\n",
    "\n",
    "    for idx, name in mapping_rows:\n",
    "\n",
    "        key = idx\n",
    "        value = name\n",
    "\n",
    "        mapping_dict[key] = value\n",
    "\n",
    "    return mapping_dict\n"
   ]
  },
  {
   "cell_type": "code",
   "execution_count": 5,
   "id": "6df9a81b",
   "metadata": {},
   "outputs": [
    {
     "data": {
      "text/plain": [
       "{'tt3104988': 'Crazy Rich Asians',\n",
       " 'nm0160840': 'Jon M. Chu',\n",
       " 'nm2090422': 'Constance Wu',\n",
       " 'nm6525901': 'Henry Golding',\n",
       " 'nm0000706': 'Michelle Yeoh',\n",
       " 'nm2110418': 'Gemma Chan',\n",
       " 'nm0523734': 'Lisa Lu',\n",
       " 'tt4846340': 'Hidden Figures',\n",
       " 'nm0577647': 'Theodore Melfi',\n",
       " 'nm0378245': 'Taraji P. Henson',\n",
       " 'nm0818055': 'Octavia Spencer',\n",
       " 'nm1847117': 'Janelle Monáe'}"
      ]
     },
     "execution_count": 5,
     "metadata": {},
     "output_type": "execute_result"
    }
   ],
   "source": [
    "# Q1: What is returned by get_mapping(\"small_mapping.csv\")?\n",
    "\n",
    "small_mapping = get_mapping(\"small_mapping.csv\")\n",
    "\n",
    "small_mapping\n"
   ]
  },
  {
   "cell_type": "code",
   "execution_count": 6,
   "id": "5258c397",
   "metadata": {},
   "outputs": [
    {
     "data": {
      "text/plain": [
       "'Henry Golding'"
      ]
     },
     "execution_count": 6,
     "metadata": {},
     "output_type": "execute_result"
    }
   ],
   "source": [
    "# Q2: What is the value associated with the key \"nm6525901\"?\n",
    "\n",
    "small_mapping['nm6525901']\n"
   ]
  },
  {
   "cell_type": "code",
   "execution_count": 7,
   "id": "13f2f2d4",
   "metadata": {},
   "outputs": [
    {
     "data": {
      "text/plain": [
       "['Jon M. Chu',\n",
       " 'Constance Wu',\n",
       " 'Henry Golding',\n",
       " 'Michelle Yeoh',\n",
       " 'Gemma Chan',\n",
       " 'Lisa Lu',\n",
       " 'Theodore Melfi',\n",
       " 'Taraji P. Henson',\n",
       " 'Octavia Spencer',\n",
       " 'Janelle Monáe']"
      ]
     },
     "execution_count": 7,
     "metadata": {},
     "output_type": "execute_result"
    }
   ],
   "source": [
    "# Q3: What are the values associated with keys that begin with \"nm\"?\n",
    "\n",
    "small_mapping\n",
    "\n",
    "names = []\n",
    "\n",
    "for key in small_mapping:\n",
    "    \n",
    "    if key[:2] == \"nm\":\n",
    "        value = small_mapping[key]\n",
    "        names.append(value)\n",
    "\n",
    "names\n"
   ]
  },
  {
   "cell_type": "code",
   "execution_count": 8,
   "id": "c63cbf8a",
   "metadata": {},
   "outputs": [
    {
     "data": {
      "text/plain": [
       "['nm0378245']"
      ]
     },
     "execution_count": 8,
     "metadata": {},
     "output_type": "execute_result"
    }
   ],
   "source": [
    "# Q4: Find the keys of the people (keys beginning with \"nm\") whose last name is \"Henson\".\n",
    "\n",
    "# Function 2: get_key_from_last_name(target_lastname)\n",
    "\n",
    "def get_key_from_last_name(target_lastname):\n",
    "    \"\"\"\n",
    "    Returns a list of keys (ids) of people that have the specified last name (case insensitive match) in your small mapping.\n",
    "    Your code must only consider the keys that begin with \"nm\".\n",
    "    \"\"\"\n",
    "    small_mapping\n",
    "\n",
    "    idx = []\n",
    "\n",
    "    for key in small_mapping:\n",
    "\n",
    "        if key[:2] == \"nm\":\n",
    "            value = small_mapping[key]\n",
    "            length = len(target_lastname)\n",
    "            lastname = value[-length:]\n",
    "\n",
    "            if target_lastname.lower() == lastname.lower():\n",
    "                idx.append(key)\n",
    "\n",
    "    return idx\n",
    "    \n",
    "# These are tests. They will do nothing if your implementation is correct.\n",
    "# If your implementation is wrong, they will throw an AssertionError.\n",
    "assert get_key_from_last_name('Spencer') == ['nm0818055']\n",
    "assert get_key_from_last_name('Chan') == ['nm2110418']    \n",
    "\n",
    "get_key_from_last_name(\"Henson\")\n"
   ]
  },
  {
   "cell_type": "code",
   "execution_count": 9,
   "id": "7c928652",
   "metadata": {},
   "outputs": [],
   "source": [
    "# Function 3: get_raw_movies(path)\n",
    "\n",
    "def get_raw_movies(path):\n",
    "    \"\"\"\n",
    "    Converts movies csv list of lists data into a dict with keys as column names and values as corresponding type converted values.\n",
    "    \"\"\"\n",
    "    # Task 2.1 and 2.3c of Lab-P8 have all the necessary steps to complete this function.\n",
    "    # You just need to copy/paste the relevant code, identify the input and output of the function.\n",
    "    \n",
    "    csv_rows = process_csv(path)\n",
    "\n",
    "    csv_header = csv_rows[0]\n",
    "\n",
    "    csv_data = csv_rows[1:]\n",
    "\n",
    "    movie_dict_list = []\n",
    "    int_list = ['year', 'duration']\n",
    "    float_list = ['rating']\n",
    "    str_list = ['genres', 'directors', 'actors']\n",
    "\n",
    "    \n",
    "    for i in range(len(csv_data)):\n",
    "        movie_dict = {}\n",
    "\n",
    "        for j in range(len(csv_header)):\n",
    "            key = csv_header[j]\n",
    "            value = csv_data[i][j]\n",
    "\n",
    "            if key in int_list:\n",
    "                movie_dict[key] = int(value)\n",
    "            elif key in float_list:\n",
    "                movie_dict[key] = float(value)\n",
    "            elif key in str_list:\n",
    "                movie_dict[key] = value.split(\", \")\n",
    "            else:\n",
    "                movie_dict[key] = value\n",
    "\n",
    "        movie_dict_list.append(movie_dict)\n",
    "\n",
    "    return movie_dict_list\n"
   ]
  },
  {
   "cell_type": "code",
   "execution_count": 10,
   "id": "0f473b3e",
   "metadata": {},
   "outputs": [
    {
     "data": {
      "text/plain": [
       "[{'title': 'tt3104988',\n",
       "  'year': 2018,\n",
       "  'genres': ['Comedy', 'Drama', 'Romance'],\n",
       "  'duration': 120,\n",
       "  'directors': ['nm0160840'],\n",
       "  'actors': ['nm2090422', 'nm6525901', 'nm0000706', 'nm2110418', 'nm0523734'],\n",
       "  'rating': 6.9},\n",
       " {'title': 'tt4846340',\n",
       "  'year': 2016,\n",
       "  'genres': ['Biography', 'Drama', 'History'],\n",
       "  'duration': 127,\n",
       "  'directors': ['nm0577647'],\n",
       "  'actors': ['nm0378245', 'nm0818055', 'nm1847117'],\n",
       "  'rating': 7.8}]"
      ]
     },
     "execution_count": 10,
     "metadata": {},
     "output_type": "execute_result"
    }
   ],
   "source": [
    "# Q5: What does get_raw_movies(\"small_movies.csv\") return?\n",
    "\n",
    "small_movies = get_raw_movies(\"small_movies.csv\")\n",
    "\n",
    "small_movies\n"
   ]
  },
  {
   "cell_type": "code",
   "execution_count": 11,
   "id": "350fb1d3",
   "metadata": {},
   "outputs": [
    {
     "data": {
      "text/plain": [
       "5"
      ]
     },
     "execution_count": 11,
     "metadata": {},
     "output_type": "execute_result"
    }
   ],
   "source": [
    "# Q6: How many actors does the movie at index 0 have?\n",
    "\n",
    "len(small_movies[0]['actors'])\n"
   ]
  },
  {
   "cell_type": "code",
   "execution_count": 12,
   "id": "b389dc96",
   "metadata": {},
   "outputs": [
    {
     "data": {
      "text/plain": [
       "'nm2090422'"
      ]
     },
     "execution_count": 12,
     "metadata": {},
     "output_type": "execute_result"
    }
   ],
   "source": [
    "# Q7: What is the ID of the first actor listed for the first movie of the dataset?\n",
    "\n",
    "small_movies[0]['actors'][0]\n"
   ]
  },
  {
   "cell_type": "code",
   "execution_count": 13,
   "id": "0da942d6",
   "metadata": {},
   "outputs": [],
   "source": [
    "# Function 4: get_movies(movies_path, mapping_path)\n",
    "\n",
    "def get_movies(movies_path, mapping_path):\n",
    "    \"\"\"\n",
    "    Creates a new movies list of dict data by using the mapping dictionary,\n",
    "    to convert IDs into actual names for title, actors, and directors.\n",
    "    \"\"\"\n",
    "    # Task 3.2 of Lab-P8 has all the necessary steps to complete this function.\n",
    "    # You just need to copy/paste the relevant code, identify the input and output of the function.\n",
    "    \n",
    "    movie_dict_list = get_raw_movies(movies_path)\n",
    "    mapping_dict = get_mapping(mapping_path)\n",
    "    \n",
    "    \n",
    "    dir_act_list = ['directors', 'actors']\n",
    "\n",
    "    mapped_csv_dict_list = copy.deepcopy(movie_dict_list)\n",
    "\n",
    "    for i in range(len(mapped_csv_dict_list)):\n",
    "        movie_dict = mapped_csv_dict_list[i]\n",
    "\n",
    "        for key in movie_dict: \n",
    "            if key == 'title':\n",
    "                title = movie_dict[key]\n",
    "                movie_name = mapping_dict[title]\n",
    "                mapped_csv_dict_list[i][key] = movie_name\n",
    "\n",
    "            if key in dir_act_list:\n",
    "                names_list = movie_dict[key]\n",
    "                dir_act_names_list = []\n",
    "\n",
    "                for idx in names_list:\n",
    "                    dir_act_name = mapping_dict[idx]  \n",
    "                    dir_act_names_list.append(dir_act_name)\n",
    "                mapped_csv_dict_list[i][key] = dir_act_names_list\n",
    "\n",
    "    return mapped_csv_dict_list\n",
    "    "
   ]
  },
  {
   "cell_type": "code",
   "execution_count": 14,
   "id": "6f0608a6",
   "metadata": {},
   "outputs": [
    {
     "data": {
      "text/plain": [
       "[{'title': 'Crazy Rich Asians',\n",
       "  'year': 2018,\n",
       "  'genres': ['Comedy', 'Drama', 'Romance'],\n",
       "  'duration': 120,\n",
       "  'directors': ['Jon M. Chu'],\n",
       "  'actors': ['Constance Wu',\n",
       "   'Henry Golding',\n",
       "   'Michelle Yeoh',\n",
       "   'Gemma Chan',\n",
       "   'Lisa Lu'],\n",
       "  'rating': 6.9},\n",
       " {'title': 'Hidden Figures',\n",
       "  'year': 2016,\n",
       "  'genres': ['Biography', 'Drama', 'History'],\n",
       "  'duration': 127,\n",
       "  'directors': ['Theodore Melfi'],\n",
       "  'actors': ['Taraji P. Henson', 'Octavia Spencer', 'Janelle Monáe'],\n",
       "  'rating': 7.8}]"
      ]
     },
     "execution_count": 14,
     "metadata": {},
     "output_type": "execute_result"
    }
   ],
   "source": [
    "# Q8: What is small_movies_data?\n",
    "\n",
    "small_movies_data = get_movies(\"small_movies.csv\", \"small_mapping.csv\")\n",
    "\n",
    "small_movies_data\n"
   ]
  },
  {
   "cell_type": "code",
   "execution_count": 15,
   "id": "5c1e27bb",
   "metadata": {},
   "outputs": [
    {
     "data": {
      "text/plain": [
       "'Hidden Figures'"
      ]
     },
     "execution_count": 15,
     "metadata": {},
     "output_type": "execute_result"
    }
   ],
   "source": [
    "# Q9: What is title of the second movie in small_movies_data?\n",
    "\n",
    "small_movies_data[1]['title']\n"
   ]
  },
  {
   "cell_type": "code",
   "execution_count": 16,
   "id": "20b2d860",
   "metadata": {},
   "outputs": [
    {
     "data": {
      "text/plain": [
       "['Constance Wu', 'Henry Golding', 'Michelle Yeoh', 'Gemma Chan', 'Lisa Lu']"
      ]
     },
     "execution_count": 16,
     "metadata": {},
     "output_type": "execute_result"
    }
   ],
   "source": [
    "# Q10: Who are all the actors of the first movie in small_movies_data?\n",
    "\n",
    "small_movies_data[0]['actors']\n"
   ]
  },
  {
   "cell_type": "code",
   "execution_count": 17,
   "id": "3d93536f",
   "metadata": {},
   "outputs": [
    {
     "data": {
      "text/plain": [
       "['Theodore Melfi']"
      ]
     },
     "execution_count": 17,
     "metadata": {},
     "output_type": "execute_result"
    }
   ],
   "source": [
    "# Q11: Who are all the directors of the last movie in small_movies_data?\n",
    "\n",
    "small_movies_data[-1]['directors']\n"
   ]
  },
  {
   "cell_type": "code",
   "execution_count": 18,
   "id": "4648b8bc",
   "metadata": {},
   "outputs": [],
   "source": [
    "# Trying the get_movies function for a much bigger dataset\n",
    "\n",
    "movies = get_movies(\"movies.csv\", \"mapping.csv\")"
   ]
  },
  {
   "cell_type": "code",
   "execution_count": 19,
   "id": "c70e2d3c",
   "metadata": {},
   "outputs": [
    {
     "data": {
      "text/plain": [
       "33102"
      ]
     },
     "execution_count": 19,
     "metadata": {},
     "output_type": "execute_result"
    }
   ],
   "source": [
    "# Q12: What is the length of movies?\n",
    "\n",
    "len(movies)\n"
   ]
  },
  {
   "cell_type": "code",
   "execution_count": 20,
   "id": "dcc36a99",
   "metadata": {},
   "outputs": [
    {
     "data": {
      "text/plain": [
       "[{'title': 'Battle Bots',\n",
       "  'year': 2018,\n",
       "  'genres': ['Action', 'Adventure', 'Sci-Fi'],\n",
       "  'duration': 67,\n",
       "  'directors': ['Mark Polonia'],\n",
       "  'actors': ['Danielle Donahue', 'Jeff Kirkendall', 'Marie DeLorenzo'],\n",
       "  'rating': 1.9},\n",
       " {'title': 'Inescapable',\n",
       "  'year': 2003,\n",
       "  'genres': ['Drama'],\n",
       "  'duration': 82,\n",
       "  'directors': ['Helen Lesnick'],\n",
       "  'actors': ['Natalie Anderson', 'Tanna Frederick', 'Athena Demos'],\n",
       "  'rating': 4.2}]"
      ]
     },
     "execution_count": 20,
     "metadata": {},
     "output_type": "execute_result"
    }
   ],
   "source": [
    "# Q13: What are the contents of the last 2 rows in movies?\n",
    "\n",
    "movies[-2:]\n"
   ]
  },
  {
   "cell_type": "code",
   "execution_count": 21,
   "id": "52ff71db",
   "metadata": {},
   "outputs": [],
   "source": [
    "# Function 5: find_specific_movies(movies, keyword)\n",
    "\n",
    "def find_specific_movies(movies, keyword):\n",
    "    \"\"\"\n",
    "    Given a list of movie dictionaries and a keyword, returns a list of movies that contain the keyword\n",
    "    in either its title, genre, actors or directors.\n",
    "    \"\"\"\n",
    "    idx = 0\n",
    "    while idx < len(movies):\n",
    "        movie = movies[idx]\n",
    "        # Note: \\ enables you split a long line of code into two lines\n",
    "        if (keyword not in movie['title']) and (keyword not in movie[\"genres\"]) \\\n",
    "        and (keyword not in movie[\"directors\"]) and (keyword not in movie[\"actors\"]):\n",
    "            movies.pop(idx)\n",
    "        else:\n",
    "            idx += 1\n",
    "    return movies\n"
   ]
  },
  {
   "cell_type": "code",
   "execution_count": 22,
   "id": "ae212e11",
   "metadata": {},
   "outputs": [
    {
     "data": {
      "text/plain": [
       "[{'title': 'Lady Bird',\n",
       "  'year': 2017,\n",
       "  'genres': ['Comedy', 'Drama'],\n",
       "  'duration': 94,\n",
       "  'directors': ['Greta Gerwig'],\n",
       "  'actors': ['Saoirse Ronan', 'Laurie Metcalf'],\n",
       "  'rating': 7.4},\n",
       " {'title': 'Little Women',\n",
       "  'year': 2019,\n",
       "  'genres': ['Drama', 'Romance'],\n",
       "  'duration': 135,\n",
       "  'directors': ['Greta Gerwig'],\n",
       "  'actors': ['Saoirse Ronan', 'Emma Watson', 'Florence Pugh', 'Eliza Scanlen'],\n",
       "  'rating': 7.8},\n",
       " {'title': 'Nights and Weekends',\n",
       "  'year': 2008,\n",
       "  'genres': ['Drama', 'Romance'],\n",
       "  'duration': 80,\n",
       "  'directors': ['Greta Gerwig', 'Joe Swanberg'],\n",
       "  'actors': ['Joe Swanberg', 'Jay Duplass', 'Elizabeth Donius'],\n",
       "  'rating': 6.1}]"
      ]
     },
     "execution_count": 22,
     "metadata": {},
     "output_type": "execute_result"
    }
   ],
   "source": [
    "# Q14: List all the movies in the dataset that Greta Gerwig has directed.\n",
    "\n",
    "greta = \"Greta Gerwig\"\n",
    "\n",
    "greta_movies = copy.copy(movies)\n",
    "\n",
    "greta_directed_movies = []\n",
    "\n",
    "greta_list = find_specific_movies(greta_movies, greta)\n",
    "\n",
    "for movie in greta_list:\n",
    "    director = movie['directors']\n",
    "    \n",
    "    if greta in director:\n",
    "        greta_directed_movies.append(movie)\n",
    "        \n",
    "greta_directed_movies\n",
    "    "
   ]
  },
  {
   "cell_type": "code",
   "execution_count": 23,
   "id": "587d98a2",
   "metadata": {},
   "outputs": [
    {
     "data": {
      "text/plain": [
       "['Crime',\n",
       " 'Drama',\n",
       " 'Adventure',\n",
       " 'Thriller',\n",
       " 'Action',\n",
       " 'Biography',\n",
       " 'Sci-Fi',\n",
       " 'Mystery',\n",
       " 'Romance',\n",
       " 'Comedy',\n",
       " 'Western']"
      ]
     },
     "execution_count": 23,
     "metadata": {},
     "output_type": "execute_result"
    }
   ],
   "source": [
    "# Q15: Which genres of movies did Leonardo DiCaprio ever appear in?\n",
    "\n",
    "leo_movies = copy.copy(movies)\n",
    "\n",
    "leo_movie_genres = []\n",
    "\n",
    "leo_list = find_specific_movies(leo_movies, \"Leonardo DiCaprio\")\n",
    "\n",
    "for movie in leo_list:    \n",
    "    genres = movie['genres']\n",
    "\n",
    "    for genre in genres:\n",
    "        if genre not in leo_movie_genres:\n",
    "            leo_movie_genres.append(genre)\n",
    "\n",
    "leo_movie_genres\n"
   ]
  },
  {
   "cell_type": "code",
   "execution_count": 24,
   "id": "2a03fc1b",
   "metadata": {},
   "outputs": [
    {
     "data": {
      "text/plain": [
       "{'Action': [],\n",
       " 'Horror': [],\n",
       " 'Sci-Fi': [],\n",
       " 'Crime': [],\n",
       " 'Thriller': [],\n",
       " 'Comedy': [],\n",
       " 'Drama': [],\n",
       " 'Romance': [],\n",
       " 'History': [],\n",
       " 'Adventure': [],\n",
       " 'Western': [],\n",
       " 'Family': [],\n",
       " 'Fantasy': [],\n",
       " 'War': [],\n",
       " 'Sport': [],\n",
       " 'Biography': [],\n",
       " 'Mystery': [],\n",
       " 'Film-Noir': [],\n",
       " 'Music': [],\n",
       " 'Animation': [],\n",
       " 'Musical': [],\n",
       " 'Reality-TV': [],\n",
       " 'Documentary': [],\n",
       " 'News': []}"
      ]
     },
     "execution_count": 24,
     "metadata": {},
     "output_type": "execute_result"
    }
   ],
   "source": [
    "# Function 6: bucketize_by_genre(movies)\n",
    "\n",
    "def bucketize_by_genre(movies):\n",
    "    \"\"\"Given a list of movie dictionaries,\n",
    "    returns a dict in which the key is the genre and\n",
    "    the value is a list of all movies that contain that genre\"\"\"\n",
    "\n",
    "    genre_dict = {}\n",
    "\n",
    "    for movie in movies:\n",
    "\n",
    "        for genre in movie['genres']:\n",
    "\n",
    "            if genre not in genre_dict:\n",
    "                genre_dict[genre] = []\n",
    "                               \n",
    "            if genre in genre_dict:\n",
    "                genre_dict[genre].append(movie)\n",
    "\n",
    "    return genre_dict\n",
    "\n",
    "genre_bucket = bucketize_by_genre(movies)\n",
    "genre_bucket"
   ]
  },
  {
   "cell_type": "code",
   "execution_count": 25,
   "id": "29884ff0",
   "metadata": {},
   "outputs": [
    {
     "data": {
      "text/plain": [
       "['Action',\n",
       " 'Horror',\n",
       " 'Sci-Fi',\n",
       " 'Crime',\n",
       " 'Thriller',\n",
       " 'Comedy',\n",
       " 'Drama',\n",
       " 'Romance',\n",
       " 'History',\n",
       " 'Adventure',\n",
       " 'Western',\n",
       " 'Family',\n",
       " 'Fantasy',\n",
       " 'War',\n",
       " 'Sport',\n",
       " 'Biography',\n",
       " 'Mystery',\n",
       " 'Film-Noir',\n",
       " 'Music',\n",
       " 'Animation',\n",
       " 'Musical',\n",
       " 'Reality-TV',\n",
       " 'Documentary',\n",
       " 'News']"
      ]
     },
     "execution_count": 25,
     "metadata": {},
     "output_type": "execute_result"
    }
   ],
   "source": [
    "# Q16: List the unique genres present in the movies dataset.\n",
    "\n",
    "unique_genres = []\n",
    "\n",
    "for genre in genre_bucket:\n",
    "    unique_genres.append(genre)\n",
    "    \n",
    "unique_genres\n"
   ]
  },
  {
   "cell_type": "code",
   "execution_count": 26,
   "id": "72662ab9",
   "metadata": {},
   "outputs": [
    {
     "data": {
      "text/plain": [
       "0"
      ]
     },
     "execution_count": 26,
     "metadata": {},
     "output_type": "execute_result"
    }
   ],
   "source": [
    "# Q17: How many Comedy movies do we have in the movies dataset?\n",
    "\n",
    "comedy_movies = genre_bucket['Comedy']\n",
    "\n",
    "len(comedy_movies)\n"
   ]
  },
  {
   "cell_type": "code",
   "execution_count": 27,
   "id": "d7f0a23a",
   "metadata": {},
   "outputs": [],
   "source": [
    "# Q18: What is the title of the Drama movie has the highest rating in the movies dataset?\n",
    "\n",
    "drama_movies = genre_bucket['Drama']\n",
    "\n",
    "highest_rating = 0\n",
    "highest_rated_movie = None\n",
    "\n",
    "for movie in drama_movies:\n",
    "    title = movie['title']\n",
    "    rating = movie['rating']\n",
    "  \n",
    "    if rating > highest_rating:\n",
    "        highest_rating = rating\n",
    "        highest_rated_movie = title\n",
    "        \n",
    "highest_rated_movie\n",
    "    "
   ]
  },
  {
   "cell_type": "code",
   "execution_count": 28,
   "id": "6955b353",
   "metadata": {},
   "outputs": [
    {
     "data": {
      "text/plain": [
       "['Drama',\n",
       " 'Horror',\n",
       " 'Sci-Fi',\n",
       " 'Biography',\n",
       " 'Romance',\n",
       " 'Thriller',\n",
       " 'Action',\n",
       " 'Crime',\n",
       " 'Comedy',\n",
       " 'Adventure',\n",
       " 'Family',\n",
       " 'Fantasy']"
      ]
     },
     "execution_count": 28,
     "metadata": {},
     "output_type": "execute_result"
    }
   ],
   "source": [
    "# Q19: List all the genres of movies that Daniel Radcliffe has ever acted in.\n",
    "\n",
    "dan_movies = copy.copy(movies)\n",
    "\n",
    "dan_list = find_specific_movies(dan_movies, \"Daniel Radcliffe\")\n",
    "\n",
    "dan_genre_bucket = bucketize_by_genre(dan_movies)\n",
    "\n",
    "dan_genre_list = list(dan_genre_bucket)\n",
    "\n",
    "dan_genre_list\n"
   ]
  },
  {
   "cell_type": "code",
   "execution_count": 29,
   "id": "8af59123",
   "metadata": {},
   "outputs": [
    {
     "data": {
      "text/plain": [
       "'Music'"
      ]
     },
     "execution_count": 29,
     "metadata": {},
     "output_type": "execute_result"
    }
   ],
   "source": [
    "# Q20: Which movie genre does the actress Jennifer Aniston play the least?\n",
    "\n",
    "jen_movies = copy.copy(movies)\n",
    "\n",
    "jen_list = find_specific_movies(jen_movies, \"Jennifer Aniston\")\n",
    "\n",
    "jen_genre_bucket = bucketize_by_genre(jen_movies)\n",
    "\n",
    "least_genre = None\n",
    "least_movies_count = None\n",
    "\n",
    "for genre in jen_genre_bucket:\n",
    "    num_of_movies = len(jen_genre_bucket[genre])\n",
    "    \n",
    "    if least_movies_count == None or num_of_movies <= least_movies_count:\n",
    "        least_movies_count = num_of_movies\n",
    "        least_genre = genre\n",
    "        \n",
    "least_genre\n"
   ]
  }
 ],
 "metadata": {
  "kernelspec": {
   "display_name": "Python 3 (ipykernel)",
   "language": "python",
   "name": "python3"
  },
  "language_info": {
   "codemirror_mode": {
    "name": "ipython",
    "version": 3
   },
   "file_extension": ".py",
   "mimetype": "text/x-python",
   "name": "python",
   "nbconvert_exporter": "python",
   "pygments_lexer": "ipython3",
   "version": "3.9.7"
  }
 },
 "nbformat": 4,
 "nbformat_minor": 5
}
