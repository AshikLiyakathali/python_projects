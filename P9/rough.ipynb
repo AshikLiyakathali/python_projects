{
 "cells": [
  {
   "cell_type": "code",
   "execution_count": 1,
   "id": "40f6d665",
   "metadata": {},
   "outputs": [],
   "source": [
    "# project: p9\n",
    "# submitter: ashik\n",
    "# partner: mkash\n",
    "# hours: 10"
   ]
  },
  {
   "cell_type": "code",
   "execution_count": 2,
   "id": "a1ae9ac0",
   "metadata": {},
   "outputs": [],
   "source": [
    "import csv\n",
    "import matplotlib\n",
    "import pandas"
   ]
  },
  {
   "cell_type": "code",
   "execution_count": 3,
   "id": "2abff6bb",
   "metadata": {},
   "outputs": [],
   "source": [
    "# Using the plot_dict function from lab9\n",
    "\n",
    "def plot_dict(d, label=\"Please Label Me!!!\"):\n",
    "    ax = pandas.Series(d).sort_index().plot.bar(color=\"black\", fontsize=16)\n",
    "    ax.set_ylabel(label, fontsize=16)\n",
    "    "
   ]
  },
  {
   "cell_type": "code",
   "execution_count": 4,
   "id": "d183104e",
   "metadata": {},
   "outputs": [],
   "source": [
    "# Using the year_to_decade function from lab9\n",
    "\n",
    "def year_to_decade(year):\n",
    "    if year % 10 == 0:\n",
    "        decade_start = year + 1\n",
    "        decade_end = decade_start + 10\n",
    "        \n",
    "    else:\n",
    "        decade_start = year - (year % 10) + 1\n",
    "        decade_end = decade_start + 9\n",
    "        \n",
    "    return str(decade_start) + \" to \" + str(decade_end)"
   ]
  },
  {
   "cell_type": "code",
   "execution_count": 5,
   "id": "6db14231",
   "metadata": {},
   "outputs": [],
   "source": [
    "# Using the median function from lab9\n",
    "\n",
    "def median(items):\n",
    "\n",
    "    sorted_items = sorted(items)\n",
    "    length = len(items)\n",
    "\n",
    "    if length > 0:\n",
    "        if length % 2 != 0:\n",
    "            middle = (length - 1) // 2\n",
    "            median = sorted_items[middle] \n",
    "            \n",
    "        else:\n",
    "            first_middle = length // 2\n",
    "            second_middle = (length // 2) - 1\n",
    "            median = (sorted_items[first_middle] + sorted_items[second_middle]) / 2\n",
    "    \n",
    "    return median\n"
   ]
  },
  {
   "cell_type": "code",
   "execution_count": 6,
   "id": "b896e364",
   "metadata": {},
   "outputs": [],
   "source": [
    "# Using the existing process_csv function for accessing data from csv files\n",
    "\n",
    "def process_csv(filename):\n",
    "    example_file = open(filename, encoding=\"utf-8\")\n",
    "    example_reader = csv.reader(example_file)\n",
    "    example_data = list(example_reader)\n",
    "    example_file.close()\n",
    "    return example_data\n"
   ]
  },
  {
   "cell_type": "code",
   "execution_count": 35,
   "id": "47ee6dcc",
   "metadata": {},
   "outputs": [],
   "source": [
    "# Using the get_mapping function from P8\n",
    "\n",
    "def get_mapping(path):\n",
    "    \"\"\"\n",
    "    Converts mapping csv list of lists data into a dict with keys as IDs and values as names.\n",
    "    \"\"\"\n",
    "    mapping_rows = process_csv(path)\n",
    "\n",
    "    mapping_dict = {}\n",
    "\n",
    "    for idx, name in mapping_rows:\n",
    "\n",
    "        key = idx\n",
    "        value = name\n",
    "\n",
    "        mapping_dict[key] = value\n",
    "\n",
    "    return mapping_dict\n",
    "\n",
    "mapping = get_mapping(\"mapping.csv\")\n"
   ]
  },
  {
   "cell_type": "code",
   "execution_count": 8,
   "id": "11408905",
   "metadata": {},
   "outputs": [],
   "source": [
    "# Using the get_raw_movies function from P8\n",
    "\n",
    "def get_raw_movies(path):\n",
    "    \"\"\"\n",
    "    Converts movies csv list of lists data into a dict with keys as column names and values as corresponding type converted values.\n",
    "    \"\"\"\n",
    "    csv_rows = process_csv(path)\n",
    "\n",
    "    csv_header = csv_rows[0]\n",
    "\n",
    "    csv_data = csv_rows[1:]\n",
    "\n",
    "    movie_dict_list = []\n",
    "    int_list = ['year', 'duration']\n",
    "    float_list = ['rating']\n",
    "    str_list = ['genres', 'directors', 'actors']\n",
    "\n",
    "    \n",
    "    for i in range(len(csv_data)):\n",
    "        movie_dict = {}\n",
    "\n",
    "        for j in range(len(csv_header)):\n",
    "            key = csv_header[j]\n",
    "            value = csv_data[i][j]\n",
    "\n",
    "            if key in int_list:\n",
    "                movie_dict[key] = int(value)\n",
    "            elif key in float_list:\n",
    "                movie_dict[key] = float(value)\n",
    "            elif key in str_list:\n",
    "                movie_dict[key] = value.split(\", \")\n",
    "            else:\n",
    "                movie_dict[key] = value\n",
    "\n",
    "        movie_dict_list.append(movie_dict)\n",
    "\n",
    "    return movie_dict_list\n",
    "\n",
    "raw_movies = get_raw_movies(\"movies.csv\")\n"
   ]
  },
  {
   "cell_type": "code",
   "execution_count": 9,
   "id": "acfb3ad8",
   "metadata": {},
   "outputs": [
    {
     "data": {
      "text/plain": [
       "[{'title': 'They Live',\n",
       "  'year': 1988,\n",
       "  'genres': ['Action', 'Horror', 'Sci-Fi'],\n",
       "  'duration': 94,\n",
       "  'directors': ['John Carpenter'],\n",
       "  'actors': ['Roddy Piper', 'Keith David', 'Meg Foster'],\n",
       "  'rating': 7.3},\n",
       " {'title': 'Beyond Justice',\n",
       "  'year': 2014,\n",
       "  'genres': ['Crime', 'Thriller'],\n",
       "  'duration': 86,\n",
       "  'directors': ['Timothy Woodward Jr.'],\n",
       "  'actors': ['Vinnie Jones', 'Mischa Barton'],\n",
       "  'rating': 3.4},\n",
       " {'title': 'Dirty Beautiful',\n",
       "  'year': 2015,\n",
       "  'genres': ['Comedy', 'Drama', 'Romance'],\n",
       "  'duration': 95,\n",
       "  'directors': ['Tim Bartell'],\n",
       "  'actors': ['Ricky Mabe', 'Jordan Monaghan', 'Conor Leslie', 'Darin Heames'],\n",
       "  'rating': 5.5},\n",
       " {'title': 'American Milkshake',\n",
       "  'year': 2013,\n",
       "  'genres': ['Comedy'],\n",
       "  'duration': 83,\n",
       "  'directors': ['David Andalman', 'Mariko Munro'],\n",
       "  'actors': ['Leo Fitzpatrick', 'Tyler Ross', 'Shareeka Epps'],\n",
       "  'rating': 4.7},\n",
       " {'title': 'Honeydripper',\n",
       "  'year': 2007,\n",
       "  'genres': ['Crime', 'Drama', 'History'],\n",
       "  'duration': 124,\n",
       "  'directors': ['John Sayles'],\n",
       "  'actors': ['Danny Glover', 'LisaGay Hamilton', 'Yaya DaCosta'],\n",
       "  'rating': 6.6}]"
      ]
     },
     "execution_count": 9,
     "metadata": {},
     "output_type": "execute_result"
    }
   ],
   "source": [
    "# Using the get_movies function from P8\n",
    "\n",
    "def get_movies(movies_path, mapping_path):\n",
    "    \"\"\"\n",
    "    Creates a new movies list of dict data by using the mapping dictionary,\n",
    "    to convert IDs into actual names for title, actors, and directors.\n",
    "    \"\"\"\n",
    "    movie_dict_list = get_raw_movies(movies_path)\n",
    "    mapping_dict = get_mapping(mapping_path)\n",
    "    \n",
    "    dir_act_list = ['directors', 'actors']\n",
    "\n",
    "    mapped_csv_dict_list = movie_dict_list\n",
    "\n",
    "    for i in range(len(mapped_csv_dict_list)):\n",
    "        movie_dict = mapped_csv_dict_list[i]\n",
    "\n",
    "        for key in movie_dict: \n",
    "            if key == 'title':\n",
    "                title = movie_dict[key]\n",
    "                movie_name = mapping_dict[title]\n",
    "                mapped_csv_dict_list[i][key] = movie_name\n",
    "\n",
    "            if key in dir_act_list:\n",
    "                names_list = movie_dict[key]\n",
    "                dir_act_names_list = []\n",
    "\n",
    "                for idx in names_list:\n",
    "                    dir_act_name = mapping_dict[idx]  \n",
    "                    dir_act_names_list.append(dir_act_name)\n",
    "                mapped_csv_dict_list[i][key] = dir_act_names_list\n",
    "\n",
    "    return mapped_csv_dict_list\n",
    "\n",
    "movies = get_movies(\"movies.csv\", \"mapping.csv\")\n",
    "movies[:5]"
   ]
  },
  {
   "cell_type": "code",
   "execution_count": 10,
   "id": "cf3f84b4",
   "metadata": {},
   "outputs": [],
   "source": [
    "# Using the find_specific_movies function that has been provided to filter specific movies based on keyword\n",
    "\n",
    "def find_specific_movies(movies, keyword):\n",
    "    '''given a list of movie dictionaries and a keyword,\n",
    "    returns a list of movies that contains the keyword\n",
    "    '''\n",
    "    movies_new = list()\n",
    "    \n",
    "    for movie in movies:\n",
    "        if (keyword in movie['title']) or (keyword in movie['genres']) \\\n",
    "            or (keyword in movie['directors']) or (keyword in movie['actors']):\n",
    "            \n",
    "            movies_new.append(movie)\n",
    "    \n",
    "    return movies_new\n"
   ]
  },
  {
   "cell_type": "code",
   "execution_count": 11,
   "id": "c98a65ae",
   "metadata": {},
   "outputs": [],
   "source": [
    "# Q1: What is the average rating of the 'Harry Potter' movies directed by 'David Yates'?\n",
    "\n",
    "\n",
    "\n"
   ]
  },
  {
   "cell_type": "code",
   "execution_count": null,
   "id": "b925ff86",
   "metadata": {},
   "outputs": [],
   "source": []
  },
  {
   "cell_type": "code",
   "execution_count": null,
   "id": "9e95257b",
   "metadata": {},
   "outputs": [],
   "source": []
  },
  {
   "cell_type": "code",
   "execution_count": 12,
   "id": "4c05a9fb",
   "metadata": {},
   "outputs": [],
   "source": [
    "# Q2: What is the median rating of all 'Ice Age' movies?\n",
    "\n",
    "\n",
    "\n"
   ]
  },
  {
   "cell_type": "code",
   "execution_count": null,
   "id": "6f5d11d5",
   "metadata": {},
   "outputs": [],
   "source": []
  },
  {
   "cell_type": "code",
   "execution_count": null,
   "id": "3acd7616",
   "metadata": {},
   "outputs": [],
   "source": []
  },
  {
   "cell_type": "code",
   "execution_count": 13,
   "id": "f7964a4f",
   "metadata": {},
   "outputs": [],
   "source": [
    "# Q3: What are all the movies that have the lowest rating?\n",
    "\n",
    "\n"
   ]
  },
  {
   "cell_type": "code",
   "execution_count": 44,
   "id": "73761b4f",
   "metadata": {},
   "outputs": [
    {
     "data": {
      "text/plain": [
       "50709"
      ]
     },
     "execution_count": 44,
     "metadata": {},
     "output_type": "execute_result"
    }
   ],
   "source": [
    "title_mapping = {k:v for (k,v) in mapping.items() if k[:2] == \"tt\"}\n",
    "names_mapping = {k:v for (k,v) in mapping.items() if k[:2] == \"nm\"}\n",
    "\n",
    "len(title_mapping)\n",
    "len(names_mapping)\n"
   ]
  },
  {
   "cell_type": "code",
   "execution_count": null,
   "id": "69db5886",
   "metadata": {},
   "outputs": [],
   "source": []
  },
  {
   "cell_type": "code",
   "execution_count": 14,
   "id": "ac439b65",
   "metadata": {},
   "outputs": [],
   "source": [
    "# Q4: Among all the 'Avengers' movies, which ones are highest rated?\n",
    "\n",
    "\n"
   ]
  },
  {
   "cell_type": "code",
   "execution_count": 15,
   "id": "2d38f0c2",
   "metadata": {},
   "outputs": [],
   "source": [
    "# Function 2: bucketize(movie_list, category)\n",
    "\n",
    "def bucketize(movie_list, category):\n",
    "    \"\"\"\n",
    "    Input: A list of movies and a category string.\n",
    "    Return: A dictionary that bucketizes `movie_list` by `category`.\n",
    "    Requirements: See the instructions in README.md\n",
    "    \"\"\"\n",
    "    bucketized_dict = {}\n",
    "\n",
    "    cat_list = [\"genres\", \"directors\", \"actors\"]\n",
    "    \n",
    "    for movie in movie_list:\n",
    "        cat = movie[category]\n",
    "\n",
    "        if category in cat_list:\n",
    "            for item in cat:\n",
    "                if item not in bucketized_dict:\n",
    "                    bucketized_dict[item] = []        \n",
    "        else:\n",
    "            if cat not in bucketized_dict:\n",
    "                bucketized_dict[cat] = []\n",
    "                \n",
    "    for item in bucketized_dict:\n",
    "        list_of_movies = []\n",
    "        \n",
    "        for movie in movie_list:   \n",
    "            cat = movie[category]\n",
    "            \n",
    "            if category in cat_list:\n",
    "                if item in cat:\n",
    "                    list_of_movies.append(movie)       \n",
    "            else:\n",
    "                if item == cat:\n",
    "                    list_of_movies.append(movie)\n",
    "            \n",
    "        bucketized_dict[item] = list_of_movies\n",
    "            \n",
    "    return bucketized_dict"
   ]
  },
  {
   "cell_type": "code",
   "execution_count": 16,
   "id": "e3fa8a11",
   "metadata": {},
   "outputs": [
    {
     "data": {
      "text/plain": [
       "{7.3: [{'title': 'They Live',\n",
       "   'year': 1988,\n",
       "   'genres': ['Action', 'Horror', 'Sci-Fi'],\n",
       "   'duration': 94,\n",
       "   'directors': ['John Carpenter'],\n",
       "   'actors': ['Roddy Piper', 'Keith David', 'Meg Foster'],\n",
       "   'rating': 7.3}],\n",
       " 3.4: [{'title': 'Beyond Justice',\n",
       "   'year': 2014,\n",
       "   'genres': ['Crime', 'Thriller'],\n",
       "   'duration': 86,\n",
       "   'directors': ['Timothy Woodward Jr.'],\n",
       "   'actors': ['Vinnie Jones', 'Mischa Barton'],\n",
       "   'rating': 3.4}],\n",
       " 5.5: [{'title': 'Dirty Beautiful',\n",
       "   'year': 2015,\n",
       "   'genres': ['Comedy', 'Drama', 'Romance'],\n",
       "   'duration': 95,\n",
       "   'directors': ['Tim Bartell'],\n",
       "   'actors': ['Ricky Mabe', 'Jordan Monaghan', 'Conor Leslie', 'Darin Heames'],\n",
       "   'rating': 5.5}],\n",
       " 4.7: [{'title': 'American Milkshake',\n",
       "   'year': 2013,\n",
       "   'genres': ['Comedy'],\n",
       "   'duration': 83,\n",
       "   'directors': ['David Andalman', 'Mariko Munro'],\n",
       "   'actors': ['Leo Fitzpatrick', 'Tyler Ross', 'Shareeka Epps'],\n",
       "   'rating': 4.7}],\n",
       " 6.6: [{'title': 'Honeydripper',\n",
       "   'year': 2007,\n",
       "   'genres': ['Crime', 'Drama', 'History'],\n",
       "   'duration': 124,\n",
       "   'directors': ['John Sayles'],\n",
       "   'actors': ['Danny Glover', 'LisaGay Hamilton', 'Yaya DaCosta'],\n",
       "   'rating': 6.6}]}"
      ]
     },
     "execution_count": 16,
     "metadata": {},
     "output_type": "execute_result"
    }
   ],
   "source": [
    "sample_movies = movies[:5]\n",
    "\n",
    "def bucket(movie_list, category):\n",
    "    \n",
    "    bucketized_dict = {d[category]: [] for d in movie_list}\n",
    "    \n",
    "    for item in bucketized_dict:\n",
    "        \n",
    "        list_of_movies = [d for d in movie_list if item == d[category]]\n",
    "        \n",
    "        bucketized_dict[item] = list_of_movies\n",
    "        \n",
    "    return bucketized_dict\n",
    "    \n",
    "bucket(sample_movies, 'rating')"
   ]
  },
  {
   "cell_type": "code",
   "execution_count": 17,
   "id": "3bf3f8ad",
   "metadata": {},
   "outputs": [],
   "source": [
    "# Q5: Which movies did 'Octavia Spencer' act in?\n",
    "\n",
    "\n",
    "\n",
    "\n"
   ]
  },
  {
   "cell_type": "code",
   "execution_count": null,
   "id": "1e0528c2",
   "metadata": {},
   "outputs": [],
   "source": []
  },
  {
   "cell_type": "code",
   "execution_count": null,
   "id": "56d05a78",
   "metadata": {},
   "outputs": [],
   "source": []
  },
  {
   "cell_type": "code",
   "execution_count": 18,
   "id": "848e662b",
   "metadata": {},
   "outputs": [],
   "source": [
    "# Q6: Which movies did 'George Takei' act in\n",
    "\n",
    "\n",
    "\n",
    "\n"
   ]
  },
  {
   "cell_type": "code",
   "execution_count": null,
   "id": "20c77096",
   "metadata": {},
   "outputs": [],
   "source": []
  },
  {
   "cell_type": "code",
   "execution_count": null,
   "id": "e16afc3b",
   "metadata": {},
   "outputs": [],
   "source": []
  },
  {
   "cell_type": "code",
   "execution_count": 19,
   "id": "b241924b",
   "metadata": {},
   "outputs": [],
   "source": [
    "# Q7: How many movies are in each genre?\n",
    "\n",
    "\n",
    "\n"
   ]
  },
  {
   "cell_type": "code",
   "execution_count": null,
   "id": "a56c46fd",
   "metadata": {},
   "outputs": [],
   "source": []
  },
  {
   "cell_type": "code",
   "execution_count": null,
   "id": "239633dd",
   "metadata": {},
   "outputs": [],
   "source": []
  },
  {
   "cell_type": "code",
   "execution_count": 20,
   "id": "f9a4c8e4",
   "metadata": {},
   "outputs": [],
   "source": [
    "# Q8: Plot the number of movies in each genre as a bar graph.\n",
    "\n",
    "\n"
   ]
  },
  {
   "cell_type": "code",
   "execution_count": null,
   "id": "1c65da20",
   "metadata": {},
   "outputs": [],
   "source": []
  },
  {
   "cell_type": "code",
   "execution_count": null,
   "id": "be53dbd3",
   "metadata": {},
   "outputs": [],
   "source": []
  },
  {
   "cell_type": "code",
   "execution_count": 21,
   "id": "696fee4c",
   "metadata": {},
   "outputs": [],
   "source": [
    "# Q9: Find the number of movies released in each decade.\n",
    "\n",
    "\n"
   ]
  },
  {
   "cell_type": "code",
   "execution_count": null,
   "id": "dbdd88b9",
   "metadata": {},
   "outputs": [],
   "source": []
  },
  {
   "cell_type": "code",
   "execution_count": null,
   "id": "248ecbb6",
   "metadata": {},
   "outputs": [],
   "source": []
  },
  {
   "cell_type": "code",
   "execution_count": 22,
   "id": "81761a50",
   "metadata": {},
   "outputs": [],
   "source": [
    "# Q10: Plot the number of movies released in each decade as a bar graph.\n",
    "\n",
    "\n",
    "\n"
   ]
  },
  {
   "cell_type": "code",
   "execution_count": null,
   "id": "24ee6106",
   "metadata": {},
   "outputs": [],
   "source": []
  },
  {
   "cell_type": "code",
   "execution_count": null,
   "id": "4b08bed6",
   "metadata": {},
   "outputs": [],
   "source": []
  },
  {
   "cell_type": "code",
   "execution_count": 23,
   "id": "2b11fc2b",
   "metadata": {},
   "outputs": [],
   "source": [
    "# Q11: Find the highest rated movies for each genre.\n",
    "\n",
    "\n",
    "\n"
   ]
  },
  {
   "cell_type": "code",
   "execution_count": null,
   "id": "9941112b",
   "metadata": {},
   "outputs": [],
   "source": []
  },
  {
   "cell_type": "code",
   "execution_count": null,
   "id": "34e17188",
   "metadata": {},
   "outputs": [],
   "source": []
  },
  {
   "cell_type": "code",
   "execution_count": 24,
   "id": "8536ad54",
   "metadata": {},
   "outputs": [],
   "source": [
    "# Q12: Find the median rating of movies from each genre.\n",
    "\n",
    "\n"
   ]
  },
  {
   "cell_type": "code",
   "execution_count": null,
   "id": "f5d223dc",
   "metadata": {},
   "outputs": [],
   "source": []
  },
  {
   "cell_type": "code",
   "execution_count": null,
   "id": "1df5352b",
   "metadata": {},
   "outputs": [],
   "source": []
  },
  {
   "cell_type": "code",
   "execution_count": 25,
   "id": "8338598f",
   "metadata": {},
   "outputs": [],
   "source": [
    "# Q13: Plot the median ratings of movies in each genre as a bar graph.\n",
    "\n",
    "\n"
   ]
  },
  {
   "cell_type": "code",
   "execution_count": null,
   "id": "f0a27433",
   "metadata": {},
   "outputs": [],
   "source": []
  },
  {
   "cell_type": "code",
   "execution_count": null,
   "id": "5052cfe1",
   "metadata": {},
   "outputs": [],
   "source": []
  },
  {
   "cell_type": "code",
   "execution_count": 26,
   "id": "dfff3ecc",
   "metadata": {},
   "outputs": [],
   "source": [
    "# Q14: Produce a list of genres sorted in decreasing order of their median rating.\n",
    "\n",
    "\n",
    "\n"
   ]
  },
  {
   "cell_type": "code",
   "execution_count": null,
   "id": "da87a666",
   "metadata": {},
   "outputs": [],
   "source": []
  },
  {
   "cell_type": "code",
   "execution_count": null,
   "id": "1457471f",
   "metadata": {},
   "outputs": [],
   "source": []
  },
  {
   "cell_type": "code",
   "execution_count": 27,
   "id": "d5730c12",
   "metadata": {},
   "outputs": [],
   "source": [
    "# Q15: Produce a list of Shrek movies sorted in increasing order of their year of release.\n",
    "\n",
    "\n"
   ]
  },
  {
   "cell_type": "code",
   "execution_count": null,
   "id": "84ebe086",
   "metadata": {},
   "outputs": [],
   "source": []
  },
  {
   "cell_type": "code",
   "execution_count": null,
   "id": "27d1fe01",
   "metadata": {},
   "outputs": [],
   "source": []
  },
  {
   "cell_type": "code",
   "execution_count": 28,
   "id": "520f4549",
   "metadata": {},
   "outputs": [],
   "source": [
    "# Q16: Find a list of all movies in which 'Jodie Foster' is both an actor and director.\n",
    "\n",
    "\n"
   ]
  },
  {
   "cell_type": "code",
   "execution_count": null,
   "id": "aa165114",
   "metadata": {},
   "outputs": [],
   "source": []
  },
  {
   "cell_type": "code",
   "execution_count": null,
   "id": "45f14cbe",
   "metadata": {},
   "outputs": [],
   "source": []
  },
  {
   "cell_type": "code",
   "execution_count": 29,
   "id": "25ba6fb1",
   "metadata": {},
   "outputs": [],
   "source": [
    "# Q17: What is the title of the longest movie both acted and directed by 'Clint Eastwood'?\n",
    "\n",
    "\n"
   ]
  },
  {
   "cell_type": "code",
   "execution_count": null,
   "id": "e06ddf29",
   "metadata": {},
   "outputs": [],
   "source": []
  },
  {
   "cell_type": "code",
   "execution_count": null,
   "id": "c826de21",
   "metadata": {},
   "outputs": [],
   "source": []
  },
  {
   "cell_type": "code",
   "execution_count": 30,
   "id": "dd8e938b",
   "metadata": {},
   "outputs": [],
   "source": [
    "# Q18: What are the titles of the movies directed by the Wachowskis contain both 'Action' and 'Adventure' in their genre?\n",
    "\n",
    "\n"
   ]
  },
  {
   "cell_type": "code",
   "execution_count": null,
   "id": "ecfd6391",
   "metadata": {},
   "outputs": [],
   "source": []
  },
  {
   "cell_type": "code",
   "execution_count": null,
   "id": "a6162e36",
   "metadata": {},
   "outputs": [],
   "source": []
  },
  {
   "cell_type": "code",
   "execution_count": 31,
   "id": "b430fbf1",
   "metadata": {},
   "outputs": [],
   "source": [
    "# Q19: Find the titles of the 15 shortest Biographies in the dataset.\n",
    "\n",
    "\n"
   ]
  },
  {
   "cell_type": "code",
   "execution_count": null,
   "id": "757e182d",
   "metadata": {},
   "outputs": [],
   "source": []
  },
  {
   "cell_type": "code",
   "execution_count": null,
   "id": "614b4b11",
   "metadata": {},
   "outputs": [],
   "source": []
  },
  {
   "cell_type": "code",
   "execution_count": 32,
   "id": "c7f03fbb",
   "metadata": {},
   "outputs": [],
   "source": [
    "# Q20: Find the top 25 actors with the highest median rating among those actors who have acted in at least 15 movies.\n",
    "\n",
    "\n"
   ]
  },
  {
   "cell_type": "code",
   "execution_count": null,
   "id": "458b17f6",
   "metadata": {},
   "outputs": [],
   "source": []
  },
  {
   "cell_type": "code",
   "execution_count": null,
   "id": "96912b2a",
   "metadata": {},
   "outputs": [],
   "source": []
  },
  {
   "cell_type": "code",
   "execution_count": null,
   "id": "a9de85c6",
   "metadata": {},
   "outputs": [],
   "source": []
  }
 ],
 "metadata": {
  "kernelspec": {
   "display_name": "Python 3 (ipykernel)",
   "language": "python",
   "name": "python3"
  },
  "language_info": {
   "codemirror_mode": {
    "name": "ipython",
    "version": 3
   },
   "file_extension": ".py",
   "mimetype": "text/x-python",
   "name": "python",
   "nbconvert_exporter": "python",
   "pygments_lexer": "ipython3",
   "version": "3.9.7"
  }
 },
 "nbformat": 4,
 "nbformat_minor": 5
}
