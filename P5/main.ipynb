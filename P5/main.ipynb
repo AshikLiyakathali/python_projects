{
 "cells": [
  {
   "cell_type": "code",
   "execution_count": 1,
   "id": "3dcace26",
   "metadata": {},
   "outputs": [],
   "source": [
    "# project: p5\n",
    "# submitter: ashik\n",
    "# partner: None\n",
    "# hours: 10"
   ]
  },
  {
   "cell_type": "code",
   "execution_count": 2,
   "id": "7fa863c3",
   "metadata": {},
   "outputs": [],
   "source": [
    "import project\n",
    "import datetime"
   ]
  },
  {
   "cell_type": "code",
   "execution_count": 3,
   "id": "e6a61d92",
   "metadata": {},
   "outputs": [
    {
     "data": {
      "text/plain": [
       "['__builtins__',\n",
       " '__cached__',\n",
       " '__doc__',\n",
       " '__file__',\n",
       " '__hurricane__',\n",
       " '__init__',\n",
       " '__loader__',\n",
       " '__name__',\n",
       " '__package__',\n",
       " '__spec__',\n",
       " 'count',\n",
       " 'get_damage',\n",
       " 'get_deaths',\n",
       " 'get_dissipated',\n",
       " 'get_formed',\n",
       " 'get_mph',\n",
       " 'get_name']"
      ]
     },
     "execution_count": 3,
     "metadata": {},
     "output_type": "execute_result"
    }
   ],
   "source": [
    "dir(project)"
   ]
  },
  {
   "cell_type": "code",
   "execution_count": 4,
   "id": "6f572cdd",
   "metadata": {},
   "outputs": [
    {
     "data": {
      "text/plain": [
       "144"
      ]
     },
     "execution_count": 4,
     "metadata": {},
     "output_type": "execute_result"
    }
   ],
   "source": [
    "# Q1: How many hurricanes does the dataset have?\n",
    "\n",
    "project.count()\n"
   ]
  },
  {
   "cell_type": "code",
   "execution_count": 5,
   "id": "89d241d5",
   "metadata": {},
   "outputs": [
    {
     "data": {
      "text/plain": [
       "37"
      ]
     },
     "execution_count": 5,
     "metadata": {},
     "output_type": "execute_result"
    }
   ],
   "source": [
    "# Q2: How many deaths were caused by the hurricane at index 138?\n",
    "\n",
    "project.get_deaths(138)\n"
   ]
  },
  {
   "cell_type": "code",
   "execution_count": 6,
   "id": "e5cdaf80",
   "metadata": {},
   "outputs": [
    {
     "data": {
      "text/plain": [
       "130"
      ]
     },
     "execution_count": 6,
     "metadata": {},
     "output_type": "execute_result"
    }
   ],
   "source": [
    "# Q3: What is the MPH of the hurricane at the last index?\n",
    "\n",
    "project.get_mph(-1)\n"
   ]
  },
  {
   "cell_type": "code",
   "execution_count": 7,
   "id": "dac52343",
   "metadata": {},
   "outputs": [
    {
     "data": {
      "text/plain": [
       "2"
      ]
     },
     "execution_count": 7,
     "metadata": {},
     "output_type": "execute_result"
    }
   ],
   "source": [
    "# Q4: How many hurricanes named Sally are in the dataset?\n",
    " \n",
    "count = 0\n",
    "\n",
    "for idx in range(project.count()):\n",
    "    name = project.get_name(idx)\n",
    "    if name.upper() == \"SALLY\" or name.lower() == \"sally\":\n",
    "        count += 1\n",
    "\n",
    "count\n"
   ]
  },
  {
   "cell_type": "code",
   "execution_count": 8,
   "id": "dd901679",
   "metadata": {},
   "outputs": [
    {
     "data": {
      "text/plain": [
       "195"
      ]
     },
     "execution_count": 8,
     "metadata": {},
     "output_type": "execute_result"
    }
   ],
   "source": [
    "# Q5: What is the fastest speed (in MPH) of a hurricane in the dataset?\n",
    "\n",
    "max_speed = 0\n",
    "\n",
    "for idx in range(project.count()):\n",
    "    current_speed = project.get_mph(idx)\n",
    "    if current_speed > max_speed:\n",
    "        max_speed = current_speed\n",
    "    \n",
    "max_speed\n"
   ]
  },
  {
   "cell_type": "code",
   "execution_count": 9,
   "id": "2bc9bdfd",
   "metadata": {},
   "outputs": [
    {
     "data": {
      "text/plain": [
       "75"
      ]
     },
     "execution_count": 9,
     "metadata": {},
     "output_type": "execute_result"
    }
   ],
   "source": [
    "# Q6: What is the speed of the slowest hurricane (in MPH) recorded in the dataset?\n",
    "\n",
    "min_speed = None\n",
    "\n",
    "for idx in range(project.count()):\n",
    "    current_speed = project.get_mph(idx)\n",
    "    if min_speed == None or current_speed < min_speed:\n",
    "        min_speed = current_speed\n",
    "    \n",
    "min_speed\n"
   ]
  },
  {
   "cell_type": "code",
   "execution_count": 10,
   "id": "d6a3e31f",
   "metadata": {},
   "outputs": [],
   "source": [
    "# Function 1: format_damage(damage)\n",
    "\n",
    "def format_damage(damage):\n",
    "    #TODO: Check the last character of the string\n",
    "    #TODO: Type cast the string (except for last character - use appropriate slicing) into float\n",
    "    #TODO: Perform the conversion and type cast the final computation to int\n",
    "\n",
    "    damage_amount = float(damage[:-1])\n",
    "    \n",
    "    if damage[-1].upper() == 'B':\n",
    "        amount = damage_amount * 1000000000\n",
    "        return int(amount)\n",
    "    elif damage[-1].upper() == 'M':\n",
    "        amount = damage_amount * 1000000\n",
    "        return int(amount)\n",
    "    elif damage[-1].upper() == 'K':\n",
    "        amount = damage_amount * 1000\n",
    "        return int(amount)\n",
    "    else:\n",
    "        return \"Damage amount is not in proper format\"\n"
   ]
  },
  {
   "cell_type": "code",
   "execution_count": 11,
   "id": "e4e7aa7d",
   "metadata": {},
   "outputs": [
    {
     "data": {
      "text/plain": [
       "958107084997"
      ]
     },
     "execution_count": 11,
     "metadata": {},
     "output_type": "execute_result"
    }
   ],
   "source": [
    "# Q7: What is the total damage (in dollars) caused by all hurricanes recorded in the dataset?\n",
    "\n",
    "total_damage = 0\n",
    "\n",
    "for idx in range(project.count()):\n",
    "    damage = project.get_damage(idx)\n",
    "    current_damage = format_damage(damage)\n",
    "    total_damage += current_damage\n",
    "    \n",
    "total_damage\n"
   ]
  },
  {
   "cell_type": "code",
   "execution_count": 98,
   "id": "3a7926d8",
   "metadata": {},
   "outputs": [],
   "source": [
    "# Writing a function to round off a float number upto two decimal places \n",
    "\n",
    "def two_decimal(float_num):\n",
    "    str_num = str(float_num) \n",
    "    for i in range(len(str_num)):\n",
    "        if str_num[i] == \".\":\n",
    "            if len(str_num) == i + 3:\n",
    "                return float(str_num)\n",
    "            elif int(str_num[i+3]) >= 5 and int(str_num[i+3]) <= 9:\n",
    "                str_num = str_num[:i+2] + str(int(str_num[i+2]) + 1)\n",
    "                return float(str_num)\n",
    "            else:\n",
    "                str_num = str_num[:i+3]\n",
    "                return float(str_num)\n"
   ]
  },
  {
   "cell_type": "code",
   "execution_count": 99,
   "id": "5c6a6d77",
   "metadata": {},
   "outputs": [
    {
     "data": {
      "text/plain": [
       "2678957142.86"
      ]
     },
     "execution_count": 99,
     "metadata": {},
     "output_type": "execute_result"
    }
   ],
   "source": [
    "# Q8: What is the average damage caused by hurricanes with names starting with the letter G?\n",
    "\n",
    "total_damage = 0\n",
    "count = 0\n",
    "\n",
    "for idx in range(project.count()):\n",
    "    name = project.get_name(idx)\n",
    "    damage = project.get_damage(idx)\n",
    "    current_damage = format_damage(damage)\n",
    "    \n",
    "    if name[0] == \"G\":\n",
    "        total_damage += current_damage\n",
    "        count += 1\n",
    "    \n",
    "avg_damage = str(total_damage / count)\n",
    "\n",
    "two_decimal(avg_damage)\n"
   ]
  },
  {
   "cell_type": "code",
   "execution_count": 100,
   "id": "1dc6ba45",
   "metadata": {},
   "outputs": [
    {
     "data": {
      "text/plain": [
       "'SALly'"
      ]
     },
     "execution_count": 100,
     "metadata": {},
     "output_type": "execute_result"
    }
   ],
   "source": [
    "# Q9: What is the name of the fastest hurricane in the dataset?\n",
    "\n",
    "fastest_hurr_idx = 0\n",
    "max_speed = 0\n",
    "\n",
    "for idx in range(project.count()):\n",
    "    current_speed = project.get_mph(idx)\n",
    "    if current_speed > max_speed:\n",
    "        max_speed = current_speed\n",
    "        fastest_hurr_idx = idx\n",
    "        \n",
    "project.get_name(fastest_hurr_idx)\n"
   ]
  },
  {
   "cell_type": "code",
   "execution_count": 101,
   "id": "4fee246f",
   "metadata": {},
   "outputs": [
    {
     "data": {
      "text/plain": [
       "1370000"
      ]
     },
     "execution_count": 101,
     "metadata": {},
     "output_type": "execute_result"
    }
   ],
   "source": [
    "# Q10: What is the damage (in dollars) caused by the fastest hurricane in the dataset?\n",
    "\n",
    "damage = project.get_damage(fastest_hurr_idx)\n",
    "format_damage(damage)\n"
   ]
  },
  {
   "cell_type": "code",
   "execution_count": 102,
   "id": "27bc81d5",
   "metadata": {},
   "outputs": [],
   "source": [
    "# Defining the functions for getting the month, day and year from a given date in the mm/dd/yyyy format\n",
    "\n",
    "def get_month(date):\n",
    "    \"\"\"Returns the month when the date is the in the 'mm/dd/yyyy' format\"\"\"\n",
    "    return int(date[:2])\n",
    "\n",
    "def get_day(date):\n",
    "    \"\"\"Returns the day when the date is the in the 'mm/dd/yyyy' format\"\"\"\n",
    "    return int(date[3:5]) # TODO: Use string slicing to return the day\n",
    "\n",
    "def get_year(date):\n",
    "    \"\"\"Returns the year when the date is the in the 'mm/dd/yyyy' format\"\"\"\n",
    "    return int(date[6:])  # TODO: Use string slicing to return the year\n"
   ]
  },
  {
   "cell_type": "code",
   "execution_count": 103,
   "id": "b3b2823d",
   "metadata": {},
   "outputs": [
    {
     "data": {
      "text/plain": [
       "'San Ciriaco'"
      ]
     },
     "execution_count": 103,
     "metadata": {},
     "output_type": "execute_result"
    }
   ],
   "source": [
    "# Q11: Out of all hurricanes with more than 1000 deaths, what is the name of the hurricane that originated (formed) first?\n",
    "\n",
    "formed_first = None\n",
    "first_idx = 0\n",
    "\n",
    "for idx in range(project.count()):\n",
    "    name = project.get_name(idx)\n",
    "    deaths = project.get_deaths(idx)\n",
    "    year_formed = get_year(project.get_formed(idx))\n",
    "    \n",
    "    if deaths > 1000:\n",
    "        if formed_first == None or year_formed <= formed_first:\n",
    "            formed_first = year_formed\n",
    "            first_idx = idx\n",
    "\n",
    "name_first = project.get_name(first_idx)\n",
    "name_first\n"
   ]
  },
  {
   "cell_type": "code",
   "execution_count": 104,
   "id": "3be8846a",
   "metadata": {},
   "outputs": [],
   "source": [
    "# Function 2: deadliest_in_range(year1, year2)\n",
    "\n",
    "def deadliest_in_range(year1, year2):\n",
    "    \"\"\"\n",
    "    Gets the index of the deadliest (most deaths) hurricane formed or dissipated within the given year range.\n",
    "    year1 and year2 are inclusive bounds.\n",
    "\n",
    "    Returns the ID of the worst hurricane within the year range.\n",
    "    \"\"\"\n",
    "    deadliest_hurr_idx = 0\n",
    "    max_deaths = 0\n",
    "    \n",
    "    for idx in range(project.count()):\n",
    "        year_formed = get_year(project.get_formed(idx))\n",
    "        year_dissipated = get_year(project.get_dissipated(idx))\n",
    "        current_deaths = project.get_deaths(idx)\n",
    "        \n",
    "        if (year_formed >= year1 and year_formed <= year2) or (year_dissipated >= year1 and year_dissipated <= year2):\n",
    "            if current_deaths > max_deaths:\n",
    "                max_deaths = current_deaths\n",
    "                deadliest_hurr_idx = idx\n",
    "\n",
    "    return deadliest_hurr_idx\n",
    "                "
   ]
  },
  {
   "cell_type": "code",
   "execution_count": 105,
   "id": "6a1cb5b0",
   "metadata": {},
   "outputs": [
    {
     "data": {
      "text/plain": [
       "91610000000"
      ]
     },
     "execution_count": 105,
     "metadata": {},
     "output_type": "execute_result"
    }
   ],
   "source": [
    "# Q12: How much damage was done by the deadliest hurricane this century thus far (2001 to 2022, inclusive)?\n",
    "\n",
    "deadliest_damage = project.get_damage(deadliest_in_range(2001, 2022))\n",
    "format_damage(deadliest_damage)\n"
   ]
  },
  {
   "cell_type": "code",
   "execution_count": 106,
   "id": "1ca08d26",
   "metadata": {},
   "outputs": [
    {
     "data": {
      "text/plain": [
       "175"
      ]
     },
     "execution_count": 106,
     "metadata": {},
     "output_type": "execute_result"
    }
   ],
   "source": [
    "# Q13: What was the speed (in MPH) of the deadliest hurricane in the century that spans 1901 to 2000, inclusive?\n",
    "\n",
    "project.get_mph(deadliest_in_range(1901, 2000))\n"
   ]
  },
  {
   "cell_type": "code",
   "execution_count": 107,
   "id": "513bcac6",
   "metadata": {},
   "outputs": [
    {
     "data": {
      "text/plain": [
       "2017"
      ]
     },
     "execution_count": 107,
     "metadata": {},
     "output_type": "execute_result"
    }
   ],
   "source": [
    "# Q14: In this century (2001 to 2022, inclusive), which year has seen the deadliest hurricane so far?\n",
    "\n",
    "deadliest_idx = deadliest_in_range(2001, 2022)\n",
    "get_year(project.get_formed(deadliest_idx))\n"
   ]
  },
  {
   "cell_type": "code",
   "execution_count": 108,
   "id": "ffc5ca34",
   "metadata": {},
   "outputs": [
    {
     "data": {
      "text/plain": [
       "'Bob'"
      ]
     },
     "execution_count": 108,
     "metadata": {},
     "output_type": "execute_result"
    }
   ],
   "source": [
    "# Q15: What is the name of the slowest hurricane which resulted in exactly 5 deaths?\n",
    "\n",
    "slowest_hurr_idx = 0\n",
    "min_speed = project.get_mph(fastest_hurr_idx)\n",
    "\n",
    "for idx in range(project.count()):\n",
    "    name = project.get_name(idx)\n",
    "    current_speed = project.get_mph(idx)\n",
    "    current_deaths = project.get_deaths(idx)\n",
    "    \n",
    "    if current_deaths == 5 and current_speed <= min_speed:\n",
    "        min_speed = current_speed\n",
    "        slowest_hurr_idx = idx\n",
    "\n",
    "slowest_hurr = project.get_name(slowest_hurr_idx)\n",
    "slowest_hurr\n"
   ]
  },
  {
   "cell_type": "code",
   "execution_count": 109,
   "id": "4d2d94f8",
   "metadata": {},
   "outputs": [],
   "source": [
    "# Function 3: get_year_total(query_year)\n",
    "\n",
    "def get_year_total(query_year):\n",
    "    \"\"\"Gets the number of hurricanes formed in the specified year\"\"\"\n",
    "    \n",
    "    count = 0\n",
    "    for idx in range(project.count()):\n",
    "        year_formed = get_year(project.get_formed(idx))\n",
    "\n",
    "        if year_formed == query_year:\n",
    "            count += 1\n",
    "    \n",
    "    return count\n"
   ]
  },
  {
   "cell_type": "code",
   "execution_count": 110,
   "id": "9e538744",
   "metadata": {},
   "outputs": [
    {
     "data": {
      "text/plain": [
       "5"
      ]
     },
     "execution_count": 110,
     "metadata": {},
     "output_type": "execute_result"
    }
   ],
   "source": [
    "# Q16: How many hurricanes were formed in the year 2020?\n",
    "\n",
    "get_year_total(2020)\n"
   ]
  },
  {
   "cell_type": "code",
   "execution_count": 111,
   "id": "992cb249",
   "metadata": {},
   "outputs": [],
   "source": [
    "# Function 4: get_decade_total(start_of_decade)\n",
    "\n",
    "def get_decade_total(start_of_decade):\n",
    "    \"\"\"Gets the number of hurricanes formed in any year in the specified decade\"\"\"\n",
    "    # TODO: invoke get_year_total appropriately\n",
    "    \n",
    "    decade_total = 0\n",
    "    year1 = start_of_decade\n",
    "    year2 = start_of_decade + 9\n",
    "    \n",
    "    while year1 <= year2:\n",
    "        year_total = get_year_total(year1)\n",
    "        decade_total = decade_total + year_total\n",
    "        year1 += 1\n",
    "    \n",
    "    return decade_total\n"
   ]
  },
  {
   "cell_type": "code",
   "execution_count": 28,
   "id": "efa61634",
   "metadata": {},
   "outputs": [],
   "source": [
    "# Writing a function called num_of_hurrs to find the total number of hurricanes \n",
    "# formed between an inclusive range of years and using get_year_total to find year wise total\n",
    "\n",
    "def num_of_hurrs(year1, year2):\n",
    "    \n",
    "    year_diff = year2 - year1\n",
    "    total = 0\n",
    "    \n",
    "    while year1 <= year2:\n",
    "        year_total = get_year_total(year1)\n",
    "        total = total + year_total\n",
    "        year1 += 1\n",
    "    \n",
    "    return total\n"
   ]
  },
  {
   "cell_type": "code",
   "execution_count": 112,
   "id": "e24b0fc3",
   "metadata": {},
   "outputs": [
    {
     "data": {
      "text/plain": [
       "25"
      ]
     },
     "execution_count": 112,
     "metadata": {},
     "output_type": "execute_result"
    }
   ],
   "source": [
    "# Q17: How many hurricanes were formed in the last decade (2001 to 2010, inclusive)?\n",
    "\n",
    "num_of_hurrs(2001, 2010)\n"
   ]
  },
  {
   "cell_type": "code",
   "execution_count": 113,
   "id": "221b3b21",
   "metadata": {},
   "outputs": [
    {
     "data": {
      "text/plain": [
       "'1901 to 1910'"
      ]
     },
     "execution_count": 113,
     "metadata": {},
     "output_type": "execute_result"
    }
   ],
   "source": [
    "# Q18: Which decade in the 20th century suffered the least number of hurricanes?\n",
    "\n",
    "# Writing a function called least_hurr_decade to determine the decade with least number of hurricanes\n",
    "# Over an inclusive range of decades and using get_decade_total to find decade wise total\n",
    "\n",
    "def least_hurr_decade(start_year, num_of_decades):\n",
    "\n",
    "    end_year = start_year + ( 10 * num_of_decades) - 1\n",
    "    least_decade_total = get_decade_total(start_year) \n",
    "    least_decade_year = 0\n",
    "\n",
    "    while start_year <= end_year:\n",
    "        current_decade_total = get_decade_total(start_year)\n",
    "        if current_decade_total <= least_decade_total:\n",
    "            least_decade_total = current_decade_total\n",
    "            least_decade_year = start_year\n",
    "        start_year += 10\n",
    "\n",
    "    least_decade = str(least_decade_year) + \" to \" + str(least_decade_year + 9)\n",
    "    return least_decade\n",
    "\n",
    "least_hurr_decade(1901, 10)\n"
   ]
  },
  {
   "cell_type": "code",
   "execution_count": 114,
   "id": "0e1d5efc",
   "metadata": {},
   "outputs": [
    {
     "data": {
      "text/plain": [
       "15626"
      ]
     },
     "execution_count": 114,
     "metadata": {},
     "output_type": "execute_result"
    }
   ],
   "source": [
    "# Q19: How many deaths were caused by hurricanes that lasted across at least 2 different months?\n",
    "\n",
    "deaths_caused = 0\n",
    "\n",
    "for idx in range(project.count()):\n",
    "    name = project.get_name(idx)\n",
    "    deaths = project.get_deaths(idx)\n",
    "    \n",
    "    hurr_formed = project.get_formed(idx)\n",
    "    hurr_dissipated = project.get_dissipated(idx)\n",
    "    \n",
    "    year_formed = get_year(hurr_formed)\n",
    "    year_dissipated = get_year(hurr_dissipated)\n",
    "    \n",
    "    month_formed = get_month(hurr_formed)\n",
    "    month_dissipated = get_month(hurr_dissipated)\n",
    "        \n",
    "    if year_formed == year_dissipated:\n",
    "        month_diff = month_dissipated - month_formed\n",
    "        \n",
    "        if month_diff >= 1:\n",
    "            deaths_caused = deaths_caused + deaths\n",
    "    \n",
    "    else:\n",
    "        month_diff = (month_dissipated + 12) - month_formed\n",
    "        \n",
    "        if month_diff >= 1:\n",
    "            deaths_caused = deaths_caused + deaths\n",
    "            \n",
    "deaths_caused     \n"
   ]
  },
  {
   "cell_type": "code",
   "execution_count": 115,
   "id": "7c13fe20",
   "metadata": {},
   "outputs": [],
   "source": [
    "# Using get_number_of_days function to get the difference in days between two hurricanes\n",
    "\n",
    "def get_number_of_days(start_date, end_date):\n",
    "    \"\"\"Gets the number of days between the start_date (in 'mm/dd/yyyy' format) and end_date \n",
    "    (in 'mm/dd/yyyy' format)\"\"\"\n",
    "    # The second argument is a format string to tell the function how to process the date string\n",
    "    day1 = datetime.datetime.strptime(start_date, '%m/%d/%Y') \n",
    "    day2 = datetime.datetime.strptime(end_date, '%m/%d/%Y')\n",
    "    delta = day2 - day1\n",
    "    return delta.days\n"
   ]
  },
  {
   "cell_type": "code",
   "execution_count": 118,
   "id": "f2dcaf8e",
   "metadata": {},
   "outputs": [
    {
     "data": {
      "text/plain": [
       "'Olaf'"
      ]
     },
     "execution_count": 118,
     "metadata": {},
     "output_type": "execute_result"
    }
   ],
   "source": [
    "# Q20: What is the name of the first hurricane to form after the dissipation of the deadliest hurricane between 1990 and 2010 (inclusive)?\n",
    "\n",
    "deadliest_hurr_idx = deadliest_in_range(1990, 2010)\n",
    "deadliest_dissipated = project.get_dissipated(deadliest_hurr_idx)\n",
    "deadliest_dissipated_year = get_year(deadliest_dissipated)\n",
    "\n",
    "least_days = None\n",
    "least_days_idx = 0\n",
    "\n",
    "for idx in range(project.count()):\n",
    "    \n",
    "    formed_date = project.get_formed(idx)\n",
    "    formed_year = get_year(formed_date)\n",
    "    \n",
    "    dissipated_date = project.get_dissipated(idx)\n",
    "    dissipated_year = get_year(dissipated_date)\n",
    "    \n",
    "    days_diff = get_number_of_days(deadliest_dissipated, formed_date)\n",
    "    \n",
    "    if formed_year >= deadliest_dissipated_year and dissipated_year <= 2010:\n",
    "        if days_diff > 0:\n",
    "            if least_days == None or days_diff < least_days:\n",
    "                least_days = days_diff\n",
    "                least_days_idx = idx\n",
    "\n",
    "project.get_name(least_days_idx)\n"
   ]
  },
  {
   "cell_type": "code",
   "execution_count": null,
   "id": "87d066ce",
   "metadata": {},
   "outputs": [],
   "source": []
  }
 ],
 "metadata": {
  "kernelspec": {
   "display_name": "Python 3 (ipykernel)",
   "language": "python",
   "name": "python3"
  },
  "language_info": {
   "codemirror_mode": {
    "name": "ipython",
    "version": 3
   },
   "file_extension": ".py",
   "mimetype": "text/x-python",
   "name": "python",
   "nbconvert_exporter": "python",
   "pygments_lexer": "ipython3",
   "version": "3.9.7"
  }
 },
 "nbformat": 4,
 "nbformat_minor": 5
}
