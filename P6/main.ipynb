{
 "cells": [
  {
   "cell_type": "code",
   "execution_count": 1,
   "id": "13faab72",
   "metadata": {},
   "outputs": [],
   "source": [
    "# project: p6\n",
    "# submitter: ashik\n",
    "# partner: None\n",
    "# hours: 12"
   ]
  },
  {
   "cell_type": "code",
   "execution_count": 2,
   "id": "3ac828c5",
   "metadata": {},
   "outputs": [],
   "source": [
    "import csv"
   ]
  },
  {
   "cell_type": "code",
   "execution_count": 3,
   "id": "41350d24",
   "metadata": {},
   "outputs": [],
   "source": [
    "def process_csv(filename):\n",
    "    example_file = open(filename, encoding=\"utf-8\")\n",
    "    example_reader = csv.reader(example_file)\n",
    "    example_data = list(example_reader)\n",
    "    example_file.close()\n",
    "    return example_data"
   ]
  },
  {
   "cell_type": "code",
   "execution_count": 4,
   "id": "851913d8",
   "metadata": {},
   "outputs": [],
   "source": [
    "csv_rows = process_csv(\"airbnb.csv\")\n",
    "\n",
    "csv_header = csv_rows[0] \n",
    "\n",
    "csv_data = csv_rows[1:]\n"
   ]
  },
  {
   "cell_type": "code",
   "execution_count": 5,
   "id": "4f74bf72",
   "metadata": {},
   "outputs": [
    {
     "data": {
      "text/plain": [
       "['room_id',\n",
       " 'name',\n",
       " 'host_id',\n",
       " 'host_name',\n",
       " 'neighborhood_group',\n",
       " 'neighborhood',\n",
       " 'latitude',\n",
       " 'longitude',\n",
       " 'room_type',\n",
       " 'price',\n",
       " 'minimum_nights',\n",
       " 'number_of_reviews',\n",
       " 'last_review',\n",
       " 'reviews_per_month',\n",
       " 'calculated_host_listings_count',\n",
       " 'availability_365']"
      ]
     },
     "execution_count": 5,
     "metadata": {},
     "output_type": "execute_result"
    }
   ],
   "source": [
    "csv_header"
   ]
  },
  {
   "cell_type": "code",
   "execution_count": 6,
   "id": "d49d7aba",
   "metadata": {},
   "outputs": [],
   "source": [
    "# Using the cell Function from lab6 to get the cell content\n",
    "\n",
    "def cell(row_idx, col_name):\n",
    "    \n",
    "    col_idx = csv_header.index(col_name)\n",
    "    val = csv_data[row_idx][col_idx]\n",
    "    \n",
    "    int_list = [\"price\", \"minimum_nights\", \"number_of_reviews\", \\\n",
    "                \"calculated_host_listings_count\", \"availability_365\"]\n",
    "    float_list = [\"latitude\", \"longitude\", \"reviews_per_month\"]\n",
    "\n",
    "    if val == \"\":\n",
    "        return None\n",
    "    elif col_name in int_list:\n",
    "        return int(val)\n",
    "    elif col_name in float_list:\n",
    "        return float(val)\n",
    "    else:\n",
    "        return val\n",
    "    "
   ]
  },
  {
   "cell_type": "code",
   "execution_count": 7,
   "id": "4fc24c59",
   "metadata": {},
   "outputs": [
    {
     "data": {
      "text/plain": [
       "['Manhattan', 'Brooklyn', 'Bronx', 'Staten Island', 'Queens']"
      ]
     },
     "execution_count": 7,
     "metadata": {},
     "output_type": "execute_result"
    }
   ],
   "source": [
    "# Q1: What unique neighborhood groups are included in the Airbnb dataset?\n",
    "\n",
    "unq_neigh_group_list = list() \n",
    "\n",
    "for row_idx in range(len(csv_data)):\n",
    "    neigh_group = cell(row_idx, \"neighborhood_group\") \n",
    "    unq_neigh_group_list.append(neigh_group)\n",
    "    \n",
    "unq_neigh_group_list = list(set(unq_neigh_group_list))   \n",
    "unq_neigh_group_list\n"
   ]
  },
  {
   "cell_type": "code",
   "execution_count": 8,
   "id": "15be1bcc",
   "metadata": {},
   "outputs": [
    {
     "data": {
      "text/plain": [
       "152"
      ]
     },
     "execution_count": 8,
     "metadata": {},
     "output_type": "execute_result"
    }
   ],
   "source": [
    "# Q2: What is the average price of rooms in the Airbnb dataset?\n",
    "\n",
    "total = 0\n",
    "count = 0\n",
    "\n",
    "for row_idx in range(len(csv_data)):\n",
    "    price = cell(row_idx, \"price\") \n",
    "    total += price\n",
    "    count += 1\n",
    "\n",
    "avg = int(total / count)\n",
    "avg\n"
   ]
  },
  {
   "cell_type": "code",
   "execution_count": 9,
   "id": "5292d91c",
   "metadata": {},
   "outputs": [
    {
     "data": {
      "text/plain": [
       "252"
      ]
     },
     "execution_count": 9,
     "metadata": {},
     "output_type": "execute_result"
    }
   ],
   "source": [
    "# Q3: How many rooms are in the neighborhood of Inwood?\n",
    "\n",
    "count = 0\n",
    "\n",
    "for row_idx in range(len(csv_data)):\n",
    "    neigh = cell(row_idx, \"neighborhood\") \n",
    "    \n",
    "    if neigh.lower() == \"inwood\":\n",
    "        count += 1\n",
    "    \n",
    "count\n"
   ]
  },
  {
   "cell_type": "code",
   "execution_count": 10,
   "id": "d8a1f670",
   "metadata": {},
   "outputs": [],
   "source": [
    "# Function 1: find_room_names(phrase1, phrase2 = None)\n",
    "\n",
    "def find_room_names(phrase1, phrase2 = None):\n",
    "    \"\"\"\n",
    "    Returns a list of all the room names that contain the substrings (case insensitive match)\n",
    "    passed as arguments to the paramenters `phrase1` and `phrase2`(by default phrase2 is None) \n",
    "    \"\"\"\n",
    "    \n",
    "    room_list = list() \n",
    "    \n",
    "    phr1_in_list = False\n",
    "    phr2_in_list = False\n",
    "    \n",
    "    for row_idx in range(len(csv_data)):\n",
    "        room_name = cell(row_idx, \"name\") \n",
    "        if room_name == None:\n",
    "            continue\n",
    "        \n",
    "        name_list = room_name.split(\" \")\n",
    "        \n",
    "        for i in range(len(name_list)):\n",
    "        \n",
    "            if i < len(name_list) and phrase1.lower() in name_list[i].lower():\n",
    "                phr1_in_list = True\n",
    "                \n",
    "        if phrase2 == None:\n",
    "             if phr1_in_list == True:\n",
    "                room_list.append(room_name)\n",
    "            \n",
    "        else:\n",
    "            for j in range(len(name_list)):\n",
    "\n",
    "                if j < len(name_list) and phrase2.lower() in name_list[j].lower():\n",
    "                    phr2_in_list = True\n",
    "\n",
    "        if phr1_in_list == True and phr2_in_list == True:\n",
    "            room_list.append(room_name)\n",
    "            \n",
    "        phr1_in_list = False\n",
    "        phr2_in_list = False\n",
    "                \n",
    "    return room_list\n"
   ]
  },
  {
   "cell_type": "code",
   "execution_count": 11,
   "id": "cce74a56",
   "metadata": {},
   "outputs": [
    {
     "data": {
      "text/plain": [
       "['CBG CtyBGd HelpsHaiti rm#1:1-4',\n",
       " 'CBG Helps Haiti Room#2.5',\n",
       " 'CBG Helps Haiti Rm #2',\n",
       " 'CBG# 4Tiny room w/ huge window/AC',\n",
       " 'CBG Helps Haiti Rm #3',\n",
       " 'CBG HelpsHaiti #5 Suite']"
      ]
     },
     "execution_count": 11,
     "metadata": {},
     "output_type": "execute_result"
    }
   ],
   "source": [
    "# Q4: Find all room names that contains string \"CBG\".\n",
    "\n",
    "find_room_names(\"CBG\")\n"
   ]
  },
  {
   "cell_type": "code",
   "execution_count": 42,
   "id": "1c984cea",
   "metadata": {},
   "outputs": [
    {
     "data": {
      "text/plain": [
       "['Cozy studio/kitchen, bathroom',\n",
       " 'Big Kitchen, Beautiful Bathroom',\n",
       " 'JFK Studio Flat with Kitchen and Private bathroom',\n",
       " 'Pvt Room W/Pvt Bathroom; NO KITCHEN!',\n",
       " \"2 Bedrooms & 2 Bathrooms Apt in Hell's Kitchen\",\n",
       " 'Family Room/Kitchen/Shared Bathroom',\n",
       " 'Private room w/ bathroom & kitchen!',\n",
       " '2BR- Private Kitchen + Bathroom-20min to Manhattan',\n",
       " 'Cozy studio w/kitchen & bathroom. Great location',\n",
       " 'PRIVATE BATHROOM  AND KITCHEN AREA',\n",
       " '2 Bedrooms PRIVATE BATHROOM AND KITCHEN',\n",
       " 'The printing studio bedroom with garden in Bedstuy  !!Brooklyn. Historic neighborhood close to everything ! Full kitchen bathroom BBQ and porch at your disposal. Learn to print !!',\n",
       " '2 bedroom 1 bathroom kitchen and living area',\n",
       " 'Private Studio w/Bathroom & Kitchenette',\n",
       " 'Beautiful Private Bed & Bathroom (no kitchen)',\n",
       " 'Suite nearJFK with private bathroom and kitchen',\n",
       " 'Work Friendly, Private Bathroom and Kitchen',\n",
       " 'Back bedroom next to kitchen and bathroom',\n",
       " 'Private room with shared bathroom and kitchen',\n",
       " 'Cozy Room, kitchen bathroom & Patio Brooklyn NY',\n",
       " 'Private Large Bedroom Apt w/ Bathroom (NO KITCHEN)',\n",
       " 'Two Bedrooms with Four Beds, Bathroom, Kitchenette']"
      ]
     },
     "execution_count": 42,
     "metadata": {},
     "output_type": "execute_result"
    }
   ],
   "source": [
    "# Q5: Find all room names that contain both \"kitchen\" and \"bathroom\".\n",
    "\n",
    "find_room_names(\"kitchen\", \"bathroom\")\n"
   ]
  },
  {
   "cell_type": "code",
   "execution_count": 13,
   "id": "94e4eced",
   "metadata": {},
   "outputs": [
    {
     "data": {
      "text/plain": [
       "['Leisa', 'Elias', 'Elisa']"
      ]
     },
     "execution_count": 13,
     "metadata": {},
     "output_type": "execute_result"
    }
   ],
   "source": [
    "# Q6: Which host names are anagrams of the word \"aisle\"?\n",
    "\n",
    "# Writing a function to find anagrams of a given word in a particular column of the data set\n",
    "\n",
    "def find_anagrams(word, column):\n",
    "    \"\"\"\n",
    "    Returns a list of all the anagrams of the word (case insensitive match) in a particular column\n",
    "    passed as arguments to the paramenters `word` and `column`  \n",
    "    \"\"\"\n",
    "\n",
    "    sorted1 = sorted(word.lower())\n",
    "    anagram_list = list()\n",
    "\n",
    "    for row_idx in range(len(csv_data)):\n",
    "        column_word = cell(row_idx, column) \n",
    "\n",
    "        if column_word == None:\n",
    "            continue\n",
    "\n",
    "        if len(column_word) == len(word):\n",
    "            sorted2 = sorted(column_word.lower())\n",
    "\n",
    "            if sorted1 == sorted2:\n",
    "                anagram_list.append(column_word)\n",
    "\n",
    "    anagram_list = list(set(anagram_list))\n",
    "    \n",
    "    return anagram_list\n",
    "\n",
    "find_anagrams('aisle', 'host_name')\n"
   ]
  },
  {
   "cell_type": "code",
   "execution_count": 14,
   "id": "353d546e",
   "metadata": {},
   "outputs": [
    {
     "data": {
      "text/plain": [
       "['26785', '31994', '166172', '195233', '699472', '3474320']"
      ]
     },
     "execution_count": 14,
     "metadata": {},
     "output_type": "execute_result"
    }
   ],
   "source": [
    "# Q7: List all room ids that received more than 400 reviews in \"Brooklyn\".\n",
    "\n",
    "reviews_list = list()\n",
    "\n",
    "for row_idx in range(len(csv_data)):\n",
    "    room_id = cell(row_idx, \"room_id\") \n",
    "    num_of_rvws = cell(row_idx, \"number_of_reviews\") \n",
    "    neigh_group = cell(row_idx, \"neighborhood_group\") \n",
    "    \n",
    "    if room_id == None:\n",
    "        continue\n",
    "\n",
    "    if num_of_rvws > 400 and neigh_group.lower() == \"brooklyn\":\n",
    "        reviews_list.append(room_id)\n",
    "        \n",
    "reviews_list\n"
   ]
  },
  {
   "cell_type": "code",
   "execution_count": 35,
   "id": "324239b8",
   "metadata": {},
   "outputs": [
    {
     "data": {
      "text/plain": [
       "2.2159641752458334"
      ]
     },
     "execution_count": 35,
     "metadata": {},
     "output_type": "execute_result"
    }
   ],
   "source": [
    "# Q8: What percentage of rooms in Manhattan neighborhood group are of shared type (\"Shared room\")?\n",
    "\n",
    "total_rooms = 0\n",
    "shared_rooms = 0\n",
    "\n",
    "for row_idx in range(len(csv_data)):\n",
    "    room_type = cell(row_idx, \"room_type\")\n",
    "    neigh_group = cell(row_idx, \"neighborhood_group\")\n",
    "    \n",
    "    if room_type == None:\n",
    "        continue\n",
    "        \n",
    "    if neigh_group.lower() == \"manhattan\":\n",
    "        total_rooms += 1\n",
    "        \n",
    "        if room_type.lower() == \"shared room\":\n",
    "            shared_rooms += 1    \n",
    "\n",
    "percent = (shared_rooms / total_rooms) * 100\n",
    "percent\n"
   ]
  },
  {
   "cell_type": "code",
   "execution_count": 16,
   "id": "a5482c46",
   "metadata": {},
   "outputs": [
    {
     "data": {
      "text/plain": [
       "['391948', '6072842', '7026258', '8482165', '10685496', '13040683']"
      ]
     },
     "execution_count": 16,
     "metadata": {},
     "output_type": "execute_result"
    }
   ],
   "source": [
    "# Q9: Which shared room ids in Queens neighborhood group received their last review in the year 2016 or earlier?\n",
    "\n",
    "shared_room_id_list = list()\n",
    "\n",
    "for row_idx in range(len(csv_data)):\n",
    "    room_id = cell(row_idx, \"room_id\")\n",
    "    room_type = cell(row_idx, \"room_type\")\n",
    "    neigh_group = cell(row_idx, \"neighborhood_group\")\n",
    "    last_review = cell(row_idx, \"last_review\")\n",
    "    \n",
    "    if last_review == None:\n",
    "        continue\n",
    "        \n",
    "    if neigh_group.lower() == \"queens\" and room_type.lower() == \"shared room\":\n",
    "        last_rvw_year = int(last_review[:4])\n",
    "        \n",
    "        if last_rvw_year <= 2016:\n",
    "            shared_room_id_list.append(room_id)\n",
    "        \n",
    "shared_room_id_list        \n",
    "    "
   ]
  },
  {
   "cell_type": "code",
   "execution_count": 17,
   "id": "87065eed",
   "metadata": {},
   "outputs": [],
   "source": [
    "# Function 2: availability_per_host_name(search_host_name, search_neighborhood = None)\n",
    "\n",
    "def availability_per_host_name(search_host_name, search_neighborhood = None):\n",
    "    \"\"\"\n",
    "    Returns a list of availabilities (availability_365) for the rooms with the \n",
    "    specified host_name (case insensitive match) and within the specified neighborhood. \n",
    "    If search_neighborhood is None, returns a list of availabilities for all rooms with \n",
    "    the specified host_name (case insensitive match).\n",
    "    \"\"\"\n",
    "    \n",
    "    avail_list = list()\n",
    "    \n",
    "    for row_idx in range(len(csv_data)):\n",
    "        host_name = cell(row_idx, \"host_name\")\n",
    "        avail_365 = cell(row_idx, \"availability_365\")\n",
    "        neigh = cell(row_idx, \"neighborhood\")\n",
    "    \n",
    "        if avail_365 == None or host_name == None:\n",
    "            continue\n",
    "        \n",
    "        if search_neighborhood != None:\n",
    "            if neigh.lower() == search_neighborhood.lower():\n",
    "                if host_name.lower() == search_host_name.lower():\n",
    "                    avail_list.append(avail_365)\n",
    "                    \n",
    "        else:\n",
    "            if host_name.lower() == search_host_name.lower():\n",
    "                avail_list.append(avail_365)\n",
    "\n",
    "    return avail_list\n",
    "    "
   ]
  },
  {
   "cell_type": "code",
   "execution_count": 18,
   "id": "82f66c64",
   "metadata": {},
   "outputs": [
    {
     "data": {
      "text/plain": [
       "[301, 300, 285, 281, 279, 279, 273, 265, 229]"
      ]
     },
     "execution_count": 18,
     "metadata": {},
     "output_type": "execute_result"
    }
   ],
   "source": [
    "# Q10: What are the different availabilities of all rooms in the neighborhood \"Long Island City\" whose host name is \"Leo\"?\n",
    "\n",
    "avail_order = availability_per_host_name(\"Leo\", \"Long Island City\")\n",
    "\n",
    "avail_desc_order = sorted(avail_order, reverse = True)\n",
    "\n",
    "avail_desc_order\n"
   ]
  },
  {
   "cell_type": "code",
   "execution_count": 19,
   "id": "05e04efb",
   "metadata": {},
   "outputs": [
    {
     "data": {
      "text/plain": [
       "357"
      ]
     },
     "execution_count": 19,
     "metadata": {},
     "output_type": "execute_result"
    }
   ],
   "source": [
    "# Q11: What is the difference between the most and least availability among all rooms whose host name is \"Pauline\"?\n",
    "\n",
    "avail_order = sorted(availability_per_host_name(\"Pauline\"))\n",
    "\n",
    "avail_diff = avail_order[-1] - avail_order[0]\n",
    "\n",
    "avail_diff\n"
   ]
  },
  {
   "cell_type": "code",
   "execution_count": 20,
   "id": "91a09f5c",
   "metadata": {},
   "outputs": [],
   "source": [
    "# Function 3: find_prices_within(lat_min, lat_max, long_min, long_max)\n",
    "\n",
    "def find_prices_within(lat_min, lat_max, long_min, long_max):\n",
    "    \"\"\"\n",
    "    Returns a list of prices of all the rooms within the geographical location between and including\n",
    "    the latitudes lat_min and lat_max and longitudes long_min and long_max.\n",
    "    \"\"\"\n",
    "    price_list = list()\n",
    "\n",
    "    for row_idx in range(len(csv_data)):\n",
    "        price = cell(row_idx, \"price\")\n",
    "        latitude = cell(row_idx, \"latitude\")\n",
    "        longitude = cell(row_idx, \"longitude\")\n",
    "        \n",
    "        if price == None:\n",
    "            continue\n",
    "            \n",
    "        if lat_min <= latitude <= lat_max:\n",
    "            if long_min <= longitude <= long_max:\n",
    "                price_list.append(price)\n",
    "    \n",
    "    return price_list\n"
   ]
  },
  {
   "cell_type": "code",
   "execution_count": 21,
   "id": "f06152fe",
   "metadata": {},
   "outputs": [
    {
     "data": {
      "text/plain": [
       "75"
      ]
     },
     "execution_count": 21,
     "metadata": {},
     "output_type": "execute_result"
    }
   ],
   "source": [
    "# Q12: What is the lowest price room near NYU (40.729 <= latitude <= 40.73, -74.01 <= longitude <= -74.00)??\n",
    "\n",
    "price_order = find_prices_within(40.729, 40.73, -74.01, -74.00)\n",
    "\n",
    "sorted_price = sorted(price_order)\n",
    "\n",
    "least_price = sorted_price[0]\n",
    "\n",
    "least_price\n"
   ]
  },
  {
   "cell_type": "code",
   "execution_count": 36,
   "id": "380bd5c6",
   "metadata": {},
   "outputs": [],
   "source": [
    "# Using the median function from lab6 to find the median\n",
    "\n",
    "def median(some_list):\n",
    "    \"\"\"\n",
    "    Returns median of a list passed as arugment\n",
    "    \"\"\"\n",
    "    sorted_list = sorted(some_list)    \n",
    "    length = len(some_list)\n",
    "\n",
    "    if length > 0:\n",
    "        if length % 2 != 0:\n",
    "            middle = (length - 1) // 2\n",
    "            median = int(sorted_list[middle])\n",
    "            return median\n",
    "\n",
    "        else:\n",
    "            first_middle = int(sorted_list[length // 2]) \n",
    "            second_middle =  int(sorted_list[(length // 2) - 1])\n",
    "            median = (first_middle + second_middle) / 2\n",
    "            return median\n",
    "    else:\n",
    "        return None\n"
   ]
  },
  {
   "cell_type": "code",
   "execution_count": 23,
   "id": "98c4b0f0",
   "metadata": {},
   "outputs": [
    {
     "data": {
      "text/plain": [
       "100"
      ]
     },
     "execution_count": 23,
     "metadata": {},
     "output_type": "execute_result"
    }
   ],
   "source": [
    "# Q13: What is the median price of the rooms near Columbia University (40.79 <= latitude <= 40.80, -73.96 <= longitude <= -73.95)?\n",
    "\n",
    "price_order = find_prices_within(40.79, 40.80, -73.96, -73.95)\n",
    "\n",
    "median_price = median(price_order)\n",
    "\n",
    "median_price\n"
   ]
  },
  {
   "cell_type": "code",
   "execution_count": 24,
   "id": "e5930b84",
   "metadata": {},
   "outputs": [
    {
     "data": {
      "text/plain": [
       "93.10344827586206"
      ]
     },
     "execution_count": 24,
     "metadata": {},
     "output_type": "execute_result"
    }
   ],
   "source": [
    "# Q14: What percentage of rooms near Rockerfeller Center (40.749 <= latitude <= 40.75, -73.98 <= longitude <= -73.97) have a price more than $100?\n",
    "\n",
    "price_order = find_prices_within(40.749, 40.75, -73.98, -73.97)\n",
    "total_rooms = len(price_order)\n",
    "exp_rooms = 0\n",
    "\n",
    "for i in range(len(price_order)):\n",
    "    if price_order[i] > 100:\n",
    "        exp_rooms += 1\n",
    "\n",
    "percent = (exp_rooms / total_rooms) * 100\n",
    "percent\n"
   ]
  },
  {
   "cell_type": "code",
   "execution_count": 25,
   "id": "508d4311",
   "metadata": {},
   "outputs": [],
   "source": [
    "# Function 4: find_average_ratio(neighborhood)\n",
    "\n",
    "def find_average_ratio(neighborhood):\n",
    "    \"\"\"\n",
    "    Returns the average ratio of number of reviews to availability with neighborhood passed as arugment\n",
    "    \"\"\"\n",
    "\n",
    "    ar_total = 0\n",
    "    ar_count = 0\n",
    "    ar_list = list()\n",
    "    \n",
    "    for row_idx in range(len(csv_data)):\n",
    "        neigh = cell(row_idx, \"neighborhood\")\n",
    "        avail_365 = cell(row_idx, \"availability_365\")\n",
    "        num_of_rvws = cell(row_idx, \"number_of_reviews\") \n",
    "        \n",
    "        if avail_365 == None or avail_365 == 0 or num_of_rvws == None or num_of_rvws == 0:\n",
    "            continue \n",
    "        \n",
    "        if neigh.lower() == neighborhood.lower():\n",
    "\n",
    "            avg_ratio = num_of_rvws / avail_365\n",
    "            ar_list.append(avg_ratio)\n",
    "    \n",
    "    for i in range(len(ar_list)):\n",
    "        ar_total += ar_list[i] \n",
    "        ar_count += 1 \n",
    "        \n",
    "    avg_ratio = ar_total / ar_count\n",
    "    \n",
    "    return avg_ratio\n"
   ]
  },
  {
   "cell_type": "code",
   "execution_count": 26,
   "id": "eee52d79",
   "metadata": {},
   "outputs": [
    {
     "data": {
      "text/plain": [
       "0.16246401115474798"
      ]
     },
     "execution_count": 26,
     "metadata": {},
     "output_type": "execute_result"
    }
   ],
   "source": [
    "# Q15: What is the average ratio of the number of reviews to availability in the neighborhood Arrochar?\n",
    "\n",
    "find_average_ratio(\"Arrochar\")\n"
   ]
  },
  {
   "cell_type": "code",
   "execution_count": 27,
   "id": "67c6c741",
   "metadata": {},
   "outputs": [
    {
     "data": {
      "text/plain": [
       "0.22990490380026196"
      ]
     },
     "execution_count": 27,
     "metadata": {},
     "output_type": "execute_result"
    }
   ],
   "source": [
    "# Q16: What is the average ratio of the number of reviews to availability in the neighborhood Tompkinsville?\n",
    "\n",
    "find_average_ratio(\"Tompkinsville\")\n"
   ]
  },
  {
   "cell_type": "code",
   "execution_count": 28,
   "id": "1de8fb3c",
   "metadata": {},
   "outputs": [
    {
     "data": {
      "text/plain": [
       "'Cobble Hill'"
      ]
     },
     "execution_count": 28,
     "metadata": {},
     "output_type": "execute_result"
    }
   ],
   "source": [
    "# Q17: Which neighborhood in the neighborhood group Brooklyn has the highest average ratio of the number of reviews to availability?\n",
    "\n",
    "neigh_list = list()\n",
    "highest_ar = None\n",
    "\n",
    "for row_idx in range(len(csv_data)):\n",
    "    neigh = cell(row_idx, \"neighborhood\")\n",
    "    neigh_group = cell(row_idx, \"neighborhood_group\")\n",
    "    \n",
    "    if neigh_group == None:\n",
    "        continue\n",
    "        \n",
    "    if neigh_group.lower() == \"brooklyn\":\n",
    "        neigh_list.append(neigh)\n",
    "\n",
    "neigh_list = list(set(neigh_list))\n",
    "\n",
    "for i in range(len(neigh_list)):\n",
    "    avg_ratio = find_average_ratio(neigh_list[i])\n",
    "    \n",
    "    if highest_ar == None or avg_ratio > highest_ar:\n",
    "        highest_ar = avg_ratio\n",
    "        highest_ar_neigh = neigh_list[i] \n",
    "\n",
    "highest_ar_neigh\n"
   ]
  },
  {
   "cell_type": "code",
   "execution_count": 29,
   "id": "34be4a42",
   "metadata": {},
   "outputs": [],
   "source": [
    "# Function 5: secondary_word_in_found_rooms(find_room_word, secondary_word)\n",
    "\n",
    "def secondary_word_in_found_rooms(find_room_word, secondary_word):\n",
    "    \"\"\"\n",
    "    Returns the percentage of names containing one word find_room_word (case insensitive match)\n",
    "    that also contains another word secondary_word (case insensitive match).\n",
    "    \"\"\"    \n",
    "    \n",
    "    one_word_in_list = find_room_names(find_room_word)\n",
    "    two_words_in_list = find_room_names(find_room_word, secondary_word)\n",
    "    \n",
    "    total_one_word = len(one_word_in_list)\n",
    "    total_two_words = len(two_words_in_list)\n",
    "    \n",
    "    percent = (total_two_words / total_one_word) * 100\n",
    "    \n",
    "    return percent\n"
   ]
  },
  {
   "cell_type": "code",
   "execution_count": 30,
   "id": "fac0ccdc",
   "metadata": {},
   "outputs": [
    {
     "data": {
      "text/plain": [
       "9.649122807017543"
      ]
     },
     "execution_count": 30,
     "metadata": {},
     "output_type": "execute_result"
    }
   ],
   "source": [
    "# Q18: What percentage of rooms whose names contain the word \"quiet\" also contain the word \"clean\"?\n",
    "\n",
    "secondary_word_in_found_rooms('quiet', 'clean')\n"
   ]
  },
  {
   "cell_type": "code",
   "execution_count": 31,
   "id": "15d74ec7",
   "metadata": {},
   "outputs": [
    {
     "data": {
      "text/plain": [
       "3.847418612298586"
      ]
     },
     "execution_count": 31,
     "metadata": {},
     "output_type": "execute_result"
    }
   ],
   "source": [
    "# Q19: What percentage of rooms whose names contain the word \"sunny\" also contain the word \"beautiful\"?\n",
    "\n",
    "secondary_word_in_found_rooms('sunny', 'beautiful')\n"
   ]
  },
  {
   "cell_type": "code",
   "execution_count": 32,
   "id": "fb2e5b85",
   "metadata": {},
   "outputs": [
    {
     "data": {
      "text/plain": [
       "30"
      ]
     },
     "execution_count": 32,
     "metadata": {},
     "output_type": "execute_result"
    }
   ],
   "source": [
    "# Q20: What is the minimum amount of money one needs to spend to stay for 3 days in Queens, and then 4 days in Brooklyn?\n",
    "\n",
    "# Writing a function to find the lowest price of a room in a given neighborhood group\n",
    "\n",
    "def find_lowest_price(neighborhood_group, days = 1):\n",
    "    \"\"\"\n",
    "    Returns the lowest price of a room in the neighborhood group for the number of days \n",
    "    that are passed as arguments (neighborhood_group should be a string and days should be an integer).\n",
    "    \"\"\" \n",
    "    \n",
    "    min_price = None\n",
    "    price_list = list()\n",
    "    \n",
    "    for row_idx in range(len(csv_data)):\n",
    "        price = cell(row_idx, \"price\")\n",
    "        avail_365 = cell(row_idx, \"availability_365\")\n",
    "        min_nights = cell(row_idx, \"minimum_nights\")\n",
    "        neigh_group = cell(row_idx, \"neighborhood_group\")\n",
    "    \n",
    "        if avail_365 == None or min_nights == None:\n",
    "            continue\n",
    "            \n",
    "        if neigh_group.lower() == neighborhood_group.lower():\n",
    "            if avail_365 >= days and min_nights <= days:\n",
    "                price_list.append(price)\n",
    "        \n",
    "    price_list = list(set(price_list))\n",
    "    sorted_price_list = sorted(price_list)\n",
    "    min_price = sorted_price_list[0]\n",
    "            \n",
    "    return min_price  \n",
    "\n",
    "lowest_in_queens = find_lowest_price(\"queens\", 3)\n",
    "\n",
    "lowest_in_brooklyn = find_lowest_price(\"brooklyn\", 4)\n",
    "\n",
    "total_cost = lowest_in_queens * 3 + lowest_in_brooklyn * 4\n",
    "total_cost\n"
   ]
  },
  {
   "cell_type": "code",
   "execution_count": null,
   "id": "63d2f4e6",
   "metadata": {},
   "outputs": [],
   "source": []
  }
 ],
 "metadata": {
  "kernelspec": {
   "display_name": "Python 3 (ipykernel)",
   "language": "python",
   "name": "python3"
  },
  "language_info": {
   "codemirror_mode": {
    "name": "ipython",
    "version": 3
   },
   "file_extension": ".py",
   "mimetype": "text/x-python",
   "name": "python",
   "nbconvert_exporter": "python",
   "pygments_lexer": "ipython3",
   "version": "3.9.7"
  }
 },
 "nbformat": 4,
 "nbformat_minor": 5
}
